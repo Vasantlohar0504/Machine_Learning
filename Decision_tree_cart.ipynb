{
 "cells": [
  {
   "cell_type": "code",
   "execution_count": 1,
   "metadata": {
    "executionInfo": {
     "elapsed": 6,
     "status": "ok",
     "timestamp": 1640344602212,
     "user": {
      "displayName": "Indeed Inspiring",
      "photoUrl": "https://lh3.googleusercontent.com/a-/AOh14GjJtTSXVwEn_JtFhBOkt3rDxmno-6yYadcJbGXH6Q=s64",
      "userId": "12904657308681625524"
     },
     "user_tz": -330
    },
    "id": "6VUhbwReJO-2"
   },
   "outputs": [],
   "source": [
    "import pandas as pd"
   ]
  },
  {
   "cell_type": "code",
   "execution_count": 2,
   "metadata": {
    "executionInfo": {
     "elapsed": 371,
     "status": "ok",
     "timestamp": 1640344624438,
     "user": {
      "displayName": "Indeed Inspiring",
      "photoUrl": "https://lh3.googleusercontent.com/a-/AOh14GjJtTSXVwEn_JtFhBOkt3rDxmno-6yYadcJbGXH6Q=s64",
      "userId": "12904657308681625524"
     },
     "user_tz": -330
    },
    "id": "bNvDV98GKEFH"
   },
   "outputs": [],
   "source": [
    "dataset = pd.read_csv(\"Social_Network_Ads.csv\")"
   ]
  },
  {
   "cell_type": "code",
   "execution_count": 3,
   "metadata": {
    "colab": {
     "base_uri": "https://localhost:8080/",
     "height": 424
    },
    "executionInfo": {
     "elapsed": 430,
     "status": "ok",
     "timestamp": 1640344627956,
     "user": {
      "displayName": "Indeed Inspiring",
      "photoUrl": "https://lh3.googleusercontent.com/a-/AOh14GjJtTSXVwEn_JtFhBOkt3rDxmno-6yYadcJbGXH6Q=s64",
      "userId": "12904657308681625524"
     },
     "user_tz": -330
    },
    "id": "YTf-d0mVKJfQ",
    "outputId": "54146630-c9fd-46b5-e2f8-8589c8140f9b"
   },
   "outputs": [
    {
     "data": {
      "text/html": [
       "<div>\n",
       "<style scoped>\n",
       "    .dataframe tbody tr th:only-of-type {\n",
       "        vertical-align: middle;\n",
       "    }\n",
       "\n",
       "    .dataframe tbody tr th {\n",
       "        vertical-align: top;\n",
       "    }\n",
       "\n",
       "    .dataframe thead th {\n",
       "        text-align: right;\n",
       "    }\n",
       "</style>\n",
       "<table border=\"1\" class=\"dataframe\">\n",
       "  <thead>\n",
       "    <tr style=\"text-align: right;\">\n",
       "      <th></th>\n",
       "      <th>User ID</th>\n",
       "      <th>Gender</th>\n",
       "      <th>Age</th>\n",
       "      <th>EstimatedSalary</th>\n",
       "      <th>Purchased</th>\n",
       "    </tr>\n",
       "  </thead>\n",
       "  <tbody>\n",
       "    <tr>\n",
       "      <th>0</th>\n",
       "      <td>15624510</td>\n",
       "      <td>Male</td>\n",
       "      <td>19</td>\n",
       "      <td>19000</td>\n",
       "      <td>0</td>\n",
       "    </tr>\n",
       "    <tr>\n",
       "      <th>1</th>\n",
       "      <td>15810944</td>\n",
       "      <td>Male</td>\n",
       "      <td>35</td>\n",
       "      <td>20000</td>\n",
       "      <td>0</td>\n",
       "    </tr>\n",
       "    <tr>\n",
       "      <th>2</th>\n",
       "      <td>15668575</td>\n",
       "      <td>Female</td>\n",
       "      <td>26</td>\n",
       "      <td>43000</td>\n",
       "      <td>0</td>\n",
       "    </tr>\n",
       "    <tr>\n",
       "      <th>3</th>\n",
       "      <td>15603246</td>\n",
       "      <td>Female</td>\n",
       "      <td>27</td>\n",
       "      <td>57000</td>\n",
       "      <td>0</td>\n",
       "    </tr>\n",
       "    <tr>\n",
       "      <th>4</th>\n",
       "      <td>15804002</td>\n",
       "      <td>Male</td>\n",
       "      <td>19</td>\n",
       "      <td>76000</td>\n",
       "      <td>0</td>\n",
       "    </tr>\n",
       "    <tr>\n",
       "      <th>...</th>\n",
       "      <td>...</td>\n",
       "      <td>...</td>\n",
       "      <td>...</td>\n",
       "      <td>...</td>\n",
       "      <td>...</td>\n",
       "    </tr>\n",
       "    <tr>\n",
       "      <th>395</th>\n",
       "      <td>15691863</td>\n",
       "      <td>Female</td>\n",
       "      <td>46</td>\n",
       "      <td>41000</td>\n",
       "      <td>1</td>\n",
       "    </tr>\n",
       "    <tr>\n",
       "      <th>396</th>\n",
       "      <td>15706071</td>\n",
       "      <td>Male</td>\n",
       "      <td>51</td>\n",
       "      <td>23000</td>\n",
       "      <td>1</td>\n",
       "    </tr>\n",
       "    <tr>\n",
       "      <th>397</th>\n",
       "      <td>15654296</td>\n",
       "      <td>Female</td>\n",
       "      <td>50</td>\n",
       "      <td>20000</td>\n",
       "      <td>1</td>\n",
       "    </tr>\n",
       "    <tr>\n",
       "      <th>398</th>\n",
       "      <td>15755018</td>\n",
       "      <td>Male</td>\n",
       "      <td>36</td>\n",
       "      <td>33000</td>\n",
       "      <td>0</td>\n",
       "    </tr>\n",
       "    <tr>\n",
       "      <th>399</th>\n",
       "      <td>15594041</td>\n",
       "      <td>Female</td>\n",
       "      <td>49</td>\n",
       "      <td>36000</td>\n",
       "      <td>1</td>\n",
       "    </tr>\n",
       "  </tbody>\n",
       "</table>\n",
       "<p>400 rows × 5 columns</p>\n",
       "</div>"
      ],
      "text/plain": [
       "      User ID  Gender  Age  EstimatedSalary  Purchased\n",
       "0    15624510    Male   19            19000          0\n",
       "1    15810944    Male   35            20000          0\n",
       "2    15668575  Female   26            43000          0\n",
       "3    15603246  Female   27            57000          0\n",
       "4    15804002    Male   19            76000          0\n",
       "..        ...     ...  ...              ...        ...\n",
       "395  15691863  Female   46            41000          1\n",
       "396  15706071    Male   51            23000          1\n",
       "397  15654296  Female   50            20000          1\n",
       "398  15755018    Male   36            33000          0\n",
       "399  15594041  Female   49            36000          1\n",
       "\n",
       "[400 rows x 5 columns]"
      ]
     },
     "execution_count": 3,
     "metadata": {},
     "output_type": "execute_result"
    }
   ],
   "source": [
    "dataset"
   ]
  },
  {
   "cell_type": "code",
   "execution_count": 4,
   "metadata": {
    "executionInfo": {
     "elapsed": 6,
     "status": "ok",
     "timestamp": 1640345100230,
     "user": {
      "displayName": "Indeed Inspiring",
      "photoUrl": "https://lh3.googleusercontent.com/a-/AOh14GjJtTSXVwEn_JtFhBOkt3rDxmno-6yYadcJbGXH6Q=s64",
      "userId": "12904657308681625524"
     },
     "user_tz": -330
    },
    "id": "GYss6KeNL3l4"
   },
   "outputs": [],
   "source": [
    "X = dataset.iloc[:,[2,3]].values"
   ]
  },
  {
   "cell_type": "code",
   "execution_count": 5,
   "metadata": {
    "executionInfo": {
     "elapsed": 385,
     "status": "ok",
     "timestamp": 1640345122706,
     "user": {
      "displayName": "Indeed Inspiring",
      "photoUrl": "https://lh3.googleusercontent.com/a-/AOh14GjJtTSXVwEn_JtFhBOkt3rDxmno-6yYadcJbGXH6Q=s64",
      "userId": "12904657308681625524"
     },
     "user_tz": -330
    },
    "id": "7oOYOyL0L-eV"
   },
   "outputs": [],
   "source": [
    "y = dataset.iloc[:,4].values"
   ]
  },
  {
   "cell_type": "code",
   "execution_count": 6,
   "metadata": {
    "colab": {
     "base_uri": "https://localhost:8080/"
    },
    "executionInfo": {
     "elapsed": 11,
     "status": "ok",
     "timestamp": 1640345129138,
     "user": {
      "displayName": "Indeed Inspiring",
      "photoUrl": "https://lh3.googleusercontent.com/a-/AOh14GjJtTSXVwEn_JtFhBOkt3rDxmno-6yYadcJbGXH6Q=s64",
      "userId": "12904657308681625524"
     },
     "user_tz": -330
    },
    "id": "bGFAg_VTL-iF",
    "outputId": "9feb7fe7-c575-40d5-cc02-a4eeda308e14"
   },
   "outputs": [
    {
     "data": {
      "text/plain": [
       "(array([[    19,  19000],\n",
       "        [    35,  20000],\n",
       "        [    26,  43000],\n",
       "        [    27,  57000],\n",
       "        [    19,  76000],\n",
       "        [    27,  58000],\n",
       "        [    27,  84000],\n",
       "        [    32, 150000],\n",
       "        [    25,  33000],\n",
       "        [    35,  65000],\n",
       "        [    26,  80000],\n",
       "        [    26,  52000],\n",
       "        [    20,  86000],\n",
       "        [    32,  18000],\n",
       "        [    18,  82000],\n",
       "        [    29,  80000],\n",
       "        [    47,  25000],\n",
       "        [    45,  26000],\n",
       "        [    46,  28000],\n",
       "        [    48,  29000],\n",
       "        [    45,  22000],\n",
       "        [    47,  49000],\n",
       "        [    48,  41000],\n",
       "        [    45,  22000],\n",
       "        [    46,  23000],\n",
       "        [    47,  20000],\n",
       "        [    49,  28000],\n",
       "        [    47,  30000],\n",
       "        [    29,  43000],\n",
       "        [    31,  18000],\n",
       "        [    31,  74000],\n",
       "        [    27, 137000],\n",
       "        [    21,  16000],\n",
       "        [    28,  44000],\n",
       "        [    27,  90000],\n",
       "        [    35,  27000],\n",
       "        [    33,  28000],\n",
       "        [    30,  49000],\n",
       "        [    26,  72000],\n",
       "        [    27,  31000],\n",
       "        [    27,  17000],\n",
       "        [    33,  51000],\n",
       "        [    35, 108000],\n",
       "        [    30,  15000],\n",
       "        [    28,  84000],\n",
       "        [    23,  20000],\n",
       "        [    25,  79000],\n",
       "        [    27,  54000],\n",
       "        [    30, 135000],\n",
       "        [    31,  89000],\n",
       "        [    24,  32000],\n",
       "        [    18,  44000],\n",
       "        [    29,  83000],\n",
       "        [    35,  23000],\n",
       "        [    27,  58000],\n",
       "        [    24,  55000],\n",
       "        [    23,  48000],\n",
       "        [    28,  79000],\n",
       "        [    22,  18000],\n",
       "        [    32, 117000],\n",
       "        [    27,  20000],\n",
       "        [    25,  87000],\n",
       "        [    23,  66000],\n",
       "        [    32, 120000],\n",
       "        [    59,  83000],\n",
       "        [    24,  58000],\n",
       "        [    24,  19000],\n",
       "        [    23,  82000],\n",
       "        [    22,  63000],\n",
       "        [    31,  68000],\n",
       "        [    25,  80000],\n",
       "        [    24,  27000],\n",
       "        [    20,  23000],\n",
       "        [    33, 113000],\n",
       "        [    32,  18000],\n",
       "        [    34, 112000],\n",
       "        [    18,  52000],\n",
       "        [    22,  27000],\n",
       "        [    28,  87000],\n",
       "        [    26,  17000],\n",
       "        [    30,  80000],\n",
       "        [    39,  42000],\n",
       "        [    20,  49000],\n",
       "        [    35,  88000],\n",
       "        [    30,  62000],\n",
       "        [    31, 118000],\n",
       "        [    24,  55000],\n",
       "        [    28,  85000],\n",
       "        [    26,  81000],\n",
       "        [    35,  50000],\n",
       "        [    22,  81000],\n",
       "        [    30, 116000],\n",
       "        [    26,  15000],\n",
       "        [    29,  28000],\n",
       "        [    29,  83000],\n",
       "        [    35,  44000],\n",
       "        [    35,  25000],\n",
       "        [    28, 123000],\n",
       "        [    35,  73000],\n",
       "        [    28,  37000],\n",
       "        [    27,  88000],\n",
       "        [    28,  59000],\n",
       "        [    32,  86000],\n",
       "        [    33, 149000],\n",
       "        [    19,  21000],\n",
       "        [    21,  72000],\n",
       "        [    26,  35000],\n",
       "        [    27,  89000],\n",
       "        [    26,  86000],\n",
       "        [    38,  80000],\n",
       "        [    39,  71000],\n",
       "        [    37,  71000],\n",
       "        [    38,  61000],\n",
       "        [    37,  55000],\n",
       "        [    42,  80000],\n",
       "        [    40,  57000],\n",
       "        [    35,  75000],\n",
       "        [    36,  52000],\n",
       "        [    40,  59000],\n",
       "        [    41,  59000],\n",
       "        [    36,  75000],\n",
       "        [    37,  72000],\n",
       "        [    40,  75000],\n",
       "        [    35,  53000],\n",
       "        [    41,  51000],\n",
       "        [    39,  61000],\n",
       "        [    42,  65000],\n",
       "        [    26,  32000],\n",
       "        [    30,  17000],\n",
       "        [    26,  84000],\n",
       "        [    31,  58000],\n",
       "        [    33,  31000],\n",
       "        [    30,  87000],\n",
       "        [    21,  68000],\n",
       "        [    28,  55000],\n",
       "        [    23,  63000],\n",
       "        [    20,  82000],\n",
       "        [    30, 107000],\n",
       "        [    28,  59000],\n",
       "        [    19,  25000],\n",
       "        [    19,  85000],\n",
       "        [    18,  68000],\n",
       "        [    35,  59000],\n",
       "        [    30,  89000],\n",
       "        [    34,  25000],\n",
       "        [    24,  89000],\n",
       "        [    27,  96000],\n",
       "        [    41,  30000],\n",
       "        [    29,  61000],\n",
       "        [    20,  74000],\n",
       "        [    26,  15000],\n",
       "        [    41,  45000],\n",
       "        [    31,  76000],\n",
       "        [    36,  50000],\n",
       "        [    40,  47000],\n",
       "        [    31,  15000],\n",
       "        [    46,  59000],\n",
       "        [    29,  75000],\n",
       "        [    26,  30000],\n",
       "        [    32, 135000],\n",
       "        [    32, 100000],\n",
       "        [    25,  90000],\n",
       "        [    37,  33000],\n",
       "        [    35,  38000],\n",
       "        [    33,  69000],\n",
       "        [    18,  86000],\n",
       "        [    22,  55000],\n",
       "        [    35,  71000],\n",
       "        [    29, 148000],\n",
       "        [    29,  47000],\n",
       "        [    21,  88000],\n",
       "        [    34, 115000],\n",
       "        [    26, 118000],\n",
       "        [    34,  43000],\n",
       "        [    34,  72000],\n",
       "        [    23,  28000],\n",
       "        [    35,  47000],\n",
       "        [    25,  22000],\n",
       "        [    24,  23000],\n",
       "        [    31,  34000],\n",
       "        [    26,  16000],\n",
       "        [    31,  71000],\n",
       "        [    32, 117000],\n",
       "        [    33,  43000],\n",
       "        [    33,  60000],\n",
       "        [    31,  66000],\n",
       "        [    20,  82000],\n",
       "        [    33,  41000],\n",
       "        [    35,  72000],\n",
       "        [    28,  32000],\n",
       "        [    24,  84000],\n",
       "        [    19,  26000],\n",
       "        [    29,  43000],\n",
       "        [    19,  70000],\n",
       "        [    28,  89000],\n",
       "        [    34,  43000],\n",
       "        [    30,  79000],\n",
       "        [    20,  36000],\n",
       "        [    26,  80000],\n",
       "        [    35,  22000],\n",
       "        [    35,  39000],\n",
       "        [    49,  74000],\n",
       "        [    39, 134000],\n",
       "        [    41,  71000],\n",
       "        [    58, 101000],\n",
       "        [    47,  47000],\n",
       "        [    55, 130000],\n",
       "        [    52, 114000],\n",
       "        [    40, 142000],\n",
       "        [    46,  22000],\n",
       "        [    48,  96000],\n",
       "        [    52, 150000],\n",
       "        [    59,  42000],\n",
       "        [    35,  58000],\n",
       "        [    47,  43000],\n",
       "        [    60, 108000],\n",
       "        [    49,  65000],\n",
       "        [    40,  78000],\n",
       "        [    46,  96000],\n",
       "        [    59, 143000],\n",
       "        [    41,  80000],\n",
       "        [    35,  91000],\n",
       "        [    37, 144000],\n",
       "        [    60, 102000],\n",
       "        [    35,  60000],\n",
       "        [    37,  53000],\n",
       "        [    36, 126000],\n",
       "        [    56, 133000],\n",
       "        [    40,  72000],\n",
       "        [    42,  80000],\n",
       "        [    35, 147000],\n",
       "        [    39,  42000],\n",
       "        [    40, 107000],\n",
       "        [    49,  86000],\n",
       "        [    38, 112000],\n",
       "        [    46,  79000],\n",
       "        [    40,  57000],\n",
       "        [    37,  80000],\n",
       "        [    46,  82000],\n",
       "        [    53, 143000],\n",
       "        [    42, 149000],\n",
       "        [    38,  59000],\n",
       "        [    50,  88000],\n",
       "        [    56, 104000],\n",
       "        [    41,  72000],\n",
       "        [    51, 146000],\n",
       "        [    35,  50000],\n",
       "        [    57, 122000],\n",
       "        [    41,  52000],\n",
       "        [    35,  97000],\n",
       "        [    44,  39000],\n",
       "        [    37,  52000],\n",
       "        [    48, 134000],\n",
       "        [    37, 146000],\n",
       "        [    50,  44000],\n",
       "        [    52,  90000],\n",
       "        [    41,  72000],\n",
       "        [    40,  57000],\n",
       "        [    58,  95000],\n",
       "        [    45, 131000],\n",
       "        [    35,  77000],\n",
       "        [    36, 144000],\n",
       "        [    55, 125000],\n",
       "        [    35,  72000],\n",
       "        [    48,  90000],\n",
       "        [    42, 108000],\n",
       "        [    40,  75000],\n",
       "        [    37,  74000],\n",
       "        [    47, 144000],\n",
       "        [    40,  61000],\n",
       "        [    43, 133000],\n",
       "        [    59,  76000],\n",
       "        [    60,  42000],\n",
       "        [    39, 106000],\n",
       "        [    57,  26000],\n",
       "        [    57,  74000],\n",
       "        [    38,  71000],\n",
       "        [    49,  88000],\n",
       "        [    52,  38000],\n",
       "        [    50,  36000],\n",
       "        [    59,  88000],\n",
       "        [    35,  61000],\n",
       "        [    37,  70000],\n",
       "        [    52,  21000],\n",
       "        [    48, 141000],\n",
       "        [    37,  93000],\n",
       "        [    37,  62000],\n",
       "        [    48, 138000],\n",
       "        [    41,  79000],\n",
       "        [    37,  78000],\n",
       "        [    39, 134000],\n",
       "        [    49,  89000],\n",
       "        [    55,  39000],\n",
       "        [    37,  77000],\n",
       "        [    35,  57000],\n",
       "        [    36,  63000],\n",
       "        [    42,  73000],\n",
       "        [    43, 112000],\n",
       "        [    45,  79000],\n",
       "        [    46, 117000],\n",
       "        [    58,  38000],\n",
       "        [    48,  74000],\n",
       "        [    37, 137000],\n",
       "        [    37,  79000],\n",
       "        [    40,  60000],\n",
       "        [    42,  54000],\n",
       "        [    51, 134000],\n",
       "        [    47, 113000],\n",
       "        [    36, 125000],\n",
       "        [    38,  50000],\n",
       "        [    42,  70000],\n",
       "        [    39,  96000],\n",
       "        [    38,  50000],\n",
       "        [    49, 141000],\n",
       "        [    39,  79000],\n",
       "        [    39,  75000],\n",
       "        [    54, 104000],\n",
       "        [    35,  55000],\n",
       "        [    45,  32000],\n",
       "        [    36,  60000],\n",
       "        [    52, 138000],\n",
       "        [    53,  82000],\n",
       "        [    41,  52000],\n",
       "        [    48,  30000],\n",
       "        [    48, 131000],\n",
       "        [    41,  60000],\n",
       "        [    41,  72000],\n",
       "        [    42,  75000],\n",
       "        [    36, 118000],\n",
       "        [    47, 107000],\n",
       "        [    38,  51000],\n",
       "        [    48, 119000],\n",
       "        [    42,  65000],\n",
       "        [    40,  65000],\n",
       "        [    57,  60000],\n",
       "        [    36,  54000],\n",
       "        [    58, 144000],\n",
       "        [    35,  79000],\n",
       "        [    38,  55000],\n",
       "        [    39, 122000],\n",
       "        [    53, 104000],\n",
       "        [    35,  75000],\n",
       "        [    38,  65000],\n",
       "        [    47,  51000],\n",
       "        [    47, 105000],\n",
       "        [    41,  63000],\n",
       "        [    53,  72000],\n",
       "        [    54, 108000],\n",
       "        [    39,  77000],\n",
       "        [    38,  61000],\n",
       "        [    38, 113000],\n",
       "        [    37,  75000],\n",
       "        [    42,  90000],\n",
       "        [    37,  57000],\n",
       "        [    36,  99000],\n",
       "        [    60,  34000],\n",
       "        [    54,  70000],\n",
       "        [    41,  72000],\n",
       "        [    40,  71000],\n",
       "        [    42,  54000],\n",
       "        [    43, 129000],\n",
       "        [    53,  34000],\n",
       "        [    47,  50000],\n",
       "        [    42,  79000],\n",
       "        [    42, 104000],\n",
       "        [    59,  29000],\n",
       "        [    58,  47000],\n",
       "        [    46,  88000],\n",
       "        [    38,  71000],\n",
       "        [    54,  26000],\n",
       "        [    60,  46000],\n",
       "        [    60,  83000],\n",
       "        [    39,  73000],\n",
       "        [    59, 130000],\n",
       "        [    37,  80000],\n",
       "        [    46,  32000],\n",
       "        [    46,  74000],\n",
       "        [    42,  53000],\n",
       "        [    41,  87000],\n",
       "        [    58,  23000],\n",
       "        [    42,  64000],\n",
       "        [    48,  33000],\n",
       "        [    44, 139000],\n",
       "        [    49,  28000],\n",
       "        [    57,  33000],\n",
       "        [    56,  60000],\n",
       "        [    49,  39000],\n",
       "        [    39,  71000],\n",
       "        [    47,  34000],\n",
       "        [    48,  35000],\n",
       "        [    48,  33000],\n",
       "        [    47,  23000],\n",
       "        [    45,  45000],\n",
       "        [    60,  42000],\n",
       "        [    39,  59000],\n",
       "        [    46,  41000],\n",
       "        [    51,  23000],\n",
       "        [    50,  20000],\n",
       "        [    36,  33000],\n",
       "        [    49,  36000]]),\n",
       " array([0, 0, 0, 0, 0, 0, 0, 1, 0, 0, 0, 0, 0, 0, 0, 0, 1, 1, 1, 1, 1, 1,\n",
       "        1, 1, 1, 1, 1, 1, 0, 0, 0, 1, 0, 0, 0, 0, 0, 0, 0, 0, 0, 0, 0, 0,\n",
       "        0, 0, 0, 0, 1, 0, 0, 0, 0, 0, 0, 0, 0, 0, 0, 0, 0, 0, 0, 1, 0, 0,\n",
       "        0, 0, 0, 0, 0, 0, 0, 0, 0, 1, 0, 0, 0, 0, 0, 0, 0, 0, 0, 1, 0, 0,\n",
       "        0, 0, 0, 0, 0, 0, 0, 0, 0, 1, 0, 0, 0, 0, 0, 1, 0, 0, 0, 0, 0, 0,\n",
       "        0, 0, 0, 0, 0, 0, 0, 0, 0, 0, 0, 0, 0, 0, 0, 0, 0, 0, 0, 0, 0, 0,\n",
       "        0, 0, 0, 0, 0, 1, 0, 0, 0, 0, 0, 0, 0, 0, 1, 0, 0, 0, 0, 0, 0, 0,\n",
       "        0, 0, 0, 0, 0, 1, 1, 0, 0, 0, 0, 0, 0, 0, 1, 0, 0, 0, 0, 0, 0, 0,\n",
       "        0, 0, 0, 0, 0, 0, 1, 0, 0, 0, 0, 0, 0, 0, 0, 0, 0, 0, 0, 0, 0, 0,\n",
       "        0, 0, 0, 0, 1, 0, 1, 0, 1, 0, 1, 0, 1, 1, 0, 0, 0, 1, 0, 0, 0, 1,\n",
       "        0, 1, 1, 1, 0, 0, 1, 1, 0, 1, 1, 0, 1, 1, 0, 1, 0, 0, 0, 1, 1, 0,\n",
       "        1, 1, 0, 1, 0, 1, 0, 1, 0, 0, 1, 1, 0, 1, 0, 0, 1, 1, 0, 1, 1, 0,\n",
       "        1, 1, 0, 0, 1, 0, 0, 1, 1, 1, 1, 1, 0, 1, 1, 1, 1, 0, 1, 1, 0, 1,\n",
       "        0, 1, 0, 1, 1, 1, 1, 0, 0, 0, 1, 1, 0, 1, 1, 1, 1, 1, 0, 0, 0, 1,\n",
       "        1, 0, 0, 1, 0, 1, 0, 1, 1, 0, 1, 0, 1, 1, 0, 1, 1, 0, 0, 0, 1, 1,\n",
       "        0, 1, 0, 0, 1, 0, 1, 0, 0, 1, 1, 0, 0, 1, 1, 0, 1, 1, 0, 0, 1, 0,\n",
       "        1, 0, 1, 1, 1, 0, 1, 0, 1, 1, 1, 0, 1, 1, 1, 1, 0, 1, 1, 1, 0, 1,\n",
       "        0, 1, 0, 0, 1, 1, 0, 1, 1, 1, 1, 1, 1, 0, 1, 1, 1, 1, 1, 1, 0, 1,\n",
       "        1, 1, 0, 1]))"
      ]
     },
     "execution_count": 6,
     "metadata": {},
     "output_type": "execute_result"
    }
   ],
   "source": [
    "X,y"
   ]
  },
  {
   "cell_type": "code",
   "execution_count": 7,
   "metadata": {
    "executionInfo": {
     "elapsed": 377,
     "status": "ok",
     "timestamp": 1640345180763,
     "user": {
      "displayName": "Indeed Inspiring",
      "photoUrl": "https://lh3.googleusercontent.com/a-/AOh14GjJtTSXVwEn_JtFhBOkt3rDxmno-6yYadcJbGXH6Q=s64",
      "userId": "12904657308681625524"
     },
     "user_tz": -330
    },
    "id": "8bX0Rn4JMKzy"
   },
   "outputs": [],
   "source": [
    "from sklearn.model_selection import train_test_split"
   ]
  },
  {
   "cell_type": "code",
   "execution_count": 8,
   "metadata": {
    "executionInfo": {
     "elapsed": 8,
     "status": "ok",
     "timestamp": 1640345254843,
     "user": {
      "displayName": "Indeed Inspiring",
      "photoUrl": "https://lh3.googleusercontent.com/a-/AOh14GjJtTSXVwEn_JtFhBOkt3rDxmno-6yYadcJbGXH6Q=s64",
      "userId": "12904657308681625524"
     },
     "user_tz": -330
    },
    "id": "0WSngdIhMUsE"
   },
   "outputs": [],
   "source": [
    "X_train, X_test, y_train, y_test = train_test_split(X,y,test_size=0.25,random_state=0)"
   ]
  },
  {
   "cell_type": "code",
   "execution_count": 9,
   "metadata": {
    "executionInfo": {
     "elapsed": 411,
     "status": "ok",
     "timestamp": 1640345282274,
     "user": {
      "displayName": "Indeed Inspiring",
      "photoUrl": "https://lh3.googleusercontent.com/a-/AOh14GjJtTSXVwEn_JtFhBOkt3rDxmno-6yYadcJbGXH6Q=s64",
      "userId": "12904657308681625524"
     },
     "user_tz": -330
    },
    "id": "4PPjC2I2MUwn"
   },
   "outputs": [],
   "source": [
    "from sklearn.preprocessing import StandardScaler"
   ]
  },
  {
   "cell_type": "code",
   "execution_count": 10,
   "metadata": {
    "executionInfo": {
     "elapsed": 6,
     "status": "ok",
     "timestamp": 1640345307047,
     "user": {
      "displayName": "Indeed Inspiring",
      "photoUrl": "https://lh3.googleusercontent.com/a-/AOh14GjJtTSXVwEn_JtFhBOkt3rDxmno-6yYadcJbGXH6Q=s64",
      "userId": "12904657308681625524"
     },
     "user_tz": -330
    },
    "id": "NSH8Ct0EMttx"
   },
   "outputs": [],
   "source": [
    "sc = StandardScaler()"
   ]
  },
  {
   "cell_type": "code",
   "execution_count": 11,
   "metadata": {
    "executionInfo": {
     "elapsed": 2,
     "status": "ok",
     "timestamp": 1640345323855,
     "user": {
      "displayName": "Indeed Inspiring",
      "photoUrl": "https://lh3.googleusercontent.com/a-/AOh14GjJtTSXVwEn_JtFhBOkt3rDxmno-6yYadcJbGXH6Q=s64",
      "userId": "12904657308681625524"
     },
     "user_tz": -330
    },
    "id": "8_FkCt4EMq5u"
   },
   "outputs": [],
   "source": [
    "X_train = sc.fit_transform(X_train)"
   ]
  },
  {
   "cell_type": "code",
   "execution_count": 12,
   "metadata": {
    "executionInfo": {
     "elapsed": 369,
     "status": "ok",
     "timestamp": 1640345346394,
     "user": {
      "displayName": "Indeed Inspiring",
      "photoUrl": "https://lh3.googleusercontent.com/a-/AOh14GjJtTSXVwEn_JtFhBOkt3rDxmno-6yYadcJbGXH6Q=s64",
      "userId": "12904657308681625524"
     },
     "user_tz": -330
    },
    "id": "KxVIOcGQMq9b"
   },
   "outputs": [],
   "source": [
    "X_test = sc.fit_transform(X_test)"
   ]
  },
  {
   "cell_type": "code",
   "execution_count": 13,
   "metadata": {
    "executionInfo": {
     "elapsed": 391,
     "status": "ok",
     "timestamp": 1640344917675,
     "user": {
      "displayName": "Indeed Inspiring",
      "photoUrl": "https://lh3.googleusercontent.com/a-/AOh14GjJtTSXVwEn_JtFhBOkt3rDxmno-6yYadcJbGXH6Q=s64",
      "userId": "12904657308681625524"
     },
     "user_tz": -330
    },
    "id": "xvD7hMKCKKRB"
   },
   "outputs": [],
   "source": [
    "# gini - impurity -- ranges from 0-1 ---.> 0 means pure (only 1 class) -- 1 means -- many classes and records (data points) belong to multiple classes\n",
    "# purchased -- output\n",
    "# person - buy=1 or not buy = 0\n",
    "# purely -- one class\n",
    "# class - 0 and 1\n"
   ]
  },
  {
   "cell_type": "code",
   "execution_count": 14,
   "metadata": {
    "executionInfo": {
     "elapsed": 4,
     "status": "ok",
     "timestamp": 1640344935185,
     "user": {
      "displayName": "Indeed Inspiring",
      "photoUrl": "https://lh3.googleusercontent.com/a-/AOh14GjJtTSXVwEn_JtFhBOkt3rDxmno-6yYadcJbGXH6Q=s64",
      "userId": "12904657308681625524"
     },
     "user_tz": -330
    },
    "id": "dsMkpVQ-LRFG"
   },
   "outputs": [],
   "source": [
    "from sklearn.tree import DecisionTreeClassifier"
   ]
  },
  {
   "cell_type": "code",
   "execution_count": 15,
   "metadata": {
    "executionInfo": {
     "elapsed": 407,
     "status": "ok",
     "timestamp": 1640345060433,
     "user": {
      "displayName": "Indeed Inspiring",
      "photoUrl": "https://lh3.googleusercontent.com/a-/AOh14GjJtTSXVwEn_JtFhBOkt3rDxmno-6yYadcJbGXH6Q=s64",
      "userId": "12904657308681625524"
     },
     "user_tz": -330
    },
    "id": "9w7T6MMALVeT"
   },
   "outputs": [],
   "source": [
    "dtclr = DecisionTreeClassifier(criterion=\"gini\",splitter=\"random\",random_state=0) "
   ]
  },
  {
   "cell_type": "code",
   "execution_count": 16,
   "metadata": {
    "colab": {
     "base_uri": "https://localhost:8080/"
    },
    "executionInfo": {
     "elapsed": 13,
     "status": "ok",
     "timestamp": 1640345376933,
     "user": {
      "displayName": "Indeed Inspiring",
      "photoUrl": "https://lh3.googleusercontent.com/a-/AOh14GjJtTSXVwEn_JtFhBOkt3rDxmno-6yYadcJbGXH6Q=s64",
      "userId": "12904657308681625524"
     },
     "user_tz": -330
    },
    "id": "bggiSAEaLz69",
    "outputId": "a70b3675-dfc3-4c9f-adfd-bd579303ffbb"
   },
   "outputs": [
    {
     "data": {
      "text/html": [
       "<style>#sk-container-id-1 {\n",
       "  /* Definition of color scheme common for light and dark mode */\n",
       "  --sklearn-color-text: #000;\n",
       "  --sklearn-color-text-muted: #666;\n",
       "  --sklearn-color-line: gray;\n",
       "  /* Definition of color scheme for unfitted estimators */\n",
       "  --sklearn-color-unfitted-level-0: #fff5e6;\n",
       "  --sklearn-color-unfitted-level-1: #f6e4d2;\n",
       "  --sklearn-color-unfitted-level-2: #ffe0b3;\n",
       "  --sklearn-color-unfitted-level-3: chocolate;\n",
       "  /* Definition of color scheme for fitted estimators */\n",
       "  --sklearn-color-fitted-level-0: #f0f8ff;\n",
       "  --sklearn-color-fitted-level-1: #d4ebff;\n",
       "  --sklearn-color-fitted-level-2: #b3dbfd;\n",
       "  --sklearn-color-fitted-level-3: cornflowerblue;\n",
       "\n",
       "  /* Specific color for light theme */\n",
       "  --sklearn-color-text-on-default-background: var(--sg-text-color, var(--theme-code-foreground, var(--jp-content-font-color1, black)));\n",
       "  --sklearn-color-background: var(--sg-background-color, var(--theme-background, var(--jp-layout-color0, white)));\n",
       "  --sklearn-color-border-box: var(--sg-text-color, var(--theme-code-foreground, var(--jp-content-font-color1, black)));\n",
       "  --sklearn-color-icon: #696969;\n",
       "\n",
       "  @media (prefers-color-scheme: dark) {\n",
       "    /* Redefinition of color scheme for dark theme */\n",
       "    --sklearn-color-text-on-default-background: var(--sg-text-color, var(--theme-code-foreground, var(--jp-content-font-color1, white)));\n",
       "    --sklearn-color-background: var(--sg-background-color, var(--theme-background, var(--jp-layout-color0, #111)));\n",
       "    --sklearn-color-border-box: var(--sg-text-color, var(--theme-code-foreground, var(--jp-content-font-color1, white)));\n",
       "    --sklearn-color-icon: #878787;\n",
       "  }\n",
       "}\n",
       "\n",
       "#sk-container-id-1 {\n",
       "  color: var(--sklearn-color-text);\n",
       "}\n",
       "\n",
       "#sk-container-id-1 pre {\n",
       "  padding: 0;\n",
       "}\n",
       "\n",
       "#sk-container-id-1 input.sk-hidden--visually {\n",
       "  border: 0;\n",
       "  clip: rect(1px 1px 1px 1px);\n",
       "  clip: rect(1px, 1px, 1px, 1px);\n",
       "  height: 1px;\n",
       "  margin: -1px;\n",
       "  overflow: hidden;\n",
       "  padding: 0;\n",
       "  position: absolute;\n",
       "  width: 1px;\n",
       "}\n",
       "\n",
       "#sk-container-id-1 div.sk-dashed-wrapped {\n",
       "  border: 1px dashed var(--sklearn-color-line);\n",
       "  margin: 0 0.4em 0.5em 0.4em;\n",
       "  box-sizing: border-box;\n",
       "  padding-bottom: 0.4em;\n",
       "  background-color: var(--sklearn-color-background);\n",
       "}\n",
       "\n",
       "#sk-container-id-1 div.sk-container {\n",
       "  /* jupyter's `normalize.less` sets `[hidden] { display: none; }`\n",
       "     but bootstrap.min.css set `[hidden] { display: none !important; }`\n",
       "     so we also need the `!important` here to be able to override the\n",
       "     default hidden behavior on the sphinx rendered scikit-learn.org.\n",
       "     See: https://github.com/scikit-learn/scikit-learn/issues/21755 */\n",
       "  display: inline-block !important;\n",
       "  position: relative;\n",
       "}\n",
       "\n",
       "#sk-container-id-1 div.sk-text-repr-fallback {\n",
       "  display: none;\n",
       "}\n",
       "\n",
       "div.sk-parallel-item,\n",
       "div.sk-serial,\n",
       "div.sk-item {\n",
       "  /* draw centered vertical line to link estimators */\n",
       "  background-image: linear-gradient(var(--sklearn-color-text-on-default-background), var(--sklearn-color-text-on-default-background));\n",
       "  background-size: 2px 100%;\n",
       "  background-repeat: no-repeat;\n",
       "  background-position: center center;\n",
       "}\n",
       "\n",
       "/* Parallel-specific style estimator block */\n",
       "\n",
       "#sk-container-id-1 div.sk-parallel-item::after {\n",
       "  content: \"\";\n",
       "  width: 100%;\n",
       "  border-bottom: 2px solid var(--sklearn-color-text-on-default-background);\n",
       "  flex-grow: 1;\n",
       "}\n",
       "\n",
       "#sk-container-id-1 div.sk-parallel {\n",
       "  display: flex;\n",
       "  align-items: stretch;\n",
       "  justify-content: center;\n",
       "  background-color: var(--sklearn-color-background);\n",
       "  position: relative;\n",
       "}\n",
       "\n",
       "#sk-container-id-1 div.sk-parallel-item {\n",
       "  display: flex;\n",
       "  flex-direction: column;\n",
       "}\n",
       "\n",
       "#sk-container-id-1 div.sk-parallel-item:first-child::after {\n",
       "  align-self: flex-end;\n",
       "  width: 50%;\n",
       "}\n",
       "\n",
       "#sk-container-id-1 div.sk-parallel-item:last-child::after {\n",
       "  align-self: flex-start;\n",
       "  width: 50%;\n",
       "}\n",
       "\n",
       "#sk-container-id-1 div.sk-parallel-item:only-child::after {\n",
       "  width: 0;\n",
       "}\n",
       "\n",
       "/* Serial-specific style estimator block */\n",
       "\n",
       "#sk-container-id-1 div.sk-serial {\n",
       "  display: flex;\n",
       "  flex-direction: column;\n",
       "  align-items: center;\n",
       "  background-color: var(--sklearn-color-background);\n",
       "  padding-right: 1em;\n",
       "  padding-left: 1em;\n",
       "}\n",
       "\n",
       "\n",
       "/* Toggleable style: style used for estimator/Pipeline/ColumnTransformer box that is\n",
       "clickable and can be expanded/collapsed.\n",
       "- Pipeline and ColumnTransformer use this feature and define the default style\n",
       "- Estimators will overwrite some part of the style using the `sk-estimator` class\n",
       "*/\n",
       "\n",
       "/* Pipeline and ColumnTransformer style (default) */\n",
       "\n",
       "#sk-container-id-1 div.sk-toggleable {\n",
       "  /* Default theme specific background. It is overwritten whether we have a\n",
       "  specific estimator or a Pipeline/ColumnTransformer */\n",
       "  background-color: var(--sklearn-color-background);\n",
       "}\n",
       "\n",
       "/* Toggleable label */\n",
       "#sk-container-id-1 label.sk-toggleable__label {\n",
       "  cursor: pointer;\n",
       "  display: flex;\n",
       "  width: 100%;\n",
       "  margin-bottom: 0;\n",
       "  padding: 0.5em;\n",
       "  box-sizing: border-box;\n",
       "  text-align: center;\n",
       "  align-items: start;\n",
       "  justify-content: space-between;\n",
       "  gap: 0.5em;\n",
       "}\n",
       "\n",
       "#sk-container-id-1 label.sk-toggleable__label .caption {\n",
       "  font-size: 0.6rem;\n",
       "  font-weight: lighter;\n",
       "  color: var(--sklearn-color-text-muted);\n",
       "}\n",
       "\n",
       "#sk-container-id-1 label.sk-toggleable__label-arrow:before {\n",
       "  /* Arrow on the left of the label */\n",
       "  content: \"▸\";\n",
       "  float: left;\n",
       "  margin-right: 0.25em;\n",
       "  color: var(--sklearn-color-icon);\n",
       "}\n",
       "\n",
       "#sk-container-id-1 label.sk-toggleable__label-arrow:hover:before {\n",
       "  color: var(--sklearn-color-text);\n",
       "}\n",
       "\n",
       "/* Toggleable content - dropdown */\n",
       "\n",
       "#sk-container-id-1 div.sk-toggleable__content {\n",
       "  max-height: 0;\n",
       "  max-width: 0;\n",
       "  overflow: hidden;\n",
       "  text-align: left;\n",
       "  /* unfitted */\n",
       "  background-color: var(--sklearn-color-unfitted-level-0);\n",
       "}\n",
       "\n",
       "#sk-container-id-1 div.sk-toggleable__content.fitted {\n",
       "  /* fitted */\n",
       "  background-color: var(--sklearn-color-fitted-level-0);\n",
       "}\n",
       "\n",
       "#sk-container-id-1 div.sk-toggleable__content pre {\n",
       "  margin: 0.2em;\n",
       "  border-radius: 0.25em;\n",
       "  color: var(--sklearn-color-text);\n",
       "  /* unfitted */\n",
       "  background-color: var(--sklearn-color-unfitted-level-0);\n",
       "}\n",
       "\n",
       "#sk-container-id-1 div.sk-toggleable__content.fitted pre {\n",
       "  /* unfitted */\n",
       "  background-color: var(--sklearn-color-fitted-level-0);\n",
       "}\n",
       "\n",
       "#sk-container-id-1 input.sk-toggleable__control:checked~div.sk-toggleable__content {\n",
       "  /* Expand drop-down */\n",
       "  max-height: 200px;\n",
       "  max-width: 100%;\n",
       "  overflow: auto;\n",
       "}\n",
       "\n",
       "#sk-container-id-1 input.sk-toggleable__control:checked~label.sk-toggleable__label-arrow:before {\n",
       "  content: \"▾\";\n",
       "}\n",
       "\n",
       "/* Pipeline/ColumnTransformer-specific style */\n",
       "\n",
       "#sk-container-id-1 div.sk-label input.sk-toggleable__control:checked~label.sk-toggleable__label {\n",
       "  color: var(--sklearn-color-text);\n",
       "  background-color: var(--sklearn-color-unfitted-level-2);\n",
       "}\n",
       "\n",
       "#sk-container-id-1 div.sk-label.fitted input.sk-toggleable__control:checked~label.sk-toggleable__label {\n",
       "  background-color: var(--sklearn-color-fitted-level-2);\n",
       "}\n",
       "\n",
       "/* Estimator-specific style */\n",
       "\n",
       "/* Colorize estimator box */\n",
       "#sk-container-id-1 div.sk-estimator input.sk-toggleable__control:checked~label.sk-toggleable__label {\n",
       "  /* unfitted */\n",
       "  background-color: var(--sklearn-color-unfitted-level-2);\n",
       "}\n",
       "\n",
       "#sk-container-id-1 div.sk-estimator.fitted input.sk-toggleable__control:checked~label.sk-toggleable__label {\n",
       "  /* fitted */\n",
       "  background-color: var(--sklearn-color-fitted-level-2);\n",
       "}\n",
       "\n",
       "#sk-container-id-1 div.sk-label label.sk-toggleable__label,\n",
       "#sk-container-id-1 div.sk-label label {\n",
       "  /* The background is the default theme color */\n",
       "  color: var(--sklearn-color-text-on-default-background);\n",
       "}\n",
       "\n",
       "/* On hover, darken the color of the background */\n",
       "#sk-container-id-1 div.sk-label:hover label.sk-toggleable__label {\n",
       "  color: var(--sklearn-color-text);\n",
       "  background-color: var(--sklearn-color-unfitted-level-2);\n",
       "}\n",
       "\n",
       "/* Label box, darken color on hover, fitted */\n",
       "#sk-container-id-1 div.sk-label.fitted:hover label.sk-toggleable__label.fitted {\n",
       "  color: var(--sklearn-color-text);\n",
       "  background-color: var(--sklearn-color-fitted-level-2);\n",
       "}\n",
       "\n",
       "/* Estimator label */\n",
       "\n",
       "#sk-container-id-1 div.sk-label label {\n",
       "  font-family: monospace;\n",
       "  font-weight: bold;\n",
       "  display: inline-block;\n",
       "  line-height: 1.2em;\n",
       "}\n",
       "\n",
       "#sk-container-id-1 div.sk-label-container {\n",
       "  text-align: center;\n",
       "}\n",
       "\n",
       "/* Estimator-specific */\n",
       "#sk-container-id-1 div.sk-estimator {\n",
       "  font-family: monospace;\n",
       "  border: 1px dotted var(--sklearn-color-border-box);\n",
       "  border-radius: 0.25em;\n",
       "  box-sizing: border-box;\n",
       "  margin-bottom: 0.5em;\n",
       "  /* unfitted */\n",
       "  background-color: var(--sklearn-color-unfitted-level-0);\n",
       "}\n",
       "\n",
       "#sk-container-id-1 div.sk-estimator.fitted {\n",
       "  /* fitted */\n",
       "  background-color: var(--sklearn-color-fitted-level-0);\n",
       "}\n",
       "\n",
       "/* on hover */\n",
       "#sk-container-id-1 div.sk-estimator:hover {\n",
       "  /* unfitted */\n",
       "  background-color: var(--sklearn-color-unfitted-level-2);\n",
       "}\n",
       "\n",
       "#sk-container-id-1 div.sk-estimator.fitted:hover {\n",
       "  /* fitted */\n",
       "  background-color: var(--sklearn-color-fitted-level-2);\n",
       "}\n",
       "\n",
       "/* Specification for estimator info (e.g. \"i\" and \"?\") */\n",
       "\n",
       "/* Common style for \"i\" and \"?\" */\n",
       "\n",
       ".sk-estimator-doc-link,\n",
       "a:link.sk-estimator-doc-link,\n",
       "a:visited.sk-estimator-doc-link {\n",
       "  float: right;\n",
       "  font-size: smaller;\n",
       "  line-height: 1em;\n",
       "  font-family: monospace;\n",
       "  background-color: var(--sklearn-color-background);\n",
       "  border-radius: 1em;\n",
       "  height: 1em;\n",
       "  width: 1em;\n",
       "  text-decoration: none !important;\n",
       "  margin-left: 0.5em;\n",
       "  text-align: center;\n",
       "  /* unfitted */\n",
       "  border: var(--sklearn-color-unfitted-level-1) 1pt solid;\n",
       "  color: var(--sklearn-color-unfitted-level-1);\n",
       "}\n",
       "\n",
       ".sk-estimator-doc-link.fitted,\n",
       "a:link.sk-estimator-doc-link.fitted,\n",
       "a:visited.sk-estimator-doc-link.fitted {\n",
       "  /* fitted */\n",
       "  border: var(--sklearn-color-fitted-level-1) 1pt solid;\n",
       "  color: var(--sklearn-color-fitted-level-1);\n",
       "}\n",
       "\n",
       "/* On hover */\n",
       "div.sk-estimator:hover .sk-estimator-doc-link:hover,\n",
       ".sk-estimator-doc-link:hover,\n",
       "div.sk-label-container:hover .sk-estimator-doc-link:hover,\n",
       ".sk-estimator-doc-link:hover {\n",
       "  /* unfitted */\n",
       "  background-color: var(--sklearn-color-unfitted-level-3);\n",
       "  color: var(--sklearn-color-background);\n",
       "  text-decoration: none;\n",
       "}\n",
       "\n",
       "div.sk-estimator.fitted:hover .sk-estimator-doc-link.fitted:hover,\n",
       ".sk-estimator-doc-link.fitted:hover,\n",
       "div.sk-label-container:hover .sk-estimator-doc-link.fitted:hover,\n",
       ".sk-estimator-doc-link.fitted:hover {\n",
       "  /* fitted */\n",
       "  background-color: var(--sklearn-color-fitted-level-3);\n",
       "  color: var(--sklearn-color-background);\n",
       "  text-decoration: none;\n",
       "}\n",
       "\n",
       "/* Span, style for the box shown on hovering the info icon */\n",
       ".sk-estimator-doc-link span {\n",
       "  display: none;\n",
       "  z-index: 9999;\n",
       "  position: relative;\n",
       "  font-weight: normal;\n",
       "  right: .2ex;\n",
       "  padding: .5ex;\n",
       "  margin: .5ex;\n",
       "  width: min-content;\n",
       "  min-width: 20ex;\n",
       "  max-width: 50ex;\n",
       "  color: var(--sklearn-color-text);\n",
       "  box-shadow: 2pt 2pt 4pt #999;\n",
       "  /* unfitted */\n",
       "  background: var(--sklearn-color-unfitted-level-0);\n",
       "  border: .5pt solid var(--sklearn-color-unfitted-level-3);\n",
       "}\n",
       "\n",
       ".sk-estimator-doc-link.fitted span {\n",
       "  /* fitted */\n",
       "  background: var(--sklearn-color-fitted-level-0);\n",
       "  border: var(--sklearn-color-fitted-level-3);\n",
       "}\n",
       "\n",
       ".sk-estimator-doc-link:hover span {\n",
       "  display: block;\n",
       "}\n",
       "\n",
       "/* \"?\"-specific style due to the `<a>` HTML tag */\n",
       "\n",
       "#sk-container-id-1 a.estimator_doc_link {\n",
       "  float: right;\n",
       "  font-size: 1rem;\n",
       "  line-height: 1em;\n",
       "  font-family: monospace;\n",
       "  background-color: var(--sklearn-color-background);\n",
       "  border-radius: 1rem;\n",
       "  height: 1rem;\n",
       "  width: 1rem;\n",
       "  text-decoration: none;\n",
       "  /* unfitted */\n",
       "  color: var(--sklearn-color-unfitted-level-1);\n",
       "  border: var(--sklearn-color-unfitted-level-1) 1pt solid;\n",
       "}\n",
       "\n",
       "#sk-container-id-1 a.estimator_doc_link.fitted {\n",
       "  /* fitted */\n",
       "  border: var(--sklearn-color-fitted-level-1) 1pt solid;\n",
       "  color: var(--sklearn-color-fitted-level-1);\n",
       "}\n",
       "\n",
       "/* On hover */\n",
       "#sk-container-id-1 a.estimator_doc_link:hover {\n",
       "  /* unfitted */\n",
       "  background-color: var(--sklearn-color-unfitted-level-3);\n",
       "  color: var(--sklearn-color-background);\n",
       "  text-decoration: none;\n",
       "}\n",
       "\n",
       "#sk-container-id-1 a.estimator_doc_link.fitted:hover {\n",
       "  /* fitted */\n",
       "  background-color: var(--sklearn-color-fitted-level-3);\n",
       "}\n",
       "</style><div id=\"sk-container-id-1\" class=\"sk-top-container\"><div class=\"sk-text-repr-fallback\"><pre>DecisionTreeClassifier(random_state=0, splitter=&#x27;random&#x27;)</pre><b>In a Jupyter environment, please rerun this cell to show the HTML representation or trust the notebook. <br />On GitHub, the HTML representation is unable to render, please try loading this page with nbviewer.org.</b></div><div class=\"sk-container\" hidden><div class=\"sk-item\"><div class=\"sk-estimator fitted sk-toggleable\"><input class=\"sk-toggleable__control sk-hidden--visually\" id=\"sk-estimator-id-1\" type=\"checkbox\" checked><label for=\"sk-estimator-id-1\" class=\"sk-toggleable__label fitted sk-toggleable__label-arrow\"><div><div>DecisionTreeClassifier</div></div><div><a class=\"sk-estimator-doc-link fitted\" rel=\"noreferrer\" target=\"_blank\" href=\"https://scikit-learn.org/1.6/modules/generated/sklearn.tree.DecisionTreeClassifier.html\">?<span>Documentation for DecisionTreeClassifier</span></a><span class=\"sk-estimator-doc-link fitted\">i<span>Fitted</span></span></div></label><div class=\"sk-toggleable__content fitted\"><pre>DecisionTreeClassifier(random_state=0, splitter=&#x27;random&#x27;)</pre></div> </div></div></div></div>"
      ],
      "text/plain": [
       "DecisionTreeClassifier(random_state=0, splitter='random')"
      ]
     },
     "execution_count": 16,
     "metadata": {},
     "output_type": "execute_result"
    }
   ],
   "source": [
    "dtclr.fit(X_train,y_train)"
   ]
  },
  {
   "cell_type": "code",
   "execution_count": 17,
   "metadata": {
    "executionInfo": {
     "elapsed": 5,
     "status": "ok",
     "timestamp": 1640345403721,
     "user": {
      "displayName": "Indeed Inspiring",
      "photoUrl": "https://lh3.googleusercontent.com/a-/AOh14GjJtTSXVwEn_JtFhBOkt3rDxmno-6yYadcJbGXH6Q=s64",
      "userId": "12904657308681625524"
     },
     "user_tz": -330
    },
    "id": "T19GUCgUNBG3"
   },
   "outputs": [],
   "source": [
    "y_pred = dtclr.predict(X_test)"
   ]
  },
  {
   "cell_type": "code",
   "execution_count": 18,
   "metadata": {
    "colab": {
     "base_uri": "https://localhost:8080/"
    },
    "executionInfo": {
     "elapsed": 395,
     "status": "ok",
     "timestamp": 1640345419680,
     "user": {
      "displayName": "Indeed Inspiring",
      "photoUrl": "https://lh3.googleusercontent.com/a-/AOh14GjJtTSXVwEn_JtFhBOkt3rDxmno-6yYadcJbGXH6Q=s64",
      "userId": "12904657308681625524"
     },
     "user_tz": -330
    },
    "id": "JWvbpbDgNHxP",
    "outputId": "b440a6fb-4bfe-458d-c8bb-aae904d1e16c"
   },
   "outputs": [
    {
     "name": "stdout",
     "output_type": "stream",
     "text": [
      "[0 0 0 0 0 0 0 1 0 1 0 0 0 0 0 0 1 0 0 0 0 0 0 1 0 1 0 0 0 0 0 0 1 0 0 0 0\n",
      " 0 0 1 0 0 0 0 0 0 0 1 0 1 1 0 0 1 1 1 0 0 1 0 0 0 0 1 0 1 0 0 0 0 1 1 0 0\n",
      " 0 0 0 0 1 1 1 1 0 0 1 0 0 1 0 0 0 1 0 0 0 1 0 1 1 0]\n"
     ]
    }
   ],
   "source": [
    "print(y_pred)"
   ]
  },
  {
   "cell_type": "code",
   "execution_count": 19,
   "metadata": {
    "colab": {
     "base_uri": "https://localhost:8080/"
    },
    "executionInfo": {
     "elapsed": 392,
     "status": "ok",
     "timestamp": 1640345446709,
     "user": {
      "displayName": "Indeed Inspiring",
      "photoUrl": "https://lh3.googleusercontent.com/a-/AOh14GjJtTSXVwEn_JtFhBOkt3rDxmno-6yYadcJbGXH6Q=s64",
      "userId": "12904657308681625524"
     },
     "user_tz": -330
    },
    "id": "RR1rlEqgNLgh",
    "outputId": "d23f62fd-55d4-4042-c63b-41a585f6ef2a"
   },
   "outputs": [
    {
     "name": "stdout",
     "output_type": "stream",
     "text": [
      "[0 0 0 0 0 0 0 1 0 0 0 0 0 0 0 0 0 0 1 0 0 1 0 1 0 1 0 0 0 0 0 1 1 0 0 0 0\n",
      " 0 0 1 0 0 0 0 1 0 0 1 0 1 1 0 0 0 1 1 0 0 1 0 0 1 0 1 0 1 0 0 0 0 1 0 0 1\n",
      " 0 0 0 0 1 1 1 0 0 0 1 1 0 1 1 0 0 1 0 0 0 1 0 1 1 1]\n"
     ]
    }
   ],
   "source": [
    "print(y_test)"
   ]
  },
  {
   "cell_type": "code",
   "execution_count": 20,
   "metadata": {
    "executionInfo": {
     "elapsed": 7,
     "status": "ok",
     "timestamp": 1640345482382,
     "user": {
      "displayName": "Indeed Inspiring",
      "photoUrl": "https://lh3.googleusercontent.com/a-/AOh14GjJtTSXVwEn_JtFhBOkt3rDxmno-6yYadcJbGXH6Q=s64",
      "userId": "12904657308681625524"
     },
     "user_tz": -330
    },
    "id": "kSblbcvNNP0K"
   },
   "outputs": [],
   "source": [
    "from sklearn.metrics import accuracy_score, confusion_matrix"
   ]
  },
  {
   "cell_type": "code",
   "execution_count": 21,
   "metadata": {
    "colab": {
     "base_uri": "https://localhost:8080/"
    },
    "executionInfo": {
     "elapsed": 407,
     "status": "ok",
     "timestamp": 1640345516504,
     "user": {
      "displayName": "Indeed Inspiring",
      "photoUrl": "https://lh3.googleusercontent.com/a-/AOh14GjJtTSXVwEn_JtFhBOkt3rDxmno-6yYadcJbGXH6Q=s64",
      "userId": "12904657308681625524"
     },
     "user_tz": -330
    },
    "id": "ICeJi6WPNbDe",
    "outputId": "53e5d0db-46f2-444d-bd40-90f926636e43"
   },
   "outputs": [
    {
     "name": "stdout",
     "output_type": "stream",
     "text": [
      "Accuracy score:  0.86\n"
     ]
    }
   ],
   "source": [
    "print(\"Accuracy score: \",accuracy_score(y_test,y_pred))"
   ]
  },
  {
   "cell_type": "code",
   "execution_count": 22,
   "metadata": {
    "executionInfo": {
     "elapsed": 5,
     "status": "ok",
     "timestamp": 1640345561526,
     "user": {
      "displayName": "Indeed Inspiring",
      "photoUrl": "https://lh3.googleusercontent.com/a-/AOh14GjJtTSXVwEn_JtFhBOkt3rDxmno-6yYadcJbGXH6Q=s64",
      "userId": "12904657308681625524"
     },
     "user_tz": -330
    },
    "id": "qt9MQeZyNjNY"
   },
   "outputs": [],
   "source": [
    "cf = confusion_matrix(y_test,y_pred)"
   ]
  },
  {
   "cell_type": "code",
   "execution_count": 23,
   "metadata": {
    "colab": {
     "base_uri": "https://localhost:8080/"
    },
    "executionInfo": {
     "elapsed": 12,
     "status": "ok",
     "timestamp": 1640345567072,
     "user": {
      "displayName": "Indeed Inspiring",
      "photoUrl": "https://lh3.googleusercontent.com/a-/AOh14GjJtTSXVwEn_JtFhBOkt3rDxmno-6yYadcJbGXH6Q=s64",
      "userId": "12904657308681625524"
     },
     "user_tz": -330
    },
    "id": "GF87QxmWNuF0",
    "outputId": "a55de231-d2a8-47b3-e46b-c3ff9e7c54c2"
   },
   "outputs": [
    {
     "name": "stdout",
     "output_type": "stream",
     "text": [
      "[[63  5]\n",
      " [ 9 23]]\n"
     ]
    }
   ],
   "source": [
    "print(cf)"
   ]
  },
  {
   "cell_type": "code",
   "execution_count": 24,
   "metadata": {
    "executionInfo": {
     "elapsed": 383,
     "status": "ok",
     "timestamp": 1640345590230,
     "user": {
      "displayName": "Indeed Inspiring",
      "photoUrl": "https://lh3.googleusercontent.com/a-/AOh14GjJtTSXVwEn_JtFhBOkt3rDxmno-6yYadcJbGXH6Q=s64",
      "userId": "12904657308681625524"
     },
     "user_tz": -330
    },
    "id": "zj5jJfkZNvjC"
   },
   "outputs": [],
   "source": [
    "#Train"
   ]
  },
  {
   "cell_type": "code",
   "execution_count": 25,
   "metadata": {
    "id": "mRLGzjgJN1RM"
   },
   "outputs": [
    {
     "data": {
      "text/plain": [
       "(array([ 0.58164944, -0.60673761, -0.01254409, -0.60673761,  1.37390747,\n",
       "         1.47293972,  0.08648817, -0.01254409, -0.21060859, -0.21060859,\n",
       "        -0.30964085, -0.30964085,  0.38358493,  0.8787462 ,  2.06713324,\n",
       "         1.07681071,  0.68068169, -0.70576986,  0.77971394,  0.8787462 ,\n",
       "        -1.20093113,  2.1661655 , -0.01254409,  0.18552042,  0.38358493,\n",
       "        -0.30964085,  0.97777845,  0.97777845, -0.01254409, -0.90383437,\n",
       "        -1.20093113,  2.1661655 , -1.39899564,  0.38358493,  0.77971394,\n",
       "        -1.00286662,  0.08648817, -1.00286662,  0.28455268,  0.68068169,\n",
       "        -0.50770535, -1.79512465, -0.70576986,  0.38358493, -0.30964085,\n",
       "        -0.50770535,  0.18552042,  1.27487521,  0.77971394, -0.30964085,\n",
       "        -0.01254409, -0.21060859, -0.11157634, -0.01254409,  2.1661655 ,\n",
       "        -1.79512465,  1.86906873,  0.38358493, -1.20093113,  0.77971394,\n",
       "        -0.30964085, -1.6960924 , -1.00286662,  0.28455268, -0.11157634,\n",
       "        -1.10189888,  0.08648817, -1.00286662, -0.70576986, -1.29996338,\n",
       "        -0.30964085, -0.11157634, -0.30964085,  0.8787462 , -0.30964085,\n",
       "         0.97777845, -1.20093113, -1.29996338,  1.37390747,  1.27487521,\n",
       "        -0.30964085, -0.50770535, -0.80480212,  0.97777845,  0.28455268,\n",
       "         0.97777845, -0.70576986, -0.70576986,  0.48261718,  2.06713324,\n",
       "        -1.99318916, -0.21060859,  0.38358493,  0.8787462 , -1.20093113,\n",
       "         0.18552042,  0.77971394,  2.06713324,  0.77971394, -0.30964085,\n",
       "        -1.00286662,  0.18552042,  2.06713324,  1.86906873,  1.37390747,\n",
       "         0.8787462 ,  1.47293972, -0.30964085,  1.96810099,  0.68068169,\n",
       "        -1.49802789,  0.77971394,  0.38358493, -1.00286662, -0.01254409,\n",
       "        -1.20093113, -0.90383437, -0.11157634, -1.59706014,  0.97777845,\n",
       "         1.07681071, -0.01254409, -1.10189888,  0.77971394,  0.97777845,\n",
       "        -1.20093113, -0.30964085,  0.08648817, -1.39899564, -0.60673761,\n",
       "         0.77971394, -0.30964085,  1.77003648,  0.8787462 ,  0.18552042,\n",
       "        -0.60673761, -1.89415691, -1.29996338, -0.30964085, -1.00286662,\n",
       "         1.17584296,  0.18552042,  1.17584296, -0.30964085,  0.18552042,\n",
       "         0.77971394,  0.08648817, -1.79512465, -0.90383437, -0.70576986,\n",
       "         0.8787462 ,  0.18552042, -0.4086731 , -0.01254409,  0.38358493,\n",
       "         0.8787462 ,  0.08648817, -1.89415691, -0.11157634, -0.21060859,\n",
       "         0.28455268, -0.21060859,  0.97777845, -0.21060859,  1.27487521,\n",
       "        -1.10189888, -0.01254409,  0.08648817, -1.59706014, -0.50770535,\n",
       "         0.97777845,  1.96810099,  1.47293972, -0.60673761,  1.57197197,\n",
       "        -0.80480212,  1.96810099, -1.20093113,  0.68068169, -1.39899564,\n",
       "         0.18552042, -0.50770535,  0.58164944, -1.59706014, -0.50770535,\n",
       "         0.48261718, -1.39899564,  0.77971394, -0.30964085,  1.57197197,\n",
       "         0.97777845, -0.30964085, -0.11157634, -1.49802789, -0.11157634,\n",
       "        -0.70576986, -0.50770535,  0.68068169, -0.80480212, -1.89415691,\n",
       "         1.07681071,  0.08648817, -0.30964085,  0.08648817, -1.39899564,\n",
       "         0.28455268, -0.90383437,  1.57197197, -0.30964085, -0.11157634,\n",
       "        -0.90383437, -0.70576986,  0.38358493, -0.80480212,  1.37390747,\n",
       "         1.17584296,  1.77003648, -0.90383437, -0.80480212, -1.20093113,\n",
       "        -0.50770535,  0.28455268, -0.21060859,  1.67100423,  0.97777845,\n",
       "         0.28455268, -0.80480212, -0.11157634,  0.28455268,  1.96810099,\n",
       "        -0.80480212, -1.79512465, -0.11157634,  0.28455268,  1.07681071,\n",
       "        -1.00286662,  1.47293972,  0.18552042,  2.1661655 , -0.30964085,\n",
       "        -1.6960924 , -0.01254409,  0.08648817, -0.11157634, -1.20093113,\n",
       "        -0.30964085,  1.57197197, -0.80480212,  0.08648817, -0.90383437,\n",
       "        -0.50770535, -0.30964085,  0.28455268,  0.28455268,  0.08648817,\n",
       "        -1.10189888, -1.6960924 , -1.20093113, -0.70576986,  0.08648817,\n",
       "         0.28455268,  0.8787462 ,  0.28455268, -0.11157634,  2.1661655 ,\n",
       "        -1.29996338, -1.00286662, -0.01254409, -0.21060859, -1.79512465,\n",
       "         1.77003648,  0.18552042,  0.38358493, -1.79512465,  0.18552042,\n",
       "         0.8787462 , -1.99318916, -0.30964085,  1.86906873, -0.4086731 ,\n",
       "         1.07681071, -1.10189888, -1.89415691,  0.08648817, -1.20093113,\n",
       "        -1.29996338, -1.00286662,  1.67100423,  1.17584296,  1.07681071,\n",
       "         1.37390747, -0.30964085,  0.38358493, -0.4086731 , -0.11157634,\n",
       "         0.97777845, -0.90383437, -0.21060859, -1.10189888, -1.20093113]),\n",
       " array([-0.88670699,  1.46173768, -0.5677824 ,  1.89663484, -1.40858358,\n",
       "         0.99784738, -0.79972756, -0.24885782, -0.5677824 , -0.19087153,\n",
       "        -1.29261101, -0.5677824 ,  0.09905991, -0.59677555, -1.17663843,\n",
       "        -0.13288524,  1.78066227,  0.56295021,  0.35999821, -0.53878926,\n",
       "        -1.58254245,  0.93986109,  1.22979253,  1.08482681, -0.48080297,\n",
       "        -0.30684411, -0.8287207 ,  1.8676417 ,  1.25878567,  2.27354572,\n",
       "        -1.58254245, -0.79972756, -1.46656987,  2.30253886,  0.76590222,\n",
       "        -0.30684411,  0.76590222,  0.56295021,  0.07006676, -1.26361786,\n",
       "        -0.01691267,  0.35999821,  0.12805305,  0.30201192,  0.07006676,\n",
       "         2.30253886,  0.04107362,  2.21555943,  0.27301877,  0.1570462 ,\n",
       "        -0.53878926,  0.1570462 ,  0.24402563, -0.24885782,  1.11381995,\n",
       "         0.35999821,  0.12805305, -0.13288524,  0.30201192,  1.37475825,\n",
       "        -0.24885782, -0.04590581, -0.74174127,  0.50496393, -1.06066585,\n",
       "         0.59194336, -0.79972756,  1.54871711,  1.40375139,  0.50496393,\n",
       "         0.04107362,  0.01208048, -0.88670699, -1.3505973 ,  2.24455257,\n",
       "         1.98361427,  0.47597078,  0.27301877,  1.98361427, -1.3505973 ,\n",
       "        -0.27785096,  1.25878567,  1.08482681, -1.06066585,  0.30201192,\n",
       "         0.76590222, -1.49556302,  0.04107362,  1.72267598,  0.18603934,\n",
       "        -0.74174127,  1.40375139,  0.59194336, -1.14764529, -0.77073441,\n",
       "         0.24402563, -0.30684411, -0.79972756,  0.12805305,  0.6209365 ,\n",
       "        -0.30684411, -0.3648304 ,  2.12857999, -1.26361786, -0.91570013,\n",
       "         1.25878567,  2.12857999, -1.23462472,  0.91086794, -0.71274813,\n",
       "         0.35999821, -1.3505973 , -0.13288524,  0.41798449, -0.30684411,\n",
       "         0.41798449, -1.20563157,  0.04107362, -0.42281668, -1.00267957,\n",
       "        -1.20563157, -0.13288524, -1.52455616, -1.20563157,  2.07059371,\n",
       "        -1.52455616,  0.79489537, -0.30684411, -1.23462472, -1.49556302,\n",
       "         0.53395707, -0.33583725, -0.27785096, -1.03167271,  0.07006676,\n",
       "         0.8818748 , -1.40858358,  0.59194336,  0.53395707, -1.089659  ,\n",
       "        -1.43757673, -0.30684411, -0.74174127,  0.07006676,  2.09958685,\n",
       "        -1.089659  ,  0.04107362,  0.12805305,  0.1570462 ,  0.18603934,\n",
       "        -1.29261101, -0.24885782,  1.22979253,  0.30201192,  0.1570462 ,\n",
       "        -0.65476184,  0.1570462 , -1.29261101,  0.30201192, -0.27785096,\n",
       "        -0.50979612,  1.6067034 , -1.17663843,  1.63569655,  1.8676417 ,\n",
       "        -0.3648304 ,  0.04107362, -0.24885782, -1.23462472, -0.27785096,\n",
       "         0.12805305, -1.3505973 ,  0.07006676,  1.37475825,  0.01208048,\n",
       "         0.30201192,  0.73690908, -0.50979612,  0.27301877, -0.42281668,\n",
       "         0.1570462 , -1.20563157,  2.01260742, -1.49556302, -0.53878926,\n",
       "         1.83864855, -1.089659  , -1.37959044, -0.42281668,  0.99784738,\n",
       "         1.43274454, -0.48080297,  2.15757314, -0.1038921 ,  1.95462113,\n",
       "        -0.33583725, -0.8287207 , -1.37959044, -1.58254245, -1.46656987,\n",
       "         0.12805305,  1.51972397,  0.09905991,  0.04107362, -1.3505973 ,\n",
       "         0.07006676,  0.38899135, -1.26361786, -0.74174127,  0.1570462 ,\n",
       "        -0.65476184, -0.04590581, -0.45180983,  1.89663484,  1.28777882,\n",
       "        -0.97368642,  1.83864855, -0.24885782,  0.56295021, -1.5535493 ,\n",
       "        -1.11865214,  0.07006676, -1.06066585,  1.6067034 ,  1.78066227,\n",
       "         0.04107362, -0.21986468,  0.07006676, -0.19087153, -0.65476184,\n",
       "         1.3457651 , -0.59677555,  0.12805305, -0.30684411,  0.56295021,\n",
       "         0.27301877,  0.35999821, -0.3648304 , -1.03167271,  1.11381995,\n",
       "         0.07006676,  0.04107362,  1.05583366, -0.3648304 ,  0.07006676,\n",
       "        -1.3505973 ,  1.11381995, -1.52455616,  1.8676417 , -0.77073441,\n",
       "        -0.77073441, -0.91570013, -0.71274813,  0.07006676,  1.8676417 ,\n",
       "         1.95462113, -1.5535493 , -1.089659  , -0.1038921 ,  0.09905991,\n",
       "         0.27301877, -0.5677824 , -1.14764529,  0.67892279, -0.68375498,\n",
       "        -1.37959044, -0.94469328, -0.42281668, -0.45180983, -0.97368642,\n",
       "         0.99784738, -0.3648304 ,  1.11381995, -1.3505973 , -0.13288524,\n",
       "        -1.43757673,  0.47597078,  0.27301877, -1.06066585,  0.07006676,\n",
       "        -0.88670699, -1.11865214,  0.01208048,  0.27301877,  0.33100506,\n",
       "         0.30201192,  0.44697764, -0.88670699,  0.53395707,  0.53395707,\n",
       "         2.331532  , -0.13288524, -0.45180983, -0.77073441, -0.50979612,\n",
       "        -1.14764529, -0.77073441, -0.50979612, -0.45180983,  1.40375139]))"
      ]
     },
     "execution_count": 25,
     "metadata": {},
     "output_type": "execute_result"
    }
   ],
   "source": [
    "x = X_train[:,0]\n",
    "y = X_train[:,1]\n",
    "x,y"
   ]
  },
  {
   "cell_type": "code",
   "execution_count": 26,
   "metadata": {
    "executionInfo": {
     "elapsed": 378,
     "status": "ok",
     "timestamp": 1640345655413,
     "user": {
      "displayName": "Indeed Inspiring",
      "photoUrl": "https://lh3.googleusercontent.com/a-/AOh14GjJtTSXVwEn_JtFhBOkt3rDxmno-6yYadcJbGXH6Q=s64",
      "userId": "12904657308681625524"
     },
     "user_tz": -330
    },
    "id": "3cPOkCC_N4Vi"
   },
   "outputs": [],
   "source": [
    "c = y_train"
   ]
  },
  {
   "cell_type": "code",
   "execution_count": 27,
   "metadata": {
    "executionInfo": {
     "elapsed": 369,
     "status": "ok",
     "timestamp": 1640345776527,
     "user": {
      "displayName": "Indeed Inspiring",
      "photoUrl": "https://lh3.googleusercontent.com/a-/AOh14GjJtTSXVwEn_JtFhBOkt3rDxmno-6yYadcJbGXH6Q=s64",
      "userId": "12904657308681625524"
     },
     "user_tz": -330
    },
    "id": "Jpa3c7nfOKHo"
   },
   "outputs": [],
   "source": [
    "from matplotlib import pyplot as plt"
   ]
  },
  {
   "cell_type": "code",
   "execution_count": 28,
   "metadata": {
    "colab": {
     "base_uri": "https://localhost:8080/",
     "height": 285
    },
    "executionInfo": {
     "elapsed": 19,
     "status": "ok",
     "timestamp": 1640345791323,
     "user": {
      "displayName": "Indeed Inspiring",
      "photoUrl": "https://lh3.googleusercontent.com/a-/AOh14GjJtTSXVwEn_JtFhBOkt3rDxmno-6yYadcJbGXH6Q=s64",
      "userId": "12904657308681625524"
     },
     "user_tz": -330
    },
    "id": "74KBfidyOiw7",
    "outputId": "75cfeb82-fdf2-4864-8d00-318cd78512db"
   },
   "outputs": [
    {
     "data": {
      "text/plain": [
       "<matplotlib.collections.PathCollection at 0x1bf12049550>"
      ]
     },
     "execution_count": 28,
     "metadata": {},
     "output_type": "execute_result"
    },
    {
     "data": {
      "image/png": "[encoded data removed]",
      "text/plain": [
       "<Figure size 640x480 with 1 Axes>"
      ]
     },
     "metadata": {},
     "output_type": "display_data"
    }
   ],
   "source": [
    "plt.scatter(x,y,c=c)"
   ]
  },
  {
   "cell_type": "code",
   "execution_count": 29,
   "metadata": {
    "executionInfo": {
     "elapsed": 3,
     "status": "ok",
     "timestamp": 1640345839818,
     "user": {
      "displayName": "Indeed Inspiring",
      "photoUrl": "https://lh3.googleusercontent.com/a-/AOh14GjJtTSXVwEn_JtFhBOkt3rDxmno-6yYadcJbGXH6Q=s64",
      "userId": "12904657308681625524"
     },
     "user_tz": -330
    },
    "id": "BAQ10EChOmKx"
   },
   "outputs": [],
   "source": [
    "x = X_test[:,0]\n",
    "y = X_test[:,1]\n",
    "x,y\n",
    "c = y_test"
   ]
  },
  {
   "cell_type": "code",
   "execution_count": 30,
   "metadata": {
    "colab": {
     "base_uri": "https://localhost:8080/",
     "height": 282
    },
    "executionInfo": {
     "elapsed": 539,
     "status": "ok",
     "timestamp": 1640345864461,
     "user": {
      "displayName": "Indeed Inspiring",
      "photoUrl": "https://lh3.googleusercontent.com/a-/AOh14GjJtTSXVwEn_JtFhBOkt3rDxmno-6yYadcJbGXH6Q=s64",
      "userId": "12904657308681625524"
     },
     "user_tz": -330
    },
    "id": "OztKswX1OyK0",
    "outputId": "e1c17c5a-6250-4025-d349-d2b43fafef41"
   },
   "outputs": [
    {
     "data": {
      "text/plain": [
       "<matplotlib.collections.PathCollection at 0x1bf1428c190>"
      ]
     },
     "execution_count": 30,
     "metadata": {},
     "output_type": "execute_result"
    },
    {
     "data": {
      "image/png": "[encoded data removed]",
      "text/plain": [
       "<Figure size 640x480 with 1 Axes>"
      ]
     },
     "metadata": {},
     "output_type": "display_data"
    }
   ],
   "source": [
    "plt.scatter(x,y,c=c)"
   ]
  },
  {
   "cell_type": "code",
   "execution_count": 31,
   "metadata": {
    "executionInfo": {
     "elapsed": 402,
     "status": "ok",
     "timestamp": 1640345879984,
     "user": {
      "displayName": "Indeed Inspiring",
      "photoUrl": "https://lh3.googleusercontent.com/a-/AOh14GjJtTSXVwEn_JtFhBOkt3rDxmno-6yYadcJbGXH6Q=s64",
      "userId": "12904657308681625524"
     },
     "user_tz": -330
    },
    "id": "RhKRN4X9O2hq"
   },
   "outputs": [],
   "source": [
    "x = X_test[:,0]\n",
    "y = X_test[:,1]\n",
    "x,y\n",
    "c = y_pred"
   ]
  },
  {
   "cell_type": "code",
   "execution_count": 32,
   "metadata": {
    "colab": {
     "base_uri": "https://localhost:8080/",
     "height": 282
    },
    "executionInfo": {
     "elapsed": 910,
     "status": "ok",
     "timestamp": 1640345890339,
     "user": {
      "displayName": "Indeed Inspiring",
      "photoUrl": "https://lh3.googleusercontent.com/a-/AOh14GjJtTSXVwEn_JtFhBOkt3rDxmno-6yYadcJbGXH6Q=s64",
      "userId": "12904657308681625524"
     },
     "user_tz": -330
    },
    "id": "vWMzTauZO77k",
    "outputId": "c4068458-dd9e-4689-d7e5-748a99c821e5"
   },
   "outputs": [
    {
     "data": {
      "text/plain": [
       "<matplotlib.collections.PathCollection at 0x1bf142e6d50>"
      ]
     },
     "execution_count": 32,
     "metadata": {},
     "output_type": "execute_result"
    },
    {
     "data": {
      "image/png": "[encoded data removed]",
      "text/plain": [
       "<Figure size 640x480 with 1 Axes>"
      ]
     },
     "metadata": {},
     "output_type": "display_data"
    }
   ],
   "source": [
    "plt.scatter(x,y,c=c)"
   ]
  },
  {
   "cell_type": "code",
   "execution_count": null,
   "metadata": {
    "id": "KUyFbkaLO-VS"
   },
   "outputs": [],
   "source": []
  }
 ],
 "metadata": {
  "colab": {
   "authorship_tag": "ABX9TyN7SX5bqjy/yS/cZC+AGCXP",
   "name": "Decision tree cart (gini) social media ad.ipynb",
   "provenance": []
  },
  "kernelspec": {
   "display_name": "Python 3 (ipykernel)",
   "language": "python",
   "name": "python3"
  },
  "language_info": {
   "codemirror_mode": {
    "name": "ipython",
    "version": 3
   },
   "file_extension": ".py",
   "mimetype": "text/x-python",
   "name": "python",
   "nbconvert_exporter": "python",
   "pygments_lexer": "ipython3",
   "version": "3.13.2"
  }
 },
 "nbformat": 4,
 "nbformat_minor": 4
}
