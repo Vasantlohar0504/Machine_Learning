{
 "cells": [
  {
   "cell_type": "markdown",
   "metadata": {
    "id": "YZ56b1__S1AL"
   },
   "source": [
    "# FP Growth\n",
    "* Frequent Pattern Growth \n",
    "* Apriori Limitations\n",
    "  * At each Step, candidate set is to be formed\n",
    "  * to build candidate sets, the algorithm has to repeatedly scan the database"
   ]
  },
  {
   "cell_type": "code",
   "execution_count": 1,
   "metadata": {
    "executionInfo": {
     "elapsed": 891,
     "status": "ok",
     "timestamp": 1639391191927,
     "user": {
      "displayName": "Prushal Technology",
      "photoUrl": "https://lh3.googleusercontent.com/a-/AOh14GggMcnEROBgQ1jjOx3pnkFczCjTo5CLAqFufHWFAQ=s64",
      "userId": "03982334573993321183"
     },
     "user_tz": -330
    },
    "id": "q7HdNCjwVAaK"
   },
   "outputs": [],
   "source": [
    "from mlxtend.frequent_patterns import fpgrowth"
   ]
  },
  {
   "cell_type": "code",
   "execution_count": 2,
   "metadata": {
    "executionInfo": {
     "elapsed": 806,
     "status": "ok",
     "timestamp": 1639391267050,
     "user": {
      "displayName": "Prushal Technology",
      "photoUrl": "https://lh3.googleusercontent.com/a-/AOh14GggMcnEROBgQ1jjOx3pnkFczCjTo5CLAqFufHWFAQ=s64",
      "userId": "03982334573993321183"
     },
     "user_tz": -330
    },
    "id": "KE5S7mR3VFkv"
   },
   "outputs": [],
   "source": [
    "dataset = [\n",
    "           ['milk','onion','beans'],\n",
    "           ['milk', 'onion'],\n",
    "           ['onion','eggs','yogurt']\n",
    "]"
   ]
  },
  {
   "cell_type": "code",
   "execution_count": 3,
   "metadata": {
    "executionInfo": {
     "elapsed": 815,
     "status": "ok",
     "timestamp": 1639391324381,
     "user": {
      "displayName": "Prushal Technology",
      "photoUrl": "https://lh3.googleusercontent.com/a-/AOh14GggMcnEROBgQ1jjOx3pnkFczCjTo5CLAqFufHWFAQ=s64",
      "userId": "03982334573993321183"
     },
     "user_tz": -330
    },
    "id": "US7DpvEcVYIM"
   },
   "outputs": [],
   "source": [
    "import pandas as pd\n",
    "from mlxtend.preprocessing import TransactionEncoder"
   ]
  },
  {
   "cell_type": "code",
   "execution_count": 4,
   "metadata": {
    "executionInfo": {
     "elapsed": 925,
     "status": "ok",
     "timestamp": 1639391334206,
     "user": {
      "displayName": "Prushal Technology",
      "photoUrl": "https://lh3.googleusercontent.com/a-/AOh14GggMcnEROBgQ1jjOx3pnkFczCjTo5CLAqFufHWFAQ=s64",
      "userId": "03982334573993321183"
     },
     "user_tz": -330
    },
    "id": "-0PWKAGVVmIJ"
   },
   "outputs": [],
   "source": [
    "te = TransactionEncoder()"
   ]
  },
  {
   "cell_type": "code",
   "execution_count": 5,
   "metadata": {
    "executionInfo": {
     "elapsed": 781,
     "status": "ok",
     "timestamp": 1639391359462,
     "user": {
      "displayName": "Prushal Technology",
      "photoUrl": "https://lh3.googleusercontent.com/a-/AOh14GggMcnEROBgQ1jjOx3pnkFczCjTo5CLAqFufHWFAQ=s64",
      "userId": "03982334573993321183"
     },
     "user_tz": -330
    },
    "id": "48ndXbR4VoOi"
   },
   "outputs": [],
   "source": [
    "te_array = te.fit(dataset).transform(dataset)"
   ]
  },
  {
   "cell_type": "code",
   "execution_count": 6,
   "metadata": {
    "executionInfo": {
     "elapsed": 738,
     "status": "ok",
     "timestamp": 1639391408868,
     "user": {
      "displayName": "Prushal Technology",
      "photoUrl": "https://lh3.googleusercontent.com/a-/AOh14GggMcnEROBgQ1jjOx3pnkFczCjTo5CLAqFufHWFAQ=s64",
      "userId": "03982334573993321183"
     },
     "user_tz": -330
    },
    "id": "3HgggZ80VuZQ"
   },
   "outputs": [],
   "source": [
    "df = pd.DataFrame(te_array, columns = te.columns_)"
   ]
  },
  {
   "cell_type": "code",
   "execution_count": 7,
   "metadata": {
    "colab": {
     "base_uri": "https://localhost:8080/",
     "height": 143
    },
    "executionInfo": {
     "elapsed": 10,
     "status": "ok",
     "timestamp": 1639391411328,
     "user": {
      "displayName": "Prushal Technology",
      "photoUrl": "https://lh3.googleusercontent.com/a-/AOh14GggMcnEROBgQ1jjOx3pnkFczCjTo5CLAqFufHWFAQ=s64",
      "userId": "03982334573993321183"
     },
     "user_tz": -330
    },
    "id": "cyt9wmXRV6xr",
    "outputId": "bf806bd3-0422-4512-94d1-eb688c954282"
   },
   "outputs": [
    {
     "data": {
      "text/html": [
       "<div>\n",
       "<style scoped>\n",
       "    .dataframe tbody tr th:only-of-type {\n",
       "        vertical-align: middle;\n",
       "    }\n",
       "\n",
       "    .dataframe tbody tr th {\n",
       "        vertical-align: top;\n",
       "    }\n",
       "\n",
       "    .dataframe thead th {\n",
       "        text-align: right;\n",
       "    }\n",
       "</style>\n",
       "<table border=\"1\" class=\"dataframe\">\n",
       "  <thead>\n",
       "    <tr style=\"text-align: right;\">\n",
       "      <th></th>\n",
       "      <th>beans</th>\n",
       "      <th>eggs</th>\n",
       "      <th>milk</th>\n",
       "      <th>onion</th>\n",
       "      <th>yogurt</th>\n",
       "    </tr>\n",
       "  </thead>\n",
       "  <tbody>\n",
       "    <tr>\n",
       "      <th>0</th>\n",
       "      <td>True</td>\n",
       "      <td>False</td>\n",
       "      <td>True</td>\n",
       "      <td>True</td>\n",
       "      <td>False</td>\n",
       "    </tr>\n",
       "    <tr>\n",
       "      <th>1</th>\n",
       "      <td>False</td>\n",
       "      <td>False</td>\n",
       "      <td>True</td>\n",
       "      <td>True</td>\n",
       "      <td>False</td>\n",
       "    </tr>\n",
       "    <tr>\n",
       "      <th>2</th>\n",
       "      <td>False</td>\n",
       "      <td>True</td>\n",
       "      <td>False</td>\n",
       "      <td>True</td>\n",
       "      <td>True</td>\n",
       "    </tr>\n",
       "  </tbody>\n",
       "</table>\n",
       "</div>"
      ],
      "text/plain": [
       "   beans   eggs   milk  onion  yogurt\n",
       "0   True  False   True   True   False\n",
       "1  False  False   True   True   False\n",
       "2  False   True  False   True    True"
      ]
     },
     "execution_count": 7,
     "metadata": {},
     "output_type": "execute_result"
    }
   ],
   "source": [
    "df"
   ]
  },
  {
   "cell_type": "code",
   "execution_count": 8,
   "metadata": {
    "colab": {
     "base_uri": "https://localhost:8080/",
     "height": 143
    },
    "executionInfo": {
     "elapsed": 828,
     "status": "ok",
     "timestamp": 1639391505486,
     "user": {
      "displayName": "Prushal Technology",
      "photoUrl": "https://lh3.googleusercontent.com/a-/AOh14GggMcnEROBgQ1jjOx3pnkFczCjTo5CLAqFufHWFAQ=s64",
      "userId": "03982334573993321183"
     },
     "user_tz": -330
    },
    "id": "zLm5XYQxV7SR",
    "outputId": "1d904aca-e5cc-4418-dcd0-e3fc859497e5"
   },
   "outputs": [
    {
     "data": {
      "text/html": [
       "<div>\n",
       "<style scoped>\n",
       "    .dataframe tbody tr th:only-of-type {\n",
       "        vertical-align: middle;\n",
       "    }\n",
       "\n",
       "    .dataframe tbody tr th {\n",
       "        vertical-align: top;\n",
       "    }\n",
       "\n",
       "    .dataframe thead th {\n",
       "        text-align: right;\n",
       "    }\n",
       "</style>\n",
       "<table border=\"1\" class=\"dataframe\">\n",
       "  <thead>\n",
       "    <tr style=\"text-align: right;\">\n",
       "      <th></th>\n",
       "      <th>support</th>\n",
       "      <th>itemsets</th>\n",
       "    </tr>\n",
       "  </thead>\n",
       "  <tbody>\n",
       "    <tr>\n",
       "      <th>0</th>\n",
       "      <td>1.000000</td>\n",
       "      <td>(3)</td>\n",
       "    </tr>\n",
       "    <tr>\n",
       "      <th>1</th>\n",
       "      <td>0.666667</td>\n",
       "      <td>(2)</td>\n",
       "    </tr>\n",
       "    <tr>\n",
       "      <th>2</th>\n",
       "      <td>0.666667</td>\n",
       "      <td>(2, 3)</td>\n",
       "    </tr>\n",
       "  </tbody>\n",
       "</table>\n",
       "</div>"
      ],
      "text/plain": [
       "    support itemsets\n",
       "0  1.000000      (3)\n",
       "1  0.666667      (2)\n",
       "2  0.666667   (2, 3)"
      ]
     },
     "execution_count": 8,
     "metadata": {},
     "output_type": "execute_result"
    }
   ],
   "source": [
    "fpgrowth(df, min_support=0.60)"
   ]
  },
  {
   "cell_type": "code",
   "execution_count": null,
   "metadata": {
    "id": "TkxInVtoWSXx"
   },
   "outputs": [],
   "source": []
  }
 ],
 "metadata": {
  "colab": {
   "authorship_tag": "ABX9TyMZjD2rJUxVqJV3yO7H7moC",
   "name": "6.4 FP Growth.ipynb",
   "provenance": []
  },
  "kernelspec": {
   "display_name": "Python 3 (ipykernel)",
   "language": "python",
   "name": "python3"
  },
  "language_info": {
   "codemirror_mode": {
    "name": "ipython",
    "version": 3
   },
   "file_extension": ".py",
   "mimetype": "text/x-python",
   "name": "python",
   "nbconvert_exporter": "python",
   "pygments_lexer": "ipython3",
   "version": "3.13.2"
  }
 },
 "nbformat": 4,
 "nbformat_minor": 4
}
