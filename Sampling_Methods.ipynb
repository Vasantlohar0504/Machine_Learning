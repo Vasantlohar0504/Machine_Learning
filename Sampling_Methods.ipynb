{
 "cells": [
  {
   "cell_type": "markdown",
   "metadata": {
    "id": "laK46FtGeM3j"
   },
   "source": [
    "# Sampling Methods"
   ]
  },
  {
   "cell_type": "markdown",
   "metadata": {
    "id": "MRszkTNEeM3r"
   },
   "source": [
    "* **Sampling** is a *process used in statistical analysis in which a predetermined number of observations are taken from a larger population.*\n",
    "\n",
    "---\n",
    "\n",
    "## Simple Random Sampling\n",
    "* **Simple random sampling** is the *basic sampling technique where we select a group of subjects (a sample) for study from a larger group (a population).* Each individual is chosen entirely by chance and each member of the population has an equal chance of being included in the sample. Every possible sample of a given size has the same chance of selection. \n",
    "\n",
    "![Simple random sampling of a sample “n” of 3 from a population “N” of 12. Image: Dan Kernler |Wikimedia Commons](https://www.statisticshowto.datasciencecentral.com/wp-content/uploads/2014/12/Simple_random_sampling-300x231.png)\n",
    "*Simple random sampling of a sample “n” of 3 from a population “N” of 12. Image: Dan Kernler |Wikimedia Commons*\n",
    "\n",
    "* Technically, a simple random sample is a set of n objects in a population of N objects where all possible samples are equally likely to happen. Here’s a basic example of how to get a simple random sample: put 100 numbered bingo balls into a bowl (this is the population N). Select 10 balls from the bowl without looking (this is your sample n). Note that it’s important not to look as you could (unknowingly) bias the sample. While the “lottery bowl” method can work fine for smaller populations, in reality you’ll be dealing with much larger populations.\n",
    "\n",
    "![](https://research-methodology.net/wp-content/uploads/2015/04/Simple-random-sampling2.png)"
   ]
  },
  {
   "cell_type": "code",
   "execution_count": null,
   "metadata": {
    "id": "vvyasLhceM3t"
   },
   "outputs": [],
   "source": [
    "import pandas as pd\n",
    "import numpy as np\n",
    "df = pd.DataFrame(np.random.randn(5000, 4), columns=list('ABCD'))"
   ]
  },
  {
   "cell_type": "code",
   "execution_count": null,
   "metadata": {
    "colab": {
     "base_uri": "https://localhost:8080/",
     "height": 206
    },
    "executionInfo": {
     "elapsed": 419,
     "status": "ok",
     "timestamp": 1637833516696,
     "user": {
      "displayName": "Prushal Technology",
      "photoUrl": "https://lh3.googleusercontent.com/a-/AOh14GggMcnEROBgQ1jjOx3pnkFczCjTo5CLAqFufHWFAQ=s64",
      "userId": "03982334573993321183"
     },
     "user_tz": -330
    },
    "id": "nBDSfZfOfAm1",
    "outputId": "dc22703e-dff1-4ff9-f5b5-8d159dd4a90e"
   },
   "outputs": [
    {
     "data": {
      "text/html": [
       "<div>\n",
       "<style scoped>\n",
       "    .dataframe tbody tr th:only-of-type {\n",
       "        vertical-align: middle;\n",
       "    }\n",
       "\n",
       "    .dataframe tbody tr th {\n",
       "        vertical-align: top;\n",
       "    }\n",
       "\n",
       "    .dataframe thead th {\n",
       "        text-align: right;\n",
       "    }\n",
       "</style>\n",
       "<table border=\"1\" class=\"dataframe\">\n",
       "  <thead>\n",
       "    <tr style=\"text-align: right;\">\n",
       "      <th></th>\n",
       "      <th>A</th>\n",
       "      <th>B</th>\n",
       "      <th>C</th>\n",
       "      <th>D</th>\n",
       "    </tr>\n",
       "  </thead>\n",
       "  <tbody>\n",
       "    <tr>\n",
       "      <th>0</th>\n",
       "      <td>-2.552401</td>\n",
       "      <td>0.155559</td>\n",
       "      <td>-0.145723</td>\n",
       "      <td>0.034853</td>\n",
       "    </tr>\n",
       "    <tr>\n",
       "      <th>1</th>\n",
       "      <td>-0.532157</td>\n",
       "      <td>-1.042270</td>\n",
       "      <td>0.562122</td>\n",
       "      <td>0.237846</td>\n",
       "    </tr>\n",
       "    <tr>\n",
       "      <th>2</th>\n",
       "      <td>-0.921828</td>\n",
       "      <td>-2.538457</td>\n",
       "      <td>0.334130</td>\n",
       "      <td>-0.296985</td>\n",
       "    </tr>\n",
       "    <tr>\n",
       "      <th>3</th>\n",
       "      <td>0.524958</td>\n",
       "      <td>0.225118</td>\n",
       "      <td>-0.993656</td>\n",
       "      <td>-1.057299</td>\n",
       "    </tr>\n",
       "    <tr>\n",
       "      <th>4</th>\n",
       "      <td>0.141320</td>\n",
       "      <td>0.672611</td>\n",
       "      <td>-0.516755</td>\n",
       "      <td>0.193816</td>\n",
       "    </tr>\n",
       "  </tbody>\n",
       "</table>\n",
       "</div>"
      ],
      "text/plain": [
       "          A         B         C         D\n",
       "0 -2.552401  0.155559 -0.145723  0.034853\n",
       "1 -0.532157 -1.042270  0.562122  0.237846\n",
       "2 -0.921828 -2.538457  0.334130 -0.296985\n",
       "3  0.524958  0.225118 -0.993656 -1.057299\n",
       "4  0.141320  0.672611 -0.516755  0.193816"
      ]
     },
     "execution_count": 5,
     "metadata": {},
     "output_type": "execute_result"
    }
   ],
   "source": [
    "df.head()"
   ]
  },
  {
   "cell_type": "code",
   "execution_count": null,
   "metadata": {
    "id": "QQG4rf76eM3w"
   },
   "outputs": [],
   "source": [
    "sample_df = df.sample(100)"
   ]
  },
  {
   "cell_type": "code",
   "execution_count": null,
   "metadata": {
    "colab": {
     "base_uri": "https://localhost:8080/"
    },
    "executionInfo": {
     "elapsed": 9,
     "status": "ok",
     "timestamp": 1637833475484,
     "user": {
      "displayName": "Prushal Technology",
      "photoUrl": "https://lh3.googleusercontent.com/a-/AOh14GggMcnEROBgQ1jjOx3pnkFczCjTo5CLAqFufHWFAQ=s64",
      "userId": "03982334573993321183"
     },
     "user_tz": -330
    },
    "id": "CBlYQ4cTeM3w",
    "outputId": "66a49e8a-55c0-429d-c7e3-5c385712412e"
   },
   "outputs": [
    {
     "data": {
      "text/plain": [
       "(100, 4)"
      ]
     },
     "execution_count": 3,
     "metadata": {},
     "output_type": "execute_result"
    }
   ],
   "source": [
    "sample_df.shape"
   ]
  },
  {
   "cell_type": "code",
   "execution_count": null,
   "metadata": {
    "colab": {
     "base_uri": "https://localhost:8080/",
     "height": 206
    },
    "executionInfo": {
     "elapsed": 417,
     "status": "ok",
     "timestamp": 1637833493776,
     "user": {
      "displayName": "Prushal Technology",
      "photoUrl": "https://lh3.googleusercontent.com/a-/AOh14GggMcnEROBgQ1jjOx3pnkFczCjTo5CLAqFufHWFAQ=s64",
      "userId": "03982334573993321183"
     },
     "user_tz": -330
    },
    "id": "KoPk5PI2e5i3",
    "outputId": "2681a6e4-a404-4e29-9200-414996ba8c68"
   },
   "outputs": [
    {
     "data": {
      "text/html": [
       "<div>\n",
       "<style scoped>\n",
       "    .dataframe tbody tr th:only-of-type {\n",
       "        vertical-align: middle;\n",
       "    }\n",
       "\n",
       "    .dataframe tbody tr th {\n",
       "        vertical-align: top;\n",
       "    }\n",
       "\n",
       "    .dataframe thead th {\n",
       "        text-align: right;\n",
       "    }\n",
       "</style>\n",
       "<table border=\"1\" class=\"dataframe\">\n",
       "  <thead>\n",
       "    <tr style=\"text-align: right;\">\n",
       "      <th></th>\n",
       "      <th>A</th>\n",
       "      <th>B</th>\n",
       "      <th>C</th>\n",
       "      <th>D</th>\n",
       "    </tr>\n",
       "  </thead>\n",
       "  <tbody>\n",
       "    <tr>\n",
       "      <th>4719</th>\n",
       "      <td>0.071678</td>\n",
       "      <td>-1.662591</td>\n",
       "      <td>-0.212507</td>\n",
       "      <td>0.194211</td>\n",
       "    </tr>\n",
       "    <tr>\n",
       "      <th>4219</th>\n",
       "      <td>1.219382</td>\n",
       "      <td>-0.672356</td>\n",
       "      <td>1.048785</td>\n",
       "      <td>-2.135515</td>\n",
       "    </tr>\n",
       "    <tr>\n",
       "      <th>645</th>\n",
       "      <td>-0.587713</td>\n",
       "      <td>-0.512634</td>\n",
       "      <td>-1.156702</td>\n",
       "      <td>-0.865832</td>\n",
       "    </tr>\n",
       "    <tr>\n",
       "      <th>1933</th>\n",
       "      <td>-0.070003</td>\n",
       "      <td>-0.964697</td>\n",
       "      <td>1.068200</td>\n",
       "      <td>-0.703325</td>\n",
       "    </tr>\n",
       "    <tr>\n",
       "      <th>3582</th>\n",
       "      <td>-1.210951</td>\n",
       "      <td>0.827845</td>\n",
       "      <td>-0.412599</td>\n",
       "      <td>1.884682</td>\n",
       "    </tr>\n",
       "  </tbody>\n",
       "</table>\n",
       "</div>"
      ],
      "text/plain": [
       "             A         B         C         D\n",
       "4719  0.071678 -1.662591 -0.212507  0.194211\n",
       "4219  1.219382 -0.672356  1.048785 -2.135515\n",
       "645  -0.587713 -0.512634 -1.156702 -0.865832\n",
       "1933 -0.070003 -0.964697  1.068200 -0.703325\n",
       "3582 -1.210951  0.827845 -0.412599  1.884682"
      ]
     },
     "execution_count": 4,
     "metadata": {},
     "output_type": "execute_result"
    }
   ],
   "source": [
    "sample_df.head()"
   ]
  },
  {
   "cell_type": "markdown",
   "metadata": {
    "id": "qWqbj04deM3y"
   },
   "source": [
    "## Stratified Sampling\n",
    "\n",
    "---\n",
    "\n",
    "* **Stratified random sampling** is a method of sampling that *involves the division of a population into smaller sub-groups known* as **strata** In stratified random sampling or stratification, the strata are formed based on members' shared attributes or characteristics such as income or educational attainment.\n",
    "\n",
    "* **Stratified random sampling** is also called *proportional random sampling or quota random sampling.*\n",
    "\n",
    "![](https://image.slidesharecdn.com/sampling-stratifiedvscluster-170115160432/95/sampling-stratified-vs-cluster-2-638.jpg?cb=1484496290)\n",
    "\n",
    "##### Assume that we need to estimate the average number of votes for each candidate in an election. Assume that the country has 3 towns:\n",
    "* Town A has 1 million factory workers,\n",
    "* Town B has 2 million workers, and\n",
    "* Town C has 3 million retirees.\n",
    "* We can choose to get a random sample of size 60 over the entire population but there is some chance that the random sample turns out to be not well balanced across these towns and hence is biased causing a significant error in estimation.\n",
    "* Instead, if we choose to take a random sample of 10, 20 and 30 from Town A, B and C respectively then we can produce a smaller error in estimation for the same total size of the sample."
   ]
  },
  {
   "cell_type": "markdown",
   "metadata": {
    "id": "Mv0ylAUpeM3z"
   },
   "source": [
    "### Method"
   ]
  },
  {
   "cell_type": "code",
   "execution_count": null,
   "metadata": {
    "id": "Q8outXW8fuaB"
   },
   "outputs": [],
   "source": [
    "from sklearn.datasets import load_iris"
   ]
  },
  {
   "cell_type": "code",
   "execution_count": null,
   "metadata": {
    "id": "ZvByZlTyf5CK"
   },
   "outputs": [],
   "source": [
    "X,y = load_iris(return_X_y=True)"
   ]
  },
  {
   "cell_type": "code",
   "execution_count": null,
   "metadata": {
    "id": "QbiYtq0DeM31"
   },
   "outputs": [],
   "source": [
    "from sklearn.model_selection import train_test_split\n",
    "X_train, X_test, y_train, y_test = train_test_split(X, y,\n",
    "                                                    stratify=y, ## we need one categorical variable for that\n",
    "                                                    test_size=0.25)"
   ]
  },
  {
   "cell_type": "code",
   "execution_count": null,
   "metadata": {
    "colab": {
     "base_uri": "https://localhost:8080/"
    },
    "executionInfo": {
     "elapsed": 820,
     "status": "ok",
     "timestamp": 1637833803305,
     "user": {
      "displayName": "Prushal Technology",
      "photoUrl": "https://lh3.googleusercontent.com/a-/AOh14GggMcnEROBgQ1jjOx3pnkFczCjTo5CLAqFufHWFAQ=s64",
      "userId": "03982334573993321183"
     },
     "user_tz": -330
    },
    "id": "v0htSc8AgDWD",
    "outputId": "7ef6aa70-5a2a-4d87-8495-2401ddcff096"
   },
   "outputs": [
    {
     "data": {
      "text/plain": [
       "(112, 4)"
      ]
     },
     "execution_count": 13,
     "metadata": {},
     "output_type": "execute_result"
    }
   ],
   "source": [
    "X_train.shape"
   ]
  },
  {
   "cell_type": "markdown",
   "metadata": {
    "id": "97YimstWeM32"
   },
   "source": [
    "## Reservoir Sampling\n",
    "\n",
    "---\n",
    "![](https://kapilddatascience.files.wordpress.com/2015/06/reservoir.jpg)\n",
    "\n",
    "* **Reservoir sampling** is a *family of randomized algorithms for randomly choosing k samples from a list of n items, where n is either a very large or unknown number.* Typically n is large enough that the list doesn’t fit into main memory. For example, a list of search queries in Google and Facebook.\n",
    "\n",
    "![](https://image.slidesharecdn.com/t10part1-141208215154-conversion-gate02/95/sampling-for-big-data-1-21-638.jpg?cb=1418075560)\n"
   ]
  },
  {
   "cell_type": "code",
   "execution_count": null,
   "metadata": {
    "id": "ofckvwa6eM33",
    "outputId": "7b0b00bd-bfbd-41fb-f332-75e985dc6b6b"
   },
   "outputs": [
    {
     "name": "stdout",
     "output_type": "stream",
     "text": [
      "[6859, 7151, 2308, 4500, 4533]\n"
     ]
    }
   ],
   "source": [
    "import random\n",
    "def generator(max):\n",
    "    number = 1\n",
    "    while number < max:\n",
    "        number += 1\n",
    "        yield number\n",
    "# Create as stream generator\n",
    "stream = generator(10000)\n",
    "# Doing Reservoir Sampling from the stream\n",
    "k=5\n",
    "reservoir = []\n",
    "for i, element in enumerate(stream):\n",
    "    if i+1<= k:\n",
    "        reservoir.append(element)\n",
    "    else:\n",
    "        probability = k/(i+1)\n",
    "        if random.random() < probability:\n",
    "            # Select item in stream and remove one of the k items already selected\n",
    "             reservoir[random.choice(range(0,k))] = element\n",
    "print(reservoir)"
   ]
  },
  {
   "cell_type": "markdown",
   "metadata": {
    "id": "tYF7YVPgeM34"
   },
   "source": [
    "It can be mathematically proved that in the sample each element has the same probability of getting selected from the stream."
   ]
  },
  {
   "cell_type": "markdown",
   "metadata": {
    "id": "cyIiyGCIeM35"
   },
   "source": [
    "## Random Undersampling and Oversampling\n",
    "\n",
    "---\n",
    "\n",
    "![](https://miro.medium.com/max/700/0*u6pKLqdCDsG_5kXa.png)\n",
    "\n",
    "* A widely adopted technique for dealing with highly imbalanced datasets is called resampling. It consists of *removing samples from the majority class* (**under-sampling**) and/or *adding more examples from the minority class* (**over-sampling**)."
   ]
  },
  {
   "cell_type": "code",
   "execution_count": null,
   "metadata": {
    "id": "espTQOegeM35"
   },
   "outputs": [],
   "source": [
    "from sklearn.datasets import make_classification\n",
    "X, y = make_classification(\n",
    "    n_classes=2, class_sep=1.5, weights=[0.9, 0.1],\n",
    "    n_informative=3, n_redundant=1, flip_y=0,\n",
    "    n_features=20, n_clusters_per_class=1,\n",
    "    n_samples=100, random_state=10\n",
    ")\n",
    "X = pd.DataFrame(X)\n",
    "X['target'] = y"
   ]
  },
  {
   "cell_type": "code",
   "execution_count": null,
   "metadata": {
    "colab": {
     "base_uri": "https://localhost:8080/",
     "height": 444
    },
    "executionInfo": {
     "elapsed": 435,
     "status": "ok",
     "timestamp": 1637834035358,
     "user": {
      "displayName": "Prushal Technology",
      "photoUrl": "https://lh3.googleusercontent.com/a-/AOh14GggMcnEROBgQ1jjOx3pnkFczCjTo5CLAqFufHWFAQ=s64",
      "userId": "03982334573993321183"
     },
     "user_tz": -330
    },
    "id": "eIrlGjfKg_8A",
    "outputId": "4669e595-d035-435b-a9dd-1ee6c5f0d92d"
   },
   "outputs": [
    {
     "data": {
      "text/html": [
       "<div>\n",
       "<style scoped>\n",
       "    .dataframe tbody tr th:only-of-type {\n",
       "        vertical-align: middle;\n",
       "    }\n",
       "\n",
       "    .dataframe tbody tr th {\n",
       "        vertical-align: top;\n",
       "    }\n",
       "\n",
       "    .dataframe thead th {\n",
       "        text-align: right;\n",
       "    }\n",
       "</style>\n",
       "<table border=\"1\" class=\"dataframe\">\n",
       "  <thead>\n",
       "    <tr style=\"text-align: right;\">\n",
       "      <th></th>\n",
       "      <th>0</th>\n",
       "      <th>1</th>\n",
       "      <th>2</th>\n",
       "      <th>3</th>\n",
       "      <th>4</th>\n",
       "      <th>5</th>\n",
       "      <th>6</th>\n",
       "      <th>7</th>\n",
       "      <th>8</th>\n",
       "      <th>9</th>\n",
       "      <th>10</th>\n",
       "      <th>11</th>\n",
       "      <th>12</th>\n",
       "      <th>13</th>\n",
       "      <th>14</th>\n",
       "      <th>15</th>\n",
       "      <th>16</th>\n",
       "      <th>17</th>\n",
       "      <th>18</th>\n",
       "      <th>19</th>\n",
       "      <th>target</th>\n",
       "    </tr>\n",
       "  </thead>\n",
       "  <tbody>\n",
       "    <tr>\n",
       "      <th>0</th>\n",
       "      <td>0.327419</td>\n",
       "      <td>-0.123936</td>\n",
       "      <td>0.377707</td>\n",
       "      <td>-0.650123</td>\n",
       "      <td>0.267562</td>\n",
       "      <td>1.228781</td>\n",
       "      <td>2.208772</td>\n",
       "      <td>-0.185977</td>\n",
       "      <td>0.238732</td>\n",
       "      <td>-2.565438</td>\n",
       "      <td>-0.383111</td>\n",
       "      <td>0.644056</td>\n",
       "      <td>0.104375</td>\n",
       "      <td>-1.703024</td>\n",
       "      <td>-0.510083</td>\n",
       "      <td>-0.108812</td>\n",
       "      <td>-0.230132</td>\n",
       "      <td>1.553707</td>\n",
       "      <td>1.497538</td>\n",
       "      <td>-1.476485</td>\n",
       "      <td>0</td>\n",
       "    </tr>\n",
       "    <tr>\n",
       "      <th>1</th>\n",
       "      <td>-0.843981</td>\n",
       "      <td>-0.018691</td>\n",
       "      <td>-0.841018</td>\n",
       "      <td>1.374583</td>\n",
       "      <td>0.157199</td>\n",
       "      <td>-0.599719</td>\n",
       "      <td>2.217041</td>\n",
       "      <td>-2.032194</td>\n",
       "      <td>-2.310214</td>\n",
       "      <td>-0.490477</td>\n",
       "      <td>-0.304583</td>\n",
       "      <td>1.360939</td>\n",
       "      <td>-1.844740</td>\n",
       "      <td>-0.341096</td>\n",
       "      <td>0.137243</td>\n",
       "      <td>1.704764</td>\n",
       "      <td>0.464255</td>\n",
       "      <td>1.225786</td>\n",
       "      <td>-0.842880</td>\n",
       "      <td>1.303258</td>\n",
       "      <td>0</td>\n",
       "    </tr>\n",
       "    <tr>\n",
       "      <th>2</th>\n",
       "      <td>-0.204642</td>\n",
       "      <td>0.472155</td>\n",
       "      <td>-0.140616</td>\n",
       "      <td>-2.902493</td>\n",
       "      <td>-1.513665</td>\n",
       "      <td>1.149545</td>\n",
       "      <td>2.283673</td>\n",
       "      <td>-0.809117</td>\n",
       "      <td>-1.723535</td>\n",
       "      <td>-0.958556</td>\n",
       "      <td>-0.259129</td>\n",
       "      <td>-0.279701</td>\n",
       "      <td>-1.431391</td>\n",
       "      <td>0.260146</td>\n",
       "      <td>-0.501306</td>\n",
       "      <td>-2.320545</td>\n",
       "      <td>0.422214</td>\n",
       "      <td>1.386474</td>\n",
       "      <td>-0.073335</td>\n",
       "      <td>0.586859</td>\n",
       "      <td>0</td>\n",
       "    </tr>\n",
       "    <tr>\n",
       "      <th>3</th>\n",
       "      <td>0.208274</td>\n",
       "      <td>-0.156982</td>\n",
       "      <td>0.063369</td>\n",
       "      <td>-0.545759</td>\n",
       "      <td>-0.395416</td>\n",
       "      <td>-2.679969</td>\n",
       "      <td>1.507772</td>\n",
       "      <td>0.391485</td>\n",
       "      <td>-0.487337</td>\n",
       "      <td>-0.946147</td>\n",
       "      <td>0.339852</td>\n",
       "      <td>-1.011854</td>\n",
       "      <td>-1.124795</td>\n",
       "      <td>0.347291</td>\n",
       "      <td>-1.078836</td>\n",
       "      <td>0.046923</td>\n",
       "      <td>-0.978324</td>\n",
       "      <td>1.100517</td>\n",
       "      <td>-0.697134</td>\n",
       "      <td>0.339577</td>\n",
       "      <td>0</td>\n",
       "    </tr>\n",
       "    <tr>\n",
       "      <th>4</th>\n",
       "      <td>0.785568</td>\n",
       "      <td>0.208472</td>\n",
       "      <td>0.760082</td>\n",
       "      <td>-0.046130</td>\n",
       "      <td>0.310844</td>\n",
       "      <td>-0.403927</td>\n",
       "      <td>1.462897</td>\n",
       "      <td>0.962173</td>\n",
       "      <td>-0.520996</td>\n",
       "      <td>1.647360</td>\n",
       "      <td>0.146524</td>\n",
       "      <td>0.316792</td>\n",
       "      <td>-0.261528</td>\n",
       "      <td>-1.260698</td>\n",
       "      <td>0.822700</td>\n",
       "      <td>0.141031</td>\n",
       "      <td>-0.294805</td>\n",
       "      <td>2.216364</td>\n",
       "      <td>-1.129875</td>\n",
       "      <td>-1.059984</td>\n",
       "      <td>1</td>\n",
       "    </tr>\n",
       "    <tr>\n",
       "      <th>...</th>\n",
       "      <td>...</td>\n",
       "      <td>...</td>\n",
       "      <td>...</td>\n",
       "      <td>...</td>\n",
       "      <td>...</td>\n",
       "      <td>...</td>\n",
       "      <td>...</td>\n",
       "      <td>...</td>\n",
       "      <td>...</td>\n",
       "      <td>...</td>\n",
       "      <td>...</td>\n",
       "      <td>...</td>\n",
       "      <td>...</td>\n",
       "      <td>...</td>\n",
       "      <td>...</td>\n",
       "      <td>...</td>\n",
       "      <td>...</td>\n",
       "      <td>...</td>\n",
       "      <td>...</td>\n",
       "      <td>...</td>\n",
       "      <td>...</td>\n",
       "    </tr>\n",
       "    <tr>\n",
       "      <th>95</th>\n",
       "      <td>-0.218414</td>\n",
       "      <td>0.393699</td>\n",
       "      <td>0.653777</td>\n",
       "      <td>-1.312950</td>\n",
       "      <td>-1.025031</td>\n",
       "      <td>0.134849</td>\n",
       "      <td>3.840511</td>\n",
       "      <td>-0.804299</td>\n",
       "      <td>-3.165732</td>\n",
       "      <td>-2.021668</td>\n",
       "      <td>-0.681023</td>\n",
       "      <td>-0.581732</td>\n",
       "      <td>-0.151500</td>\n",
       "      <td>-0.150625</td>\n",
       "      <td>0.092327</td>\n",
       "      <td>-0.251294</td>\n",
       "      <td>-0.192647</td>\n",
       "      <td>2.009518</td>\n",
       "      <td>-1.362301</td>\n",
       "      <td>2.664974</td>\n",
       "      <td>0</td>\n",
       "    </tr>\n",
       "    <tr>\n",
       "      <th>96</th>\n",
       "      <td>0.212049</td>\n",
       "      <td>-1.717439</td>\n",
       "      <td>0.306482</td>\n",
       "      <td>1.734235</td>\n",
       "      <td>-2.058806</td>\n",
       "      <td>-0.417814</td>\n",
       "      <td>0.376990</td>\n",
       "      <td>-0.834218</td>\n",
       "      <td>-1.355098</td>\n",
       "      <td>1.287204</td>\n",
       "      <td>0.492321</td>\n",
       "      <td>-0.295757</td>\n",
       "      <td>-2.241017</td>\n",
       "      <td>-0.534599</td>\n",
       "      <td>0.533367</td>\n",
       "      <td>0.891498</td>\n",
       "      <td>0.910063</td>\n",
       "      <td>0.349467</td>\n",
       "      <td>1.161048</td>\n",
       "      <td>0.556070</td>\n",
       "      <td>0</td>\n",
       "    </tr>\n",
       "    <tr>\n",
       "      <th>97</th>\n",
       "      <td>-0.011497</td>\n",
       "      <td>-0.670154</td>\n",
       "      <td>-0.509845</td>\n",
       "      <td>0.703307</td>\n",
       "      <td>0.857470</td>\n",
       "      <td>0.257115</td>\n",
       "      <td>1.448881</td>\n",
       "      <td>-0.093277</td>\n",
       "      <td>-0.259108</td>\n",
       "      <td>-1.068263</td>\n",
       "      <td>1.526283</td>\n",
       "      <td>-0.359560</td>\n",
       "      <td>-0.688662</td>\n",
       "      <td>2.041108</td>\n",
       "      <td>-2.756415</td>\n",
       "      <td>1.373629</td>\n",
       "      <td>-0.388022</td>\n",
       "      <td>1.090378</td>\n",
       "      <td>-1.388104</td>\n",
       "      <td>-0.304678</td>\n",
       "      <td>0</td>\n",
       "    </tr>\n",
       "    <tr>\n",
       "      <th>98</th>\n",
       "      <td>1.107590</td>\n",
       "      <td>1.034863</td>\n",
       "      <td>0.461980</td>\n",
       "      <td>-0.423340</td>\n",
       "      <td>-0.180139</td>\n",
       "      <td>0.624847</td>\n",
       "      <td>1.994488</td>\n",
       "      <td>2.654549</td>\n",
       "      <td>-0.980035</td>\n",
       "      <td>-1.141259</td>\n",
       "      <td>0.568099</td>\n",
       "      <td>0.366621</td>\n",
       "      <td>-1.099235</td>\n",
       "      <td>0.514940</td>\n",
       "      <td>-0.740902</td>\n",
       "      <td>0.321945</td>\n",
       "      <td>0.299279</td>\n",
       "      <td>1.336946</td>\n",
       "      <td>-0.117431</td>\n",
       "      <td>-0.324022</td>\n",
       "      <td>0</td>\n",
       "    </tr>\n",
       "    <tr>\n",
       "      <th>99</th>\n",
       "      <td>-0.503118</td>\n",
       "      <td>-0.960255</td>\n",
       "      <td>-0.355676</td>\n",
       "      <td>-0.163503</td>\n",
       "      <td>-0.950180</td>\n",
       "      <td>1.116589</td>\n",
       "      <td>3.611889</td>\n",
       "      <td>0.532940</td>\n",
       "      <td>-2.252691</td>\n",
       "      <td>-2.428728</td>\n",
       "      <td>-1.192791</td>\n",
       "      <td>0.737814</td>\n",
       "      <td>2.147251</td>\n",
       "      <td>-1.281092</td>\n",
       "      <td>-1.546182</td>\n",
       "      <td>0.535100</td>\n",
       "      <td>0.560354</td>\n",
       "      <td>2.014433</td>\n",
       "      <td>-2.049403</td>\n",
       "      <td>-1.342698</td>\n",
       "      <td>0</td>\n",
       "    </tr>\n",
       "  </tbody>\n",
       "</table>\n",
       "<p>100 rows × 21 columns</p>\n",
       "</div>"
      ],
      "text/plain": [
       "           0         1         2  ...        18        19  target\n",
       "0   0.327419 -0.123936  0.377707  ...  1.497538 -1.476485       0\n",
       "1  -0.843981 -0.018691 -0.841018  ... -0.842880  1.303258       0\n",
       "2  -0.204642  0.472155 -0.140616  ... -0.073335  0.586859       0\n",
       "3   0.208274 -0.156982  0.063369  ... -0.697134  0.339577       0\n",
       "4   0.785568  0.208472  0.760082  ... -1.129875 -1.059984       1\n",
       "..       ...       ...       ...  ...       ...       ...     ...\n",
       "95 -0.218414  0.393699  0.653777  ... -1.362301  2.664974       0\n",
       "96  0.212049 -1.717439  0.306482  ...  1.161048  0.556070       0\n",
       "97 -0.011497 -0.670154 -0.509845  ... -1.388104 -0.304678       0\n",
       "98  1.107590  1.034863  0.461980  ... -0.117431 -0.324022       0\n",
       "99 -0.503118 -0.960255 -0.355676  ... -2.049403 -1.342698       0\n",
       "\n",
       "[100 rows x 21 columns]"
      ]
     },
     "execution_count": 15,
     "metadata": {},
     "output_type": "execute_result"
    }
   ],
   "source": [
    "X"
   ]
  },
  {
   "cell_type": "markdown",
   "metadata": {
    "id": "IxpX-PVAeM36"
   },
   "source": [
    "We can now do random oversampling and undersampling using:"
   ]
  },
  {
   "cell_type": "code",
   "execution_count": null,
   "metadata": {
    "colab": {
     "base_uri": "https://localhost:8080/"
    },
    "executionInfo": {
     "elapsed": 440,
     "status": "ok",
     "timestamp": 1637834071790,
     "user": {
      "displayName": "Prushal Technology",
      "photoUrl": "https://lh3.googleusercontent.com/a-/AOh14GggMcnEROBgQ1jjOx3pnkFczCjTo5CLAqFufHWFAQ=s64",
      "userId": "03982334573993321183"
     },
     "user_tz": -330
    },
    "id": "5qT0VOI8eM36",
    "outputId": "dd60fed5-2747-4a5f-d011-a112541cdaec"
   },
   "outputs": [
    {
     "name": "stdout",
     "output_type": "stream",
     "text": [
      "90 10\n",
      "20\n",
      "180\n"
     ]
    }
   ],
   "source": [
    "num_0 = len(X[X['target']==0])\n",
    "num_1 = len(X[X['target']==1])\n",
    "print(num_0,num_1)\n",
    "# random undersample\n",
    "undersampled_data = pd.concat([ X[X['target']==0].sample(num_1) , X[X['target']==1] ])\n",
    "print(len(undersampled_data))\n",
    "# random oversample\n",
    "oversampled_data = pd.concat([ X[X['target']==0] , X[X['target']==1].sample(num_0, replace=True) ])\n",
    "print(len(oversampled_data))"
   ]
  },
  {
   "cell_type": "markdown",
   "metadata": {
    "id": "8qFRH2HbeM37"
   },
   "source": [
    "## Undersampling and Oversampling using imbalanced-learn\n",
    "\n",
    "* imbalanced-learn(imblearn) is a Python Package to tackle the curse of imbalanced datasets.\n",
    "It provides a variety of methods to undersample and oversample.\n",
    "\n",
    "#### A. Undersampling using Tomek Links:  \n",
    "One of such methods it provides is called Tomek Links. Tomek links are pairs of examples of opposite classes in close vicinity.\n",
    "In this algorithm, we end up removing the majority element from the Tomek link which provides a better decision boundary for a classifier.\n",
    "\n",
    "![](https://miro.medium.com/max/700/0*huy_9J15wzYJ2o5S)"
   ]
  },
  {
   "cell_type": "code",
   "execution_count": null,
   "metadata": {
    "colab": {
     "base_uri": "https://localhost:8080/",
     "height": 339
    },
    "executionInfo": {
     "elapsed": 1277,
     "status": "error",
     "timestamp": 1637834295383,
     "user": {
      "displayName": "Prushal Technology",
      "photoUrl": "https://lh3.googleusercontent.com/a-/AOh14GggMcnEROBgQ1jjOx3pnkFczCjTo5CLAqFufHWFAQ=s64",
      "userId": "03982334573993321183"
     },
     "user_tz": -330
    },
    "id": "RqeiZnVneM37",
    "outputId": "7ff519fd-ed9f-48b3-c23a-feed7364f089"
   },
   "outputs": [
    {
     "ename": "TypeError",
     "evalue": "ignored",
     "output_type": "error",
     "traceback": [
      "\u001b[0;31m---------------------------------------------------------------------------\u001b[0m",
      "\u001b[0;31mTypeError\u001b[0m                                 Traceback (most recent call last)",
      "\u001b[0;32m<ipython-input-17-f06d1b1075fe>\u001b[0m in \u001b[0;36m<module>\u001b[0;34m()\u001b[0m\n\u001b[1;32m      1\u001b[0m \u001b[0;32mfrom\u001b[0m \u001b[0mimblearn\u001b[0m\u001b[0;34m.\u001b[0m\u001b[0munder_sampling\u001b[0m \u001b[0;32mimport\u001b[0m \u001b[0mTomekLinks\u001b[0m\u001b[0;34m\u001b[0m\u001b[0;34m\u001b[0m\u001b[0m\n\u001b[1;32m      2\u001b[0m \u001b[0;34m\u001b[0m\u001b[0m\n\u001b[0;32m----> 3\u001b[0;31m \u001b[0mtl\u001b[0m \u001b[0;34m=\u001b[0m \u001b[0mTomekLinks\u001b[0m\u001b[0;34m(\u001b[0m\u001b[0mreturn_indices\u001b[0m\u001b[0;34m=\u001b[0m\u001b[0;32mTrue\u001b[0m\u001b[0;34m,\u001b[0m \u001b[0mratio\u001b[0m\u001b[0;34m=\u001b[0m\u001b[0;34m'majority'\u001b[0m\u001b[0;34m)\u001b[0m\u001b[0;34m\u001b[0m\u001b[0;34m\u001b[0m\u001b[0m\n\u001b[0m\u001b[1;32m      4\u001b[0m \u001b[0mX_tl\u001b[0m\u001b[0;34m,\u001b[0m \u001b[0my_tl\u001b[0m\u001b[0;34m,\u001b[0m \u001b[0mid_tl\u001b[0m \u001b[0;34m=\u001b[0m \u001b[0mtl\u001b[0m\u001b[0;34m.\u001b[0m\u001b[0mfit_sample\u001b[0m\u001b[0;34m(\u001b[0m\u001b[0mX\u001b[0m\u001b[0;34m,\u001b[0m \u001b[0my\u001b[0m\u001b[0;34m)\u001b[0m\u001b[0;34m\u001b[0m\u001b[0;34m\u001b[0m\u001b[0m\n",
      "\u001b[0;32m/usr/local/lib/python3.7/dist-packages/imblearn/utils/_validation.py\u001b[0m in \u001b[0;36minner_f\u001b[0;34m(*args, **kwargs)\u001b[0m\n\u001b[1;32m    592\u001b[0m             )\n\u001b[1;32m    593\u001b[0m         \u001b[0mkwargs\u001b[0m\u001b[0;34m.\u001b[0m\u001b[0mupdate\u001b[0m\u001b[0;34m(\u001b[0m\u001b[0;34m{\u001b[0m\u001b[0mk\u001b[0m\u001b[0;34m:\u001b[0m \u001b[0marg\u001b[0m \u001b[0;32mfor\u001b[0m \u001b[0mk\u001b[0m\u001b[0;34m,\u001b[0m \u001b[0marg\u001b[0m \u001b[0;32min\u001b[0m \u001b[0mzip\u001b[0m\u001b[0;34m(\u001b[0m\u001b[0msig\u001b[0m\u001b[0;34m.\u001b[0m\u001b[0mparameters\u001b[0m\u001b[0;34m,\u001b[0m \u001b[0margs\u001b[0m\u001b[0;34m)\u001b[0m\u001b[0;34m}\u001b[0m\u001b[0;34m)\u001b[0m\u001b[0;34m\u001b[0m\u001b[0;34m\u001b[0m\u001b[0m\n\u001b[0;32m--> 594\u001b[0;31m         \u001b[0;32mreturn\u001b[0m \u001b[0mf\u001b[0m\u001b[0;34m(\u001b[0m\u001b[0;34m**\u001b[0m\u001b[0mkwargs\u001b[0m\u001b[0;34m)\u001b[0m\u001b[0;34m\u001b[0m\u001b[0;34m\u001b[0m\u001b[0m\n\u001b[0m\u001b[1;32m    595\u001b[0m \u001b[0;34m\u001b[0m\u001b[0m\n\u001b[1;32m    596\u001b[0m     \u001b[0;32mreturn\u001b[0m \u001b[0minner_f\u001b[0m\u001b[0;34m\u001b[0m\u001b[0;34m\u001b[0m\u001b[0m\n",
      "\u001b[0;31mTypeError\u001b[0m: __init__() got an unexpected keyword argument 'return_indices'"
     ]
    }
   ],
   "source": [
    "from imblearn.under_sampling import TomekLinks\n",
    "\n",
    "tl = TomekLinks(return_indices=True, ratio='majority')\n",
    "X_tl, y_tl, id_tl = tl.fit_sample(X, y)"
   ]
  },
  {
   "cell_type": "markdown",
   "metadata": {
    "id": "h3nY0DhWeM38"
   },
   "source": [
    "#### B. Oversampling using SMOTE:\n",
    "\n",
    "In SMOTE (Synthetic Minority Oversampling Technique) we synthesize elements for the minority class, in the vicinity of already existing elements.\n",
    "\n",
    "![](https://miro.medium.com/max/700/0*UrGYcz_Ab-HTo4-B.png)"
   ]
  },
  {
   "cell_type": "code",
   "execution_count": null,
   "metadata": {
    "colab": {
     "base_uri": "https://localhost:8080/"
    },
    "executionInfo": {
     "elapsed": 410,
     "status": "ok",
     "timestamp": 1637834411131,
     "user": {
      "displayName": "Prushal Technology",
      "photoUrl": "https://lh3.googleusercontent.com/a-/AOh14GggMcnEROBgQ1jjOx3pnkFczCjTo5CLAqFufHWFAQ=s64",
      "userId": "03982334573993321183"
     },
     "user_tz": -330
    },
    "id": "P9NaKvtSeM38",
    "outputId": "d33f3efd-32f5-4fca-cf1d-2b157e89f8df"
   },
   "outputs": [
    {
     "name": "stderr",
     "output_type": "stream",
     "text": [
      "/usr/local/lib/python3.7/dist-packages/imblearn/utils/_validation.py:591: FutureWarning: Pass sampling_strategy=minority as keyword args. From version 0.9 passing these as positional arguments will result in an error\n",
      "  FutureWarning,\n",
      "/usr/local/lib/python3.7/dist-packages/sklearn/utils/validation.py:1679: FutureWarning: Feature names only support names that are all strings. Got feature names with dtypes: ['int', 'str']. An error will be raised in 1.2.\n",
      "  FutureWarning,\n"
     ]
    }
   ],
   "source": [
    "from imblearn.over_sampling import SMOTE\n",
    "smote = SMOTE('minority')\n",
    "# smote = SMOTE(ratio='minority')\n",
    "# X_sm, y_sm = smote.fit_sample(X, y)\n",
    "X_sm, y_sm = smote.fit_resample(X,y)"
   ]
  },
  {
   "cell_type": "code",
   "execution_count": null,
   "metadata": {
    "colab": {
     "base_uri": "https://localhost:8080/"
    },
    "executionInfo": {
     "elapsed": 408,
     "status": "ok",
     "timestamp": 1637834438521,
     "user": {
      "displayName": "Prushal Technology",
      "photoUrl": "https://lh3.googleusercontent.com/a-/AOh14GggMcnEROBgQ1jjOx3pnkFczCjTo5CLAqFufHWFAQ=s64",
      "userId": "03982334573993321183"
     },
     "user_tz": -330
    },
    "id": "B3QGzk3Kieqq",
    "outputId": "e0e2014e-e64b-407a-c439-842aa9a526d0"
   },
   "outputs": [
    {
     "data": {
      "text/plain": [
       "((180, 21), (100, 21))"
      ]
     },
     "execution_count": 22,
     "metadata": {},
     "output_type": "execute_result"
    }
   ],
   "source": [
    "X_sm.shape, X.shape"
   ]
  },
  {
   "cell_type": "markdown",
   "metadata": {
    "id": "rLYDvssQeM39"
   },
   "source": [
    "#### There are a variety of other methods in the imblearn package for both undersampling(Cluster Centroids, NearMiss, etc.) and oversampling(ADASYN and bSMOTE) that you can check out.\n",
    "\n",
    "* For more about [imblearn](https://imbalanced-learn.readthedocs.io/en/stable/index.html)"
   ]
  }
 ],
 "metadata": {
  "colab": {
   "name": "10.4 Sampling Methods.ipynb",
   "provenance": []
  },
  "kernelspec": {
   "display_name": "Python 3 (ipykernel)",
   "language": "python",
   "name": "python3"
  },
  "language_info": {
   "codemirror_mode": {
    "name": "ipython",
    "version": 3
   },
   "file_extension": ".py",
   "mimetype": "text/x-python",
   "name": "python",
   "nbconvert_exporter": "python",
   "pygments_lexer": "ipython3",
   "version": "3.13.2"
  }
 },
 "nbformat": 4,
 "nbformat_minor": 4
}
