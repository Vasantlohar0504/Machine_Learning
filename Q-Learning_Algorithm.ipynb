{
 "cells": [
  {
   "cell_type": "markdown",
   "metadata": {
    "id": "QugRb9EsaYBl"
   },
   "source": [
    "# Q-Learning \n",
    "Q-Learning is a basic form of Reinforcement Learning which uses Q-values (also called action values) to iteratively improve the behavior of the learning agent."
   ]
  },
  {
   "cell_type": "code",
   "execution_count": 1,
   "metadata": {
    "executionInfo": {
     "elapsed": 14,
     "status": "ok",
     "timestamp": 1639880086538,
     "user": {
      "displayName": "Indeed Inspiring",
      "photoUrl": "https://lh3.googleusercontent.com/a-/AOh14GjJtTSXVwEn_JtFhBOkt3rDxmno-6yYadcJbGXH6Q=s64",
      "userId": "12904657308681625524"
     },
     "user_tz": -330
    },
    "id": "2jQRA5OpWdCE"
   },
   "outputs": [],
   "source": [
    "import numpy as np"
   ]
  },
  {
   "cell_type": "code",
   "execution_count": 2,
   "metadata": {
    "executionInfo": {
     "elapsed": 14,
     "status": "ok",
     "timestamp": 1639880086539,
     "user": {
      "displayName": "Indeed Inspiring",
      "photoUrl": "https://lh3.googleusercontent.com/a-/AOh14GjJtTSXVwEn_JtFhBOkt3rDxmno-6yYadcJbGXH6Q=s64",
      "userId": "12904657308681625524"
     },
     "user_tz": -330
    },
    "id": "9wJTghP4We3w"
   },
   "outputs": [],
   "source": [
    "#reward matrix\n",
    "R = np.matrix([\n",
    "               [-1,-1,-1,-1,0,-1],\n",
    "               [-1,-1,-1,0,-1,100],\n",
    "               [-1,-1,-1,0,-1,-1],\n",
    "               [-1,0,0,-1,0,-1],\n",
    "               [-1,0,0,-1,-1,100],\n",
    "               [-1,0,-1,-1,0,100]\n",
    "])"
   ]
  },
  {
   "cell_type": "code",
   "execution_count": 3,
   "metadata": {
    "colab": {
     "base_uri": "https://localhost:8080/"
    },
    "executionInfo": {
     "elapsed": 13,
     "status": "ok",
     "timestamp": 1639880086539,
     "user": {
      "displayName": "Indeed Inspiring",
      "photoUrl": "https://lh3.googleusercontent.com/a-/AOh14GjJtTSXVwEn_JtFhBOkt3rDxmno-6yYadcJbGXH6Q=s64",
      "userId": "12904657308681625524"
     },
     "user_tz": -330
    },
    "id": "xwo5AbWNXH43",
    "outputId": "0a945bbe-b7c1-4afa-bb4f-249a60b38318"
   },
   "outputs": [
    {
     "name": "stdout",
     "output_type": "stream",
     "text": [
      "[[ -1  -1  -1  -1   0  -1]\n",
      " [ -1  -1  -1   0  -1 100]\n",
      " [ -1  -1  -1   0  -1  -1]\n",
      " [ -1   0   0  -1   0  -1]\n",
      " [ -1   0   0  -1  -1 100]\n",
      " [ -1   0  -1  -1   0 100]]\n"
     ]
    }
   ],
   "source": [
    "print(R)"
   ]
  },
  {
   "cell_type": "code",
   "execution_count": 4,
   "metadata": {
    "executionInfo": {
     "elapsed": 11,
     "status": "ok",
     "timestamp": 1639880086540,
     "user": {
      "displayName": "Indeed Inspiring",
      "photoUrl": "https://lh3.googleusercontent.com/a-/AOh14GjJtTSXVwEn_JtFhBOkt3rDxmno-6yYadcJbGXH6Q=s64",
      "userId": "12904657308681625524"
     },
     "user_tz": -330
    },
    "id": "zx3kD1n0XJHT"
   },
   "outputs": [],
   "source": [
    "#Q matrix\n",
    "Q = np.matrix(np.zeros([6,6]))"
   ]
  },
  {
   "cell_type": "code",
   "execution_count": 5,
   "metadata": {
    "colab": {
     "base_uri": "https://localhost:8080/"
    },
    "executionInfo": {
     "elapsed": 12,
     "status": "ok",
     "timestamp": 1639880086541,
     "user": {
      "displayName": "Indeed Inspiring",
      "photoUrl": "https://lh3.googleusercontent.com/a-/AOh14GjJtTSXVwEn_JtFhBOkt3rDxmno-6yYadcJbGXH6Q=s64",
      "userId": "12904657308681625524"
     },
     "user_tz": -330
    },
    "id": "F0KTB1fYXMMy",
    "outputId": "c16fa253-07ba-4d21-ba40-191194fcdd52"
   },
   "outputs": [
    {
     "name": "stdout",
     "output_type": "stream",
     "text": [
      "[[0. 0. 0. 0. 0. 0.]\n",
      " [0. 0. 0. 0. 0. 0.]\n",
      " [0. 0. 0. 0. 0. 0.]\n",
      " [0. 0. 0. 0. 0. 0.]\n",
      " [0. 0. 0. 0. 0. 0.]\n",
      " [0. 0. 0. 0. 0. 0.]]\n"
     ]
    }
   ],
   "source": [
    "print(Q)"
   ]
  },
  {
   "cell_type": "code",
   "execution_count": 6,
   "metadata": {
    "executionInfo": {
     "elapsed": 15,
     "status": "ok",
     "timestamp": 1639880090731,
     "user": {
      "displayName": "Indeed Inspiring",
      "photoUrl": "https://lh3.googleusercontent.com/a-/AOh14GjJtTSXVwEn_JtFhBOkt3rDxmno-6yYadcJbGXH6Q=s64",
      "userId": "12904657308681625524"
     },
     "user_tz": -330
    },
    "id": "k8d70-liXWM8"
   },
   "outputs": [],
   "source": [
    "#gamma - learning rate\n",
    "gamma = 0.8"
   ]
  },
  {
   "cell_type": "code",
   "execution_count": 7,
   "metadata": {
    "executionInfo": {
     "elapsed": 14,
     "status": "ok",
     "timestamp": 1639880090732,
     "user": {
      "displayName": "Indeed Inspiring",
      "photoUrl": "https://lh3.googleusercontent.com/a-/AOh14GjJtTSXVwEn_JtFhBOkt3rDxmno-6yYadcJbGXH6Q=s64",
      "userId": "12904657308681625524"
     },
     "user_tz": -330
    },
    "id": "abTgheS0Xhth"
   },
   "outputs": [],
   "source": [
    "#initial state\n",
    "initial_state = 1"
   ]
  },
  {
   "cell_type": "code",
   "execution_count": 8,
   "metadata": {
    "executionInfo": {
     "elapsed": 8,
     "status": "ok",
     "timestamp": 1639880091449,
     "user": {
      "displayName": "Indeed Inspiring",
      "photoUrl": "https://lh3.googleusercontent.com/a-/AOh14GjJtTSXVwEn_JtFhBOkt3rDxmno-6yYadcJbGXH6Q=s64",
      "userId": "12904657308681625524"
     },
     "user_tz": -330
    },
    "id": "zJWGNPeYXpxj"
   },
   "outputs": [],
   "source": [
    "#funcion to return all the available actions in the state given as an argument\n",
    "def available_actions(state):\n",
    "    current_state_row = R[state,]\n",
    "    av_act = np.where(current_state_row >= 0)[1]\n",
    "    return av_act"
   ]
  },
  {
   "cell_type": "code",
   "execution_count": 9,
   "metadata": {
    "executionInfo": {
     "elapsed": 7,
     "status": "ok",
     "timestamp": 1639880092061,
     "user": {
      "displayName": "Indeed Inspiring",
      "photoUrl": "https://lh3.googleusercontent.com/a-/AOh14GjJtTSXVwEn_JtFhBOkt3rDxmno-6yYadcJbGXH6Q=s64",
      "userId": "12904657308681625524"
     },
     "user_tz": -330
    },
    "id": "5RIA0DNsYWur"
   },
   "outputs": [],
   "source": [
    "available_act = available_actions(initial_state) "
   ]
  },
  {
   "cell_type": "code",
   "execution_count": 10,
   "metadata": {
    "colab": {
     "base_uri": "https://localhost:8080/"
    },
    "executionInfo": {
     "elapsed": 7,
     "status": "ok",
     "timestamp": 1639880093011,
     "user": {
      "displayName": "Indeed Inspiring",
      "photoUrl": "https://lh3.googleusercontent.com/a-/AOh14GjJtTSXVwEn_JtFhBOkt3rDxmno-6yYadcJbGXH6Q=s64",
      "userId": "12904657308681625524"
     },
     "user_tz": -330
    },
    "id": "9fsFPgTAYfh_",
    "outputId": "eec7dc19-31bd-4b6f-a3d9-96bbb34150e1"
   },
   "outputs": [
    {
     "name": "stdout",
     "output_type": "stream",
     "text": [
      "[3 5]\n"
     ]
    }
   ],
   "source": [
    "print(available_act)"
   ]
  },
  {
   "cell_type": "code",
   "execution_count": 11,
   "metadata": {
    "executionInfo": {
     "elapsed": 3,
     "status": "ok",
     "timestamp": 1639880093643,
     "user": {
      "displayName": "Indeed Inspiring",
      "photoUrl": "https://lh3.googleusercontent.com/a-/AOh14GjJtTSXVwEn_JtFhBOkt3rDxmno-6yYadcJbGXH6Q=s64",
      "userId": "12904657308681625524"
     },
     "user_tz": -330
    },
    "id": "HJDmyDnGYif3"
   },
   "outputs": [],
   "source": [
    "def sample_next_action(available_actions_range):\n",
    "    next_action = int(np.random.choice(available_act,1))\n",
    "    return next_action\n",
    "\n"
   ]
  },
  {
   "cell_type": "code",
   "execution_count": 12,
   "metadata": {
    "executionInfo": {
     "elapsed": 5,
     "status": "ok",
     "timestamp": 1639880094201,
     "user": {
      "displayName": "Indeed Inspiring",
      "photoUrl": "https://lh3.googleusercontent.com/a-/AOh14GjJtTSXVwEn_JtFhBOkt3rDxmno-6yYadcJbGXH6Q=s64",
      "userId": "12904657308681625524"
     },
     "user_tz": -330
    },
    "id": "VSlLcduLZLAw"
   },
   "outputs": [],
   "source": [
    "# Sample next action to be performed\n",
    "action = sample_next_action(available_act)"
   ]
  },
  {
   "cell_type": "code",
   "execution_count": 13,
   "metadata": {
    "colab": {
     "base_uri": "https://localhost:8080/"
    },
    "executionInfo": {
     "elapsed": 4,
     "status": "ok",
     "timestamp": 1639880095465,
     "user": {
      "displayName": "Indeed Inspiring",
      "photoUrl": "https://lh3.googleusercontent.com/a-/AOh14GjJtTSXVwEn_JtFhBOkt3rDxmno-6yYadcJbGXH6Q=s64",
      "userId": "12904657308681625524"
     },
     "user_tz": -330
    },
    "id": "E8OFCus5ZUv4",
    "outputId": "e66e8776-0bf0-46b9-9009-81ddb6db373c"
   },
   "outputs": [
    {
     "name": "stdout",
     "output_type": "stream",
     "text": [
      "3\n"
     ]
    }
   ],
   "source": [
    "print(action)"
   ]
  },
  {
   "cell_type": "code",
   "execution_count": 14,
   "metadata": {
    "executionInfo": {
     "elapsed": 4,
     "status": "ok",
     "timestamp": 1639880097199,
     "user": {
      "displayName": "Indeed Inspiring",
      "photoUrl": "https://lh3.googleusercontent.com/a-/AOh14GjJtTSXVwEn_JtFhBOkt3rDxmno-6yYadcJbGXH6Q=s64",
      "userId": "12904657308681625524"
     },
     "user_tz": -330
    },
    "id": "G-LaofyjZWiP"
   },
   "outputs": [],
   "source": [
    "def update(current_state, action, gamma):\n",
    "    \n",
    "    max_index = np.where(Q[action,] == np.max(Q[action,]))[1]\n",
    "\n",
    "    if max_index.shape[0] > 1:\n",
    "        max_index = int(np.random.choice(max_index, size = 1))\n",
    "    else:\n",
    "        max_index = int(max_index)\n",
    "    max_value = Q[action, max_index]\n",
    "    \n",
    "    # Q learning formula\n",
    "    Q[current_state, action] = R[current_state, action] + gamma * max_value\n",
    "\n",
    "# Update Q matrix\n",
    "update(initial_state,action,gamma)"
   ]
  },
  {
   "cell_type": "code",
   "execution_count": 15,
   "metadata": {
    "executionInfo": {
     "elapsed": 1562,
     "status": "ok",
     "timestamp": 1639880108929,
     "user": {
      "displayName": "Indeed Inspiring",
      "photoUrl": "https://lh3.googleusercontent.com/a-/AOh14GjJtTSXVwEn_JtFhBOkt3rDxmno-6yYadcJbGXH6Q=s64",
      "userId": "12904657308681625524"
     },
     "user_tz": -330
    },
    "id": "so7m-6YpbL1Y"
   },
   "outputs": [],
   "source": [
    "#train - for 10000 times\n",
    "for i in range(10000):\n",
    "    current_state = np.random.randint(0, int(Q.shape[0]))\n",
    "    available_act = available_actions(current_state)\n",
    "    action = sample_next_action(available_act)\n",
    "    update(current_state,action,gamma)"
   ]
  },
  {
   "cell_type": "code",
   "execution_count": 16,
   "metadata": {
    "colab": {
     "base_uri": "https://localhost:8080/"
    },
    "executionInfo": {
     "elapsed": 504,
     "status": "ok",
     "timestamp": 1639880127151,
     "user": {
      "displayName": "Indeed Inspiring",
      "photoUrl": "https://lh3.googleusercontent.com/a-/AOh14GjJtTSXVwEn_JtFhBOkt3rDxmno-6yYadcJbGXH6Q=s64",
      "userId": "12904657308681625524"
     },
     "user_tz": -330
    },
    "id": "LyASd0KMb_Mg",
    "outputId": "75ac3e06-5059-4fab-9607-4eb0fbd8651b"
   },
   "outputs": [
    {
     "name": "stdout",
     "output_type": "stream",
     "text": [
      "[[  0.   0.   0.   0. 400.   0.]\n",
      " [  0.   0.   0. 320.   0. 500.]\n",
      " [  0.   0.   0. 320.   0.   0.]\n",
      " [  0. 400. 256.   0. 400.   0.]\n",
      " [  0. 400. 256.   0.   0. 500.]\n",
      " [  0. 400.   0.   0. 400. 500.]]\n"
     ]
    }
   ],
   "source": [
    "print(Q)"
   ]
  },
  {
   "cell_type": "code",
   "execution_count": 17,
   "metadata": {
    "colab": {
     "base_uri": "https://localhost:8080/"
    },
    "executionInfo": {
     "elapsed": 10,
     "status": "ok",
     "timestamp": 1639880177716,
     "user": {
      "displayName": "Indeed Inspiring",
      "photoUrl": "https://lh3.googleusercontent.com/a-/AOh14GjJtTSXVwEn_JtFhBOkt3rDxmno-6yYadcJbGXH6Q=s64",
      "userId": "12904657308681625524"
     },
     "user_tz": -330
    },
    "id": "3RB_1OFDcF9N",
    "outputId": "b6fb2623-31d1-4164-ab99-a1b72345a286"
   },
   "outputs": [
    {
     "name": "stdout",
     "output_type": "stream",
     "text": [
      "[[  0.    0.    0.    0.   80.    0. ]\n",
      " [  0.    0.    0.   64.    0.  100. ]\n",
      " [  0.    0.    0.   64.    0.    0. ]\n",
      " [  0.   80.   51.2   0.   80.    0. ]\n",
      " [  0.   80.   51.2   0.    0.  100. ]\n",
      " [  0.   80.    0.    0.   80.  100. ]]\n"
     ]
    }
   ],
   "source": [
    "print(Q/np.max(Q)*100)"
   ]
  },
  {
   "cell_type": "code",
   "execution_count": 18,
   "metadata": {
    "executionInfo": {
     "elapsed": 4,
     "status": "ok",
     "timestamp": 1639880232889,
     "user": {
      "displayName": "Indeed Inspiring",
      "photoUrl": "https://lh3.googleusercontent.com/a-/AOh14GjJtTSXVwEn_JtFhBOkt3rDxmno-6yYadcJbGXH6Q=s64",
      "userId": "12904657308681625524"
     },
     "user_tz": -330
    },
    "id": "ra0Iw_21ebRP"
   },
   "outputs": [],
   "source": [
    "#test\n",
    "# goal state 5\n",
    "current_state = 2\n",
    "steps = [current_state]"
   ]
  },
  {
   "cell_type": "code",
   "execution_count": 19,
   "metadata": {
    "colab": {
     "base_uri": "https://localhost:8080/"
    },
    "executionInfo": {
     "elapsed": 10,
     "status": "ok",
     "timestamp": 1639880497409,
     "user": {
      "displayName": "Indeed Inspiring",
      "photoUrl": "https://lh3.googleusercontent.com/a-/AOh14GjJtTSXVwEn_JtFhBOkt3rDxmno-6yYadcJbGXH6Q=s64",
      "userId": "12904657308681625524"
     },
     "user_tz": -330
    },
    "id": "TiARVlqzeonQ",
    "outputId": "933b774e-e744-43a6-d330-2c96a2df89af"
   },
   "outputs": [
    {
     "name": "stdout",
     "output_type": "stream",
     "text": [
      "path:\n",
      " [2, 3, 4, 5]\n"
     ]
    }
   ],
   "source": [
    "while current_state != 5:\n",
    "  next_step_index = np.where(Q[current_state,]==np.max(Q[current_state,]))[1]\n",
    "  if next_step_index.shape[0]>1:\n",
    "    next_step_index = int(np.random.choice(next_step_index, size = 1))\n",
    "  else:\n",
    "    next_step_index = int(next_step_index)\n",
    "  steps.append(next_step_index)\n",
    "  current_state = next_step_index\n",
    "print(\"path:\\n\",steps)"
   ]
  },
  {
   "cell_type": "code",
   "execution_count": null,
   "metadata": {
    "id": "F7OnVhRLfpAP"
   },
   "outputs": [],
   "source": []
  }
 ],
 "metadata": {
  "colab": {
   "name": "Q-Learning Algorithm.ipynb",
   "provenance": []
  },
  "kernelspec": {
   "display_name": "Python 3 (ipykernel)",
   "language": "python",
   "name": "python3"
  },
  "language_info": {
   "codemirror_mode": {
    "name": "ipython",
    "version": 3
   },
   "file_extension": ".py",
   "mimetype": "text/x-python",
   "name": "python",
   "nbconvert_exporter": "python",
   "pygments_lexer": "ipython3",
   "version": "3.13.2"
  }
 },
 "nbformat": 4,
 "nbformat_minor": 4
}
