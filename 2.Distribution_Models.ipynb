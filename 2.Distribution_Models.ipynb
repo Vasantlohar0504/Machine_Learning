{
 "cells": [
  {
   "cell_type": "code",
   "execution_count": 1,
   "metadata": {
    "executionInfo": {
     "elapsed": 4,
     "status": "ok",
     "timestamp": 1637823839175,
     "user": {
      "displayName": "Prushal Technology",
      "photoUrl": "https://lh3.googleusercontent.com/a-/AOh14GggMcnEROBgQ1jjOx3pnkFczCjTo5CLAqFufHWFAQ=s64",
      "userId": "03982334573993321183"
     },
     "user_tz": -330
    },
    "id": "Sg75j9izK6Ln"
   },
   "outputs": [],
   "source": [
    "#1 Normal Distribution"
   ]
  },
  {
   "cell_type": "code",
   "execution_count": 2,
   "metadata": {
    "executionInfo": {
     "elapsed": 877,
     "status": "ok",
     "timestamp": 1637823853843,
     "user": {
      "displayName": "Prushal Technology",
      "photoUrl": "https://lh3.googleusercontent.com/a-/AOh14GggMcnEROBgQ1jjOx3pnkFczCjTo5CLAqFufHWFAQ=s64",
      "userId": "03982334573993321183"
     },
     "user_tz": -330
    },
    "id": "K6i2hUsC6COR"
   },
   "outputs": [],
   "source": [
    "import scipy.stats\n",
    "import numpy as np\n",
    "import matplotlib.pyplot as plt"
   ]
  },
  {
   "cell_type": "code",
   "execution_count": 3,
   "metadata": {
    "executionInfo": {
     "elapsed": 2006,
     "status": "ok",
     "timestamp": 1637823871944,
     "user": {
      "displayName": "Prushal Technology",
      "photoUrl": "https://lh3.googleusercontent.com/a-/AOh14GggMcnEROBgQ1jjOx3pnkFczCjTo5CLAqFufHWFAQ=s64",
      "userId": "03982334573993321183"
     },
     "user_tz": -330
    },
    "id": "e2iDJYwF6KsW"
   },
   "outputs": [],
   "source": [
    "np.random.seed(1234)"
   ]
  },
  {
   "cell_type": "code",
   "execution_count": 4,
   "metadata": {
    "executionInfo": {
     "elapsed": 474,
     "status": "ok",
     "timestamp": 1637823914341,
     "user": {
      "displayName": "Prushal Technology",
      "photoUrl": "https://lh3.googleusercontent.com/a-/AOh14GggMcnEROBgQ1jjOx3pnkFczCjTo5CLAqFufHWFAQ=s64",
      "userId": "03982334573993321183"
     },
     "user_tz": -330
    },
    "id": "l5pTRkjX6OYu"
   },
   "outputs": [],
   "source": [
    "samples = np.random.lognormal(mean=1.,sigma=0.4,size=10000)"
   ]
  },
  {
   "cell_type": "code",
   "execution_count": 5,
   "metadata": {
    "executionInfo": {
     "elapsed": 358,
     "status": "ok",
     "timestamp": 1637823968252,
     "user": {
      "displayName": "Prushal Technology",
      "photoUrl": "https://lh3.googleusercontent.com/a-/AOh14GggMcnEROBgQ1jjOx3pnkFczCjTo5CLAqFufHWFAQ=s64",
      "userId": "03982334573993321183"
     },
     "user_tz": -330
    },
    "id": "W-2catbV6Zl2"
   },
   "outputs": [],
   "source": [
    "shape,loc,scale = scipy.stats.lognorm.fit(samples,floc=0)"
   ]
  },
  {
   "cell_type": "code",
   "execution_count": 6,
   "metadata": {
    "executionInfo": {
     "elapsed": 446,
     "status": "ok",
     "timestamp": 1637823980091,
     "user": {
      "displayName": "Prushal Technology",
      "photoUrl": "https://lh3.googleusercontent.com/a-/AOh14GggMcnEROBgQ1jjOx3pnkFczCjTo5CLAqFufHWFAQ=s64",
      "userId": "03982334573993321183"
     },
     "user_tz": -330
    },
    "id": "-WZJrbJe6mql"
   },
   "outputs": [],
   "source": [
    "num_bins = 50"
   ]
  },
  {
   "cell_type": "code",
   "execution_count": 7,
   "metadata": {
    "colab": {
     "base_uri": "https://localhost:8080/",
     "height": 266
    },
    "executionInfo": {
     "elapsed": 807,
     "status": "ok",
     "timestamp": 1637824044108,
     "user": {
      "displayName": "Prushal Technology",
      "photoUrl": "https://lh3.googleusercontent.com/a-/AOh14GggMcnEROBgQ1jjOx3pnkFczCjTo5CLAqFufHWFAQ=s64",
      "userId": "03982334573993321183"
     },
     "user_tz": -330
    },
    "id": "oZSZnlUl6p2s",
    "outputId": "980d5ccc-b277-4c12-d04b-b908c00c3061"
   },
   "outputs": [
    {
     "data": {
      "image/png": "[encoded data removed]",
      "text/plain": [
       "<Figure size 640x480 with 1 Axes>"
      ]
     },
     "metadata": {},
     "output_type": "display_data"
    }
   ],
   "source": [
    "counts,edges,patches = plt.hist(samples,bins=num_bins, color='r')"
   ]
  },
  {
   "cell_type": "code",
   "execution_count": 8,
   "metadata": {
    "executionInfo": {
     "elapsed": 404,
     "status": "ok",
     "timestamp": 1637824072235,
     "user": {
      "displayName": "Prushal Technology",
      "photoUrl": "https://lh3.googleusercontent.com/a-/AOh14GggMcnEROBgQ1jjOx3pnkFczCjTo5CLAqFufHWFAQ=s64",
      "userId": "03982334573993321183"
     },
     "user_tz": -330
    },
    "id": "I43p_Isk61pn"
   },
   "outputs": [],
   "source": [
    "# Binomial distribution"
   ]
  },
  {
   "cell_type": "code",
   "execution_count": 9,
   "metadata": {
    "executionInfo": {
     "elapsed": 1568,
     "status": "ok",
     "timestamp": 1637824123972,
     "user": {
      "displayName": "Prushal Technology",
      "photoUrl": "https://lh3.googleusercontent.com/a-/AOh14GggMcnEROBgQ1jjOx3pnkFczCjTo5CLAqFufHWFAQ=s64",
      "userId": "03982334573993321183"
     },
     "user_tz": -330
    },
    "id": "YZ9NMW5H7AWU"
   },
   "outputs": [],
   "source": [
    "import seaborn\n",
    "from scipy.stats import binom"
   ]
  },
  {
   "cell_type": "code",
   "execution_count": 10,
   "metadata": {
    "executionInfo": {
     "elapsed": 1596,
     "status": "ok",
     "timestamp": 1637824161928,
     "user": {
      "displayName": "Prushal Technology",
      "photoUrl": "https://lh3.googleusercontent.com/a-/AOh14GggMcnEROBgQ1jjOx3pnkFczCjTo5CLAqFufHWFAQ=s64",
      "userId": "03982334573993321183"
     },
     "user_tz": -330
    },
    "id": "8ddN3-Nw7JKu"
   },
   "outputs": [],
   "source": [
    "data = binom.rvs(n=17,p=0.7,loc=0,size=1010)"
   ]
  },
  {
   "cell_type": "code",
   "execution_count": 11,
   "metadata": {
    "colab": {
     "base_uri": "https://localhost:8080/",
     "height": 320
    },
    "executionInfo": {
     "elapsed": 446,
     "status": "ok",
     "timestamp": 1637824280444,
     "user": {
      "displayName": "Prushal Technology",
      "photoUrl": "https://lh3.googleusercontent.com/a-/AOh14GggMcnEROBgQ1jjOx3pnkFczCjTo5CLAqFufHWFAQ=s64",
      "userId": "03982334573993321183"
     },
     "user_tz": -330
    },
    "id": "6OKx3Khi7VT5",
    "outputId": "52d01959-09a0-4760-9623-2b4ceaea8ae1"
   },
   "outputs": [
    {
     "name": "stderr",
     "output_type": "stream",
     "text": [
      "C:\\Users\\ASUS\\AppData\\Local\\Temp\\ipykernel_4264\\618596683.py:1: UserWarning: \n",
      "\n",
      "`distplot` is a deprecated function and will be removed in seaborn v0.14.0.\n",
      "\n",
      "Please adapt your code to use either `displot` (a figure-level function with\n",
      "similar flexibility) or `histplot` (an axes-level function for histograms).\n",
      "\n",
      "For a guide to updating your code to use the new functions, please see\n",
      "https://gist.github.com/mwaskom/de44147ed2974457ad6372750bbe5751\n",
      "\n",
      "  ax = seaborn.distplot(data, kde=True, color='pink', hist_kws={\"linewidth\":22, 'alpha':0.77})\n"
     ]
    },
    {
     "data": {
      "image/png": "[encoded data removed]",
      "text/plain": [
       "<Figure size 640x480 with 1 Axes>"
      ]
     },
     "metadata": {},
     "output_type": "display_data"
    }
   ],
   "source": [
    "ax = seaborn.distplot(data, kde=True, color='pink', hist_kws={\"linewidth\":22, 'alpha':0.77})"
   ]
  },
  {
   "cell_type": "code",
   "execution_count": 12,
   "metadata": {
    "executionInfo": {
     "elapsed": 5,
     "status": "ok",
     "timestamp": 1637824313913,
     "user": {
      "displayName": "Prushal Technology",
      "photoUrl": "https://lh3.googleusercontent.com/a-/AOh14GggMcnEROBgQ1jjOx3pnkFczCjTo5CLAqFufHWFAQ=s64",
      "userId": "03982334573993321183"
     },
     "user_tz": -330
    },
    "id": "XIPQncEJ7rZK"
   },
   "outputs": [],
   "source": [
    "#Poisson Distribution"
   ]
  },
  {
   "cell_type": "code",
   "execution_count": 13,
   "metadata": {
    "executionInfo": {
     "elapsed": 394,
     "status": "ok",
     "timestamp": 1637824346241,
     "user": {
      "displayName": "Prushal Technology",
      "photoUrl": "https://lh3.googleusercontent.com/a-/AOh14GggMcnEROBgQ1jjOx3pnkFczCjTo5CLAqFufHWFAQ=s64",
      "userId": "03982334573993321183"
     },
     "user_tz": -330
    },
    "id": "GS-6bKH877UO"
   },
   "outputs": [],
   "source": [
    "s = np.random.poisson(5,10000)"
   ]
  },
  {
   "cell_type": "code",
   "execution_count": 14,
   "metadata": {
    "colab": {
     "base_uri": "https://localhost:8080/",
     "height": 352
    },
    "executionInfo": {
     "elapsed": 424,
     "status": "ok",
     "timestamp": 1637824415811,
     "user": {
      "displayName": "Prushal Technology",
      "photoUrl": "https://lh3.googleusercontent.com/a-/AOh14GggMcnEROBgQ1jjOx3pnkFczCjTo5CLAqFufHWFAQ=s64",
      "userId": "03982334573993321183"
     },
     "user_tz": -330
    },
    "id": "HTfiO0eH8DNC",
    "outputId": "f68dbd31-e3e0-4e0c-bf8e-7e2226a7f492"
   },
   "outputs": [
    {
     "data": {
      "text/plain": [
       "(array([  83.,  328.,  803., 1380., 1751., 1820., 1481., 1055.,  608.,\n",
       "         346.,  201.,   81.,   42.,   12.,    7.,    2.]),\n",
       " array([ 0.,  1.,  2.,  3.,  4.,  5.,  6.,  7.,  8.,  9., 10., 11., 12.,\n",
       "        13., 14., 15., 16.]),\n",
       " <BarContainer object of 16 artists>)"
      ]
     },
     "execution_count": 14,
     "metadata": {},
     "output_type": "execute_result"
    },
    {
     "data": {
      "image/png": "[encoded data removed]",
      "text/plain": [
       "<Figure size 640x480 with 1 Axes>"
      ]
     },
     "metadata": {},
     "output_type": "display_data"
    }
   ],
   "source": [
    "plt.hist(s,16,color='g')"
   ]
  },
  {
   "cell_type": "code",
   "execution_count": 15,
   "metadata": {
    "executionInfo": {
     "elapsed": 400,
     "status": "ok",
     "timestamp": 1637824466843,
     "user": {
      "displayName": "Prushal Technology",
      "photoUrl": "https://lh3.googleusercontent.com/a-/AOh14GggMcnEROBgQ1jjOx3pnkFczCjTo5CLAqFufHWFAQ=s64",
      "userId": "03982334573993321183"
     },
     "user_tz": -330
    },
    "id": "aW7rK9S78KYT"
   },
   "outputs": [],
   "source": [
    "# Bernoulli distribution"
   ]
  },
  {
   "cell_type": "code",
   "execution_count": 16,
   "metadata": {
    "executionInfo": {
     "elapsed": 417,
     "status": "ok",
     "timestamp": 1637824499448,
     "user": {
      "displayName": "Prushal Technology",
      "photoUrl": "https://lh3.googleusercontent.com/a-/AOh14GggMcnEROBgQ1jjOx3pnkFczCjTo5CLAqFufHWFAQ=s64",
      "userId": "03982334573993321183"
     },
     "user_tz": -330
    },
    "id": "9duNFV7k8gcp"
   },
   "outputs": [],
   "source": [
    "s = np.random.binomial(10,0.5,1000)"
   ]
  },
  {
   "cell_type": "code",
   "execution_count": 17,
   "metadata": {
    "colab": {
     "base_uri": "https://localhost:8080/"
    },
    "executionInfo": {
     "elapsed": 26,
     "status": "ok",
     "timestamp": 1637824504004,
     "user": {
      "displayName": "Prushal Technology",
      "photoUrl": "https://lh3.googleusercontent.com/a-/AOh14GggMcnEROBgQ1jjOx3pnkFczCjTo5CLAqFufHWFAQ=s64",
      "userId": "03982334573993321183"
     },
     "user_tz": -330
    },
    "id": "h4BOb2eJ8oaT",
    "outputId": "b028f172-6245-499c-be49-1fbbf3eaea0d"
   },
   "outputs": [
    {
     "data": {
      "text/plain": [
       "array([ 6,  5,  4,  4,  3,  5,  8,  3,  2,  5,  5,  2,  7,  3,  2,  6,  6,\n",
       "        6,  4,  5,  4,  4,  7,  6,  5,  4,  2,  7,  5,  5,  4,  7,  3,  1,\n",
       "        8,  6,  5,  5,  2,  3,  4,  2,  5,  7,  9,  2,  5,  0,  3,  3,  5,\n",
       "        5,  4,  4,  5,  4,  3,  2,  4,  7,  7,  4,  4,  8,  7,  5,  3,  4,\n",
       "        5,  5,  4,  6,  3,  3,  2,  6,  5,  4,  4,  3,  3,  5,  5,  7,  7,\n",
       "        6,  6,  4,  6,  6,  7,  6,  2,  5,  6,  4,  4,  6,  5,  7,  5,  4,\n",
       "        4,  4,  3,  5,  6,  6,  2,  5,  5,  4,  5,  4,  4,  6,  4,  8,  6,\n",
       "        5,  9,  7,  7,  4,  5,  3,  5,  5,  5,  4,  6,  0,  4,  6,  4,  5,\n",
       "        4,  2,  3,  3,  3,  6,  6,  4,  6,  4,  4,  3,  4,  3,  8,  4,  6,\n",
       "        6,  3,  6,  5,  4,  6,  6,  2,  3,  6,  4,  4,  2,  5,  2,  6,  5,\n",
       "        5,  4,  7,  4,  6,  5,  5,  5,  3,  3,  4,  4,  5,  5,  6,  4,  4,\n",
       "        4,  8,  6,  4,  7,  2,  4,  4,  5,  5,  6,  4,  6,  6,  7,  5,  6,\n",
       "        4,  8,  3,  3,  4,  4,  6,  4,  4,  5,  7,  6,  7,  6,  3,  5,  3,\n",
       "        9,  6,  3,  4,  8,  4,  6,  1,  3,  7,  6,  5,  8,  6,  2,  7,  5,\n",
       "        9,  7,  8,  4,  4,  6,  4,  6,  2,  7,  4,  6,  8,  5,  7,  7,  7,\n",
       "        7,  5,  5,  4,  5,  4,  3,  5,  1,  6,  4,  7,  7,  4,  4,  5,  6,\n",
       "        6,  2,  5,  6,  4,  4,  3,  6,  2,  3,  2,  1,  8,  4,  5,  3,  4,\n",
       "        6,  4,  4,  3,  6,  7,  6,  5,  4,  4,  7,  5,  2,  4,  4,  5,  5,\n",
       "        7,  5,  6,  7,  3,  5,  4,  8,  3,  5,  3,  4,  7,  5,  7,  7,  5,\n",
       "        5,  5,  6,  5,  6,  6,  4,  7,  8,  6,  7,  6,  5,  4,  4,  5,  6,\n",
       "        5,  5,  4,  5,  3,  3,  2,  6,  4,  5,  4,  3,  6,  4,  7,  5,  4,\n",
       "        4,  7,  8,  6,  5,  6,  5,  5,  7,  4,  4,  4,  3,  8,  5,  8,  6,\n",
       "        2,  4,  4,  4,  4,  3,  6,  6,  6,  5,  5,  5,  7,  7,  5,  3,  5,\n",
       "        5,  6,  7,  5,  7,  6,  7,  6,  4,  4,  4,  5,  4,  5,  6,  3,  6,\n",
       "        6,  5,  3,  5,  4,  4,  5,  2,  6,  5,  4,  3,  4,  7,  7,  6,  6,\n",
       "        7,  6,  7,  3,  3,  5,  4,  7,  4,  5,  2,  3,  5,  6,  5,  7,  4,\n",
       "        3,  6,  2,  7,  4,  6,  4,  6,  5,  5,  4,  2,  6,  4,  5,  2,  4,\n",
       "        5,  3,  5,  4,  1,  6,  8,  3,  5,  4,  5,  4,  6,  8,  6,  3,  6,\n",
       "        5,  8,  6,  3,  6,  5,  7,  7,  4,  6,  8,  4,  5,  4,  5,  1,  6,\n",
       "        4,  3,  7,  6,  5,  9,  7,  6,  4,  2,  3,  6,  6,  6,  5,  4,  4,\n",
       "        4,  7,  7,  5,  5,  5,  5,  6,  7,  5,  6,  4,  4,  5,  3,  6,  5,\n",
       "        7,  5,  6,  4,  8,  4,  3,  3,  6,  1,  4,  4,  5,  7,  5,  6,  6,\n",
       "        5,  5,  7,  4,  6,  9,  2,  5,  6,  6,  6,  3,  6,  4,  5,  4,  6,\n",
       "        4,  2,  9,  6,  6,  5,  5,  5,  5,  2,  5,  3,  7,  3,  5,  6,  7,\n",
       "        2,  7,  3,  2,  6,  4,  5,  5,  6,  4,  1,  5,  3,  2,  5,  5,  6,\n",
       "        7,  7,  6,  3,  6,  4,  3,  3,  5,  9,  6,  5,  4,  3,  7,  3,  5,\n",
       "        2,  7,  6,  7,  7,  5,  8,  6,  3,  3,  6,  6,  6,  6,  6,  4,  3,\n",
       "        7,  5,  5,  3,  4,  4,  7,  5,  7,  4,  4,  7,  6,  8,  5,  5,  5,\n",
       "        6,  5,  6,  3,  6,  6,  4,  6,  6,  3,  6,  3,  7,  4,  6,  6,  5,\n",
       "        5,  6,  5,  4,  4,  5,  7,  3,  8,  5,  6,  5,  7,  6,  6,  6,  8,\n",
       "        6,  6,  4,  4,  6,  7,  5,  7,  7,  5,  4,  4,  7,  4,  5,  6,  4,\n",
       "        5,  5,  5,  5,  4,  8,  4,  5,  6,  4,  7,  8,  5,  5,  4,  5,  9,\n",
       "        5,  4,  4,  4,  7,  3,  6,  3,  5,  6,  5,  5,  3,  6,  4,  6,  4,\n",
       "        7,  5,  4,  6,  3,  5,  8,  3,  1,  4,  6,  4,  6,  5,  4,  7,  5,\n",
       "        7,  6,  5,  4,  9,  3,  3,  5,  5,  4,  7,  7,  5,  6,  6,  5,  6,\n",
       "        3,  4,  5,  3,  6,  4,  4,  8,  7,  4,  3,  6,  4,  5,  5,  5,  3,\n",
       "        4,  5,  6,  5,  5,  6,  6,  4,  3,  4,  6,  5,  4,  5,  4,  4,  6,\n",
       "        3,  8,  5,  2,  4,  6,  5,  5,  3,  5,  5,  4,  7,  2,  3,  3,  7,\n",
       "        3,  7,  6,  4,  7,  4,  4,  5,  3,  3,  5,  8,  4,  5,  5,  5,  4,\n",
       "        6,  6,  7,  3,  9,  3,  1,  4,  6,  6,  5,  5,  7,  3,  5,  6,  9,\n",
       "        3,  4,  5,  7,  7,  5,  7,  4,  5,  1,  6,  6,  7,  5,  6,  5,  4,\n",
       "        7,  7,  4,  3,  3,  2,  4,  6,  2,  4,  7,  2,  3,  3,  5,  4,  5,\n",
       "        6,  5,  6,  5,  4,  7,  6,  6,  7,  3,  6,  5,  3,  6,  4,  6,  8,\n",
       "        3,  7,  3, 10,  4,  3,  6,  5,  5,  3,  6,  9,  5,  6,  5,  6,  6,\n",
       "        6,  5,  6,  4,  5,  5,  6,  4,  4,  4,  3,  6,  5,  4,  2,  6,  5,\n",
       "        3,  2,  6,  4,  1,  5,  4,  7,  7,  4,  7,  5,  7,  3,  6,  4,  5,\n",
       "        3,  4,  5,  7,  6,  6,  5,  1,  6,  4,  6,  4,  7,  5,  4,  4,  4,\n",
       "        4,  7,  4,  3,  6,  3,  5,  6,  7,  4,  4,  6,  6,  5,  6,  6,  5,\n",
       "        8,  6,  4,  5,  9,  3,  5,  5,  5,  4,  5,  6,  5,  5],\n",
       "      dtype=int32)"
      ]
     },
     "execution_count": 17,
     "metadata": {},
     "output_type": "execute_result"
    }
   ],
   "source": [
    "s"
   ]
  },
  {
   "cell_type": "code",
   "execution_count": 18,
   "metadata": {
    "colab": {
     "base_uri": "https://localhost:8080/",
     "height": 369
    },
    "executionInfo": {
     "elapsed": 428,
     "status": "ok",
     "timestamp": 1637824537713,
     "user": {
      "displayName": "Prushal Technology",
      "photoUrl": "https://lh3.googleusercontent.com/a-/AOh14GggMcnEROBgQ1jjOx3pnkFczCjTo5CLAqFufHWFAQ=s64",
      "userId": "03982334573993321183"
     },
     "user_tz": -330
    },
    "id": "cCEqAng_8o8K",
    "outputId": "e44eef5d-0dd3-4410-81a3-2209665ac7bc"
   },
   "outputs": [
    {
     "data": {
      "text/plain": [
       "(array([  2.,  13.,   0.,  44., 118.,   0., 217.,   0., 234., 208.,   0.,\n",
       "        115.,  34.,   0.,  14.,   1.]),\n",
       " array([ 0.   ,  0.625,  1.25 ,  1.875,  2.5  ,  3.125,  3.75 ,  4.375,\n",
       "         5.   ,  5.625,  6.25 ,  6.875,  7.5  ,  8.125,  8.75 ,  9.375,\n",
       "        10.   ]),\n",
       " <BarContainer object of 16 artists>)"
      ]
     },
     "execution_count": 18,
     "metadata": {},
     "output_type": "execute_result"
    },
    {
     "data": {
      "image/png": "[encoded data removed]",
      "text/plain": [
       "<Figure size 640x480 with 1 Axes>"
      ]
     },
     "metadata": {},
     "output_type": "display_data"
    }
   ],
   "source": [
    "plt.hist(s,16,color='Brown')"
   ]
  },
  {
   "cell_type": "code",
   "execution_count": null,
   "metadata": {
    "id": "IVu7KUns8x-a"
   },
   "outputs": [],
   "source": []
  }
 ],
 "metadata": {
  "colab": {
   "authorship_tag": "ABX9TyMKKXQrWb3tRydnVahv/lxb",
   "name": "2.8.1c Distribution Models.ipynb",
   "provenance": []
  },
  "kernelspec": {
   "display_name": "Python 3 (ipykernel)",
   "language": "python",
   "name": "python3"
  },
  "language_info": {
   "codemirror_mode": {
    "name": "ipython",
    "version": 3
   },
   "file_extension": ".py",
   "mimetype": "text/x-python",
   "name": "python",
   "nbconvert_exporter": "python",
   "pygments_lexer": "ipython3",
   "version": "3.13.2"
  }
 },
 "nbformat": 4,
 "nbformat_minor": 4
}
