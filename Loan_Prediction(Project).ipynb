{
 "cells": [
  {
   "cell_type": "code",
   "execution_count": 1,
   "metadata": {
    "executionInfo": {
     "elapsed": 39,
     "status": "ok",
     "timestamp": 1639905815960,
     "user": {
      "displayName": "Indeed Inspiring",
      "photoUrl": "https://lh3.googleusercontent.com/a-/AOh14GjJtTSXVwEn_JtFhBOkt3rDxmno-6yYadcJbGXH6Q=s64",
      "userId": "12904657308681625524"
     },
     "user_tz": -330
    },
    "id": "dlsk10ZvrIoY"
   },
   "outputs": [],
   "source": [
    "import pandas as pd\n",
    "import numpy as np\n",
    "import matplotlib.pyplot as plt\n",
    "%matplotlib inline"
   ]
  },
  {
   "cell_type": "code",
   "execution_count": 2,
   "metadata": {
    "executionInfo": {
     "elapsed": 74,
     "status": "ok",
     "timestamp": 1639905815997,
     "user": {
      "displayName": "Indeed Inspiring",
      "photoUrl": "https://lh3.googleusercontent.com/a-/AOh14GjJtTSXVwEn_JtFhBOkt3rDxmno-6yYadcJbGXH6Q=s64",
      "userId": "12904657308681625524"
     },
     "user_tz": -330
    },
    "id": "M8VEUBuItFpL"
   },
   "outputs": [],
   "source": [
    "data = pd.read_csv('loan_data.csv')"
   ]
  },
  {
   "cell_type": "code",
   "execution_count": 3,
   "metadata": {
    "colab": {
     "base_uri": "https://localhost:8080/",
     "height": 288
    },
    "executionInfo": {
     "elapsed": 76,
     "status": "ok",
     "timestamp": 1639905816000,
     "user": {
      "displayName": "Indeed Inspiring",
      "photoUrl": "https://lh3.googleusercontent.com/a-/AOh14GjJtTSXVwEn_JtFhBOkt3rDxmno-6yYadcJbGXH6Q=s64",
      "userId": "12904657308681625524"
     },
     "user_tz": -330
    },
    "id": "ZM11mzGytM34",
    "outputId": "ec7b6909-80d5-4c0a-9446-2664cd7826d8"
   },
   "outputs": [
    {
     "data": {
      "text/html": [
       "<div>\n",
       "<style scoped>\n",
       "    .dataframe tbody tr th:only-of-type {\n",
       "        vertical-align: middle;\n",
       "    }\n",
       "\n",
       "    .dataframe tbody tr th {\n",
       "        vertical-align: top;\n",
       "    }\n",
       "\n",
       "    .dataframe thead th {\n",
       "        text-align: right;\n",
       "    }\n",
       "</style>\n",
       "<table border=\"1\" class=\"dataframe\">\n",
       "  <thead>\n",
       "    <tr style=\"text-align: right;\">\n",
       "      <th></th>\n",
       "      <th>Loan_ID</th>\n",
       "      <th>Gender</th>\n",
       "      <th>Married</th>\n",
       "      <th>Dependents</th>\n",
       "      <th>Education</th>\n",
       "      <th>Self_Employed</th>\n",
       "      <th>ApplicantIncome</th>\n",
       "      <th>CoapplicantIncome</th>\n",
       "      <th>LoanAmount</th>\n",
       "      <th>Loan_Amount_Term</th>\n",
       "      <th>Credit_History</th>\n",
       "      <th>Property_Area</th>\n",
       "      <th>Loan_Status</th>\n",
       "    </tr>\n",
       "  </thead>\n",
       "  <tbody>\n",
       "    <tr>\n",
       "      <th>0</th>\n",
       "      <td>LP001003</td>\n",
       "      <td>Male</td>\n",
       "      <td>Yes</td>\n",
       "      <td>1</td>\n",
       "      <td>Graduate</td>\n",
       "      <td>No</td>\n",
       "      <td>4583</td>\n",
       "      <td>1508.0</td>\n",
       "      <td>128.0</td>\n",
       "      <td>360.0</td>\n",
       "      <td>1.0</td>\n",
       "      <td>Rural</td>\n",
       "      <td>N</td>\n",
       "    </tr>\n",
       "    <tr>\n",
       "      <th>1</th>\n",
       "      <td>LP001005</td>\n",
       "      <td>Male</td>\n",
       "      <td>Yes</td>\n",
       "      <td>0</td>\n",
       "      <td>Graduate</td>\n",
       "      <td>Yes</td>\n",
       "      <td>3000</td>\n",
       "      <td>0.0</td>\n",
       "      <td>66.0</td>\n",
       "      <td>360.0</td>\n",
       "      <td>1.0</td>\n",
       "      <td>Urban</td>\n",
       "      <td>Y</td>\n",
       "    </tr>\n",
       "    <tr>\n",
       "      <th>2</th>\n",
       "      <td>LP001006</td>\n",
       "      <td>Male</td>\n",
       "      <td>Yes</td>\n",
       "      <td>0</td>\n",
       "      <td>Not Graduate</td>\n",
       "      <td>No</td>\n",
       "      <td>2583</td>\n",
       "      <td>2358.0</td>\n",
       "      <td>120.0</td>\n",
       "      <td>360.0</td>\n",
       "      <td>1.0</td>\n",
       "      <td>Urban</td>\n",
       "      <td>Y</td>\n",
       "    </tr>\n",
       "    <tr>\n",
       "      <th>3</th>\n",
       "      <td>LP001008</td>\n",
       "      <td>Male</td>\n",
       "      <td>No</td>\n",
       "      <td>0</td>\n",
       "      <td>Graduate</td>\n",
       "      <td>No</td>\n",
       "      <td>6000</td>\n",
       "      <td>0.0</td>\n",
       "      <td>141.0</td>\n",
       "      <td>360.0</td>\n",
       "      <td>1.0</td>\n",
       "      <td>Urban</td>\n",
       "      <td>Y</td>\n",
       "    </tr>\n",
       "    <tr>\n",
       "      <th>4</th>\n",
       "      <td>LP001013</td>\n",
       "      <td>Male</td>\n",
       "      <td>Yes</td>\n",
       "      <td>0</td>\n",
       "      <td>Not Graduate</td>\n",
       "      <td>No</td>\n",
       "      <td>2333</td>\n",
       "      <td>1516.0</td>\n",
       "      <td>95.0</td>\n",
       "      <td>360.0</td>\n",
       "      <td>1.0</td>\n",
       "      <td>Urban</td>\n",
       "      <td>Y</td>\n",
       "    </tr>\n",
       "  </tbody>\n",
       "</table>\n",
       "</div>"
      ],
      "text/plain": [
       "    Loan_ID Gender Married Dependents     Education Self_Employed  \\\n",
       "0  LP001003   Male     Yes          1      Graduate            No   \n",
       "1  LP001005   Male     Yes          0      Graduate           Yes   \n",
       "2  LP001006   Male     Yes          0  Not Graduate            No   \n",
       "3  LP001008   Male      No          0      Graduate            No   \n",
       "4  LP001013   Male     Yes          0  Not Graduate            No   \n",
       "\n",
       "   ApplicantIncome  CoapplicantIncome  LoanAmount  Loan_Amount_Term  \\\n",
       "0             4583             1508.0       128.0             360.0   \n",
       "1             3000                0.0        66.0             360.0   \n",
       "2             2583             2358.0       120.0             360.0   \n",
       "3             6000                0.0       141.0             360.0   \n",
       "4             2333             1516.0        95.0             360.0   \n",
       "\n",
       "   Credit_History Property_Area Loan_Status  \n",
       "0             1.0         Rural           N  \n",
       "1             1.0         Urban           Y  \n",
       "2             1.0         Urban           Y  \n",
       "3             1.0         Urban           Y  \n",
       "4             1.0         Urban           Y  "
      ]
     },
     "execution_count": 3,
     "metadata": {},
     "output_type": "execute_result"
    }
   ],
   "source": [
    "data.head()"
   ]
  },
  {
   "cell_type": "code",
   "execution_count": 4,
   "metadata": {
    "colab": {
     "base_uri": "https://localhost:8080/"
    },
    "executionInfo": {
     "elapsed": 82,
     "status": "ok",
     "timestamp": 1639905816009,
     "user": {
      "displayName": "Indeed Inspiring",
      "photoUrl": "https://lh3.googleusercontent.com/a-/AOh14GjJtTSXVwEn_JtFhBOkt3rDxmno-6yYadcJbGXH6Q=s64",
      "userId": "12904657308681625524"
     },
     "user_tz": -330
    },
    "id": "Cw61OJd3tOYE",
    "outputId": "1d6ea48d-ddcb-4b74-93e6-821f32c6f680"
   },
   "outputs": [
    {
     "name": "stdout",
     "output_type": "stream",
     "text": [
      "<class 'pandas.core.frame.DataFrame'>\n",
      "RangeIndex: 381 entries, 0 to 380\n",
      "Data columns (total 13 columns):\n",
      " #   Column             Non-Null Count  Dtype  \n",
      "---  ------             --------------  -----  \n",
      " 0   Loan_ID            381 non-null    object \n",
      " 1   Gender             376 non-null    object \n",
      " 2   Married            381 non-null    object \n",
      " 3   Dependents         373 non-null    object \n",
      " 4   Education          381 non-null    object \n",
      " 5   Self_Employed      360 non-null    object \n",
      " 6   ApplicantIncome    381 non-null    int64  \n",
      " 7   CoapplicantIncome  381 non-null    float64\n",
      " 8   LoanAmount         381 non-null    float64\n",
      " 9   Loan_Amount_Term   370 non-null    float64\n",
      " 10  Credit_History     351 non-null    float64\n",
      " 11  Property_Area      381 non-null    object \n",
      " 12  Loan_Status        381 non-null    object \n",
      "dtypes: float64(4), int64(1), object(8)\n",
      "memory usage: 38.8+ KB\n"
     ]
    }
   ],
   "source": [
    "data.info()"
   ]
  },
  {
   "cell_type": "code",
   "execution_count": 5,
   "metadata": {
    "executionInfo": {
     "elapsed": 72,
     "status": "ok",
     "timestamp": 1639905816011,
     "user": {
      "displayName": "Indeed Inspiring",
      "photoUrl": "https://lh3.googleusercontent.com/a-/AOh14GjJtTSXVwEn_JtFhBOkt3rDxmno-6yYadcJbGXH6Q=s64",
      "userId": "12904657308681625524"
     },
     "user_tz": -330
    },
    "id": "CVpAfWY-tXDH"
   },
   "outputs": [],
   "source": [
    "#Data Preprocessing"
   ]
  },
  {
   "cell_type": "code",
   "execution_count": 6,
   "metadata": {
    "colab": {
     "base_uri": "https://localhost:8080/"
    },
    "executionInfo": {
     "elapsed": 73,
     "status": "ok",
     "timestamp": 1639905816013,
     "user": {
      "displayName": "Indeed Inspiring",
      "photoUrl": "https://lh3.googleusercontent.com/a-/AOh14GjJtTSXVwEn_JtFhBOkt3rDxmno-6yYadcJbGXH6Q=s64",
      "userId": "12904657308681625524"
     },
     "user_tz": -330
    },
    "id": "p2E09OrvtnZz",
    "outputId": "babe4e52-6e46-4b36-a060-785da3b3f40a"
   },
   "outputs": [
    {
     "data": {
      "text/plain": [
       "Loan_ID               0\n",
       "Gender                5\n",
       "Married               0\n",
       "Dependents            8\n",
       "Education             0\n",
       "Self_Employed        21\n",
       "ApplicantIncome       0\n",
       "CoapplicantIncome     0\n",
       "LoanAmount            0\n",
       "Loan_Amount_Term     11\n",
       "Credit_History       30\n",
       "Property_Area         0\n",
       "Loan_Status           0\n",
       "dtype: int64"
      ]
     },
     "execution_count": 6,
     "metadata": {},
     "output_type": "execute_result"
    }
   ],
   "source": [
    "data.isna().sum()"
   ]
  },
  {
   "cell_type": "code",
   "execution_count": 7,
   "metadata": {
    "colab": {
     "base_uri": "https://localhost:8080/"
    },
    "executionInfo": {
     "elapsed": 855,
     "status": "ok",
     "timestamp": 1639905816799,
     "user": {
      "displayName": "Indeed Inspiring",
      "photoUrl": "https://lh3.googleusercontent.com/a-/AOh14GjJtTSXVwEn_JtFhBOkt3rDxmno-6yYadcJbGXH6Q=s64",
      "userId": "12904657308681625524"
     },
     "user_tz": -330
    },
    "id": "WUZaKcpttvsX",
    "outputId": "962ba6d1-3ba0-4f13-c591-df517170b824"
   },
   "outputs": [
    {
     "data": {
      "text/plain": [
       "Gender\n",
       "Male      291\n",
       "Female     85\n",
       "Name: count, dtype: int64"
      ]
     },
     "execution_count": 7,
     "metadata": {},
     "output_type": "execute_result"
    }
   ],
   "source": [
    "data['Gender'].value_counts()"
   ]
  },
  {
   "cell_type": "code",
   "execution_count": 8,
   "metadata": {
    "executionInfo": {
     "elapsed": 109,
     "status": "ok",
     "timestamp": 1639905816805,
     "user": {
      "displayName": "Indeed Inspiring",
      "photoUrl": "https://lh3.googleusercontent.com/a-/AOh14GjJtTSXVwEn_JtFhBOkt3rDxmno-6yYadcJbGXH6Q=s64",
      "userId": "12904657308681625524"
     },
     "user_tz": -330
    },
    "id": "aU7IRga0uC42"
   },
   "outputs": [],
   "source": [
    "data.Gender = data.Gender.fillna('Male')"
   ]
  },
  {
   "cell_type": "code",
   "execution_count": 9,
   "metadata": {
    "colab": {
     "base_uri": "https://localhost:8080/"
    },
    "executionInfo": {
     "elapsed": 111,
     "status": "ok",
     "timestamp": 1639905816808,
     "user": {
      "displayName": "Indeed Inspiring",
      "photoUrl": "https://lh3.googleusercontent.com/a-/AOh14GjJtTSXVwEn_JtFhBOkt3rDxmno-6yYadcJbGXH6Q=s64",
      "userId": "12904657308681625524"
     },
     "user_tz": -330
    },
    "id": "3znPDkJQuMYF",
    "outputId": "7a6a61f3-3576-4033-e729-619fa5a63b2b"
   },
   "outputs": [
    {
     "data": {
      "text/plain": [
       "Married\n",
       "Yes    228\n",
       "No     153\n",
       "Name: count, dtype: int64"
      ]
     },
     "execution_count": 9,
     "metadata": {},
     "output_type": "execute_result"
    }
   ],
   "source": [
    "data['Married'].value_counts()"
   ]
  },
  {
   "cell_type": "code",
   "execution_count": 10,
   "metadata": {
    "executionInfo": {
     "elapsed": 111,
     "status": "ok",
     "timestamp": 1639905816810,
     "user": {
      "displayName": "Indeed Inspiring",
      "photoUrl": "https://lh3.googleusercontent.com/a-/AOh14GjJtTSXVwEn_JtFhBOkt3rDxmno-6yYadcJbGXH6Q=s64",
      "userId": "12904657308681625524"
     },
     "user_tz": -330
    },
    "id": "r1r4r9G-uUiN"
   },
   "outputs": [],
   "source": [
    "data.Married = data.Married.fillna('Yes')"
   ]
  },
  {
   "cell_type": "code",
   "execution_count": 11,
   "metadata": {
    "colab": {
     "base_uri": "https://localhost:8080/"
    },
    "executionInfo": {
     "elapsed": 104,
     "status": "ok",
     "timestamp": 1639905816811,
     "user": {
      "displayName": "Indeed Inspiring",
      "photoUrl": "https://lh3.googleusercontent.com/a-/AOh14GjJtTSXVwEn_JtFhBOkt3rDxmno-6yYadcJbGXH6Q=s64",
      "userId": "12904657308681625524"
     },
     "user_tz": -330
    },
    "id": "6Ok_8TCKugJ8",
    "outputId": "537ad3cd-0134-44d9-dc55-c22600a261b7"
   },
   "outputs": [
    {
     "data": {
      "text/plain": [
       "Dependents\n",
       "0     234\n",
       "2      59\n",
       "1      52\n",
       "3+     28\n",
       "Name: count, dtype: int64"
      ]
     },
     "execution_count": 11,
     "metadata": {},
     "output_type": "execute_result"
    }
   ],
   "source": [
    "data['Dependents'].value_counts()"
   ]
  },
  {
   "cell_type": "code",
   "execution_count": 12,
   "metadata": {
    "executionInfo": {
     "elapsed": 98,
     "status": "ok",
     "timestamp": 1639905816812,
     "user": {
      "displayName": "Indeed Inspiring",
      "photoUrl": "https://lh3.googleusercontent.com/a-/AOh14GjJtTSXVwEn_JtFhBOkt3rDxmno-6yYadcJbGXH6Q=s64",
      "userId": "12904657308681625524"
     },
     "user_tz": -330
    },
    "id": "dqVkIbkUumxx"
   },
   "outputs": [],
   "source": [
    "data.Dependents = data.Dependents.fillna('0')"
   ]
  },
  {
   "cell_type": "code",
   "execution_count": 13,
   "metadata": {
    "colab": {
     "base_uri": "https://localhost:8080/"
    },
    "executionInfo": {
     "elapsed": 97,
     "status": "ok",
     "timestamp": 1639905816812,
     "user": {
      "displayName": "Indeed Inspiring",
      "photoUrl": "https://lh3.googleusercontent.com/a-/AOh14GjJtTSXVwEn_JtFhBOkt3rDxmno-6yYadcJbGXH6Q=s64",
      "userId": "12904657308681625524"
     },
     "user_tz": -330
    },
    "id": "Als27oXKuvQ6",
    "outputId": "e89695ab-2b81-4e6b-af12-f3a333a8aba7"
   },
   "outputs": [
    {
     "data": {
      "text/plain": [
       "Self_Employed\n",
       "No     325\n",
       "Yes     35\n",
       "Name: count, dtype: int64"
      ]
     },
     "execution_count": 13,
     "metadata": {},
     "output_type": "execute_result"
    }
   ],
   "source": [
    "data['Self_Employed'].value_counts()"
   ]
  },
  {
   "cell_type": "code",
   "execution_count": 14,
   "metadata": {
    "executionInfo": {
     "elapsed": 92,
     "status": "ok",
     "timestamp": 1639905816813,
     "user": {
      "displayName": "Indeed Inspiring",
      "photoUrl": "https://lh3.googleusercontent.com/a-/AOh14GjJtTSXVwEn_JtFhBOkt3rDxmno-6yYadcJbGXH6Q=s64",
      "userId": "12904657308681625524"
     },
     "user_tz": -330
    },
    "id": "3qUO3Ymxu2hD"
   },
   "outputs": [],
   "source": [
    "data.Self_Employed = data.Self_Employed.fillna('No')"
   ]
  },
  {
   "cell_type": "code",
   "execution_count": 15,
   "metadata": {
    "colab": {
     "base_uri": "https://localhost:8080/"
    },
    "executionInfo": {
     "elapsed": 91,
     "status": "ok",
     "timestamp": 1639905816813,
     "user": {
      "displayName": "Indeed Inspiring",
      "photoUrl": "https://lh3.googleusercontent.com/a-/AOh14GjJtTSXVwEn_JtFhBOkt3rDxmno-6yYadcJbGXH6Q=s64",
      "userId": "12904657308681625524"
     },
     "user_tz": -330
    },
    "id": "SJ2PQ75Ou_et",
    "outputId": "17044363-8736-4587-f765-53d6b2547952"
   },
   "outputs": [
    {
     "data": {
      "text/plain": [
       "Loan_Amount_Term\n",
       "360.0    312\n",
       "180.0     29\n",
       "480.0     11\n",
       "300.0      7\n",
       "120.0      3\n",
       "84.0       3\n",
       "240.0      2\n",
       "60.0       1\n",
       "12.0       1\n",
       "36.0       1\n",
       "Name: count, dtype: int64"
      ]
     },
     "execution_count": 15,
     "metadata": {},
     "output_type": "execute_result"
    }
   ],
   "source": [
    "data['Loan_Amount_Term'].value_counts()"
   ]
  },
  {
   "cell_type": "code",
   "execution_count": 16,
   "metadata": {
    "executionInfo": {
     "elapsed": 81,
     "status": "ok",
     "timestamp": 1639905816814,
     "user": {
      "displayName": "Indeed Inspiring",
      "photoUrl": "https://lh3.googleusercontent.com/a-/AOh14GjJtTSXVwEn_JtFhBOkt3rDxmno-6yYadcJbGXH6Q=s64",
      "userId": "12904657308681625524"
     },
     "user_tz": -330
    },
    "id": "C8oKyRt5vL81"
   },
   "outputs": [],
   "source": [
    "data.Loan_Amount_Term = data.Loan_Amount_Term.fillna(360.0)"
   ]
  },
  {
   "cell_type": "code",
   "execution_count": 17,
   "metadata": {
    "colab": {
     "base_uri": "https://localhost:8080/"
    },
    "executionInfo": {
     "elapsed": 79,
     "status": "ok",
     "timestamp": 1639905816814,
     "user": {
      "displayName": "Indeed Inspiring",
      "photoUrl": "https://lh3.googleusercontent.com/a-/AOh14GjJtTSXVwEn_JtFhBOkt3rDxmno-6yYadcJbGXH6Q=s64",
      "userId": "12904657308681625524"
     },
     "user_tz": -330
    },
    "id": "HKMOHqbSvYpr",
    "outputId": "b7fd8af4-131c-4dba-c7b8-ab7739d0a436"
   },
   "outputs": [
    {
     "data": {
      "text/plain": [
       "Credit_History\n",
       "1.0    294\n",
       "0.0     57\n",
       "Name: count, dtype: int64"
      ]
     },
     "execution_count": 17,
     "metadata": {},
     "output_type": "execute_result"
    }
   ],
   "source": [
    "data['Credit_History'].value_counts()"
   ]
  },
  {
   "cell_type": "code",
   "execution_count": 18,
   "metadata": {
    "executionInfo": {
     "elapsed": 68,
     "status": "ok",
     "timestamp": 1639905816815,
     "user": {
      "displayName": "Indeed Inspiring",
      "photoUrl": "https://lh3.googleusercontent.com/a-/AOh14GjJtTSXVwEn_JtFhBOkt3rDxmno-6yYadcJbGXH6Q=s64",
      "userId": "12904657308681625524"
     },
     "user_tz": -330
    },
    "id": "V-Kr7jWovfCb"
   },
   "outputs": [],
   "source": [
    "data.Credit_History = data.Credit_History.fillna(1.0)"
   ]
  },
  {
   "cell_type": "code",
   "execution_count": 19,
   "metadata": {
    "colab": {
     "base_uri": "https://localhost:8080/"
    },
    "executionInfo": {
     "elapsed": 68,
     "status": "ok",
     "timestamp": 1639905816816,
     "user": {
      "displayName": "Indeed Inspiring",
      "photoUrl": "https://lh3.googleusercontent.com/a-/AOh14GjJtTSXVwEn_JtFhBOkt3rDxmno-6yYadcJbGXH6Q=s64",
      "userId": "12904657308681625524"
     },
     "user_tz": -330
    },
    "id": "IDqvZJyovvbR",
    "outputId": "2255d6f3-166f-4369-ee42-5ab5c016db66"
   },
   "outputs": [
    {
     "data": {
      "text/plain": [
       "Loan_ID              0\n",
       "Gender               0\n",
       "Married              0\n",
       "Dependents           0\n",
       "Education            0\n",
       "Self_Employed        0\n",
       "ApplicantIncome      0\n",
       "CoapplicantIncome    0\n",
       "LoanAmount           0\n",
       "Loan_Amount_Term     0\n",
       "Credit_History       0\n",
       "Property_Area        0\n",
       "Loan_Status          0\n",
       "dtype: int64"
      ]
     },
     "execution_count": 19,
     "metadata": {},
     "output_type": "execute_result"
    }
   ],
   "source": [
    "data.isna().sum()"
   ]
  },
  {
   "cell_type": "code",
   "execution_count": 20,
   "metadata": {
    "colab": {
     "base_uri": "https://localhost:8080/"
    },
    "executionInfo": {
     "elapsed": 63,
     "status": "ok",
     "timestamp": 1639905816817,
     "user": {
      "displayName": "Indeed Inspiring",
      "photoUrl": "https://lh3.googleusercontent.com/a-/AOh14GjJtTSXVwEn_JtFhBOkt3rDxmno-6yYadcJbGXH6Q=s64",
      "userId": "12904657308681625524"
     },
     "user_tz": -330
    },
    "id": "HohNoMmUvzWk",
    "outputId": "5df2f2b8-3250-4ab3-9575-d1cfc271a943"
   },
   "outputs": [
    {
     "data": {
      "text/plain": [
       "LoanAmount\n",
       "120.0    19\n",
       "110.0    16\n",
       "100.0    15\n",
       "128.0    11\n",
       "113.0    11\n",
       "         ..\n",
       "36.0      1\n",
       "61.0      1\n",
       "146.0     1\n",
       "142.0     1\n",
       "40.0      1\n",
       "Name: count, Length: 101, dtype: int64"
      ]
     },
     "execution_count": 20,
     "metadata": {},
     "output_type": "execute_result"
    }
   ],
   "source": [
    "data['LoanAmount'].value_counts()"
   ]
  },
  {
   "cell_type": "code",
   "execution_count": 21,
   "metadata": {
    "executionInfo": {
     "elapsed": 52,
     "status": "ok",
     "timestamp": 1639905816817,
     "user": {
      "displayName": "Indeed Inspiring",
      "photoUrl": "https://lh3.googleusercontent.com/a-/AOh14GjJtTSXVwEn_JtFhBOkt3rDxmno-6yYadcJbGXH6Q=s64",
      "userId": "12904657308681625524"
     },
     "user_tz": -330
    },
    "id": "zbf9oaC-v8o0"
   },
   "outputs": [],
   "source": [
    "data.LoanAmount = data.LoanAmount.fillna(120.0)"
   ]
  },
  {
   "cell_type": "code",
   "execution_count": 22,
   "metadata": {
    "colab": {
     "base_uri": "https://localhost:8080/"
    },
    "executionInfo": {
     "elapsed": 52,
     "status": "ok",
     "timestamp": 1639905816818,
     "user": {
      "displayName": "Indeed Inspiring",
      "photoUrl": "https://lh3.googleusercontent.com/a-/AOh14GjJtTSXVwEn_JtFhBOkt3rDxmno-6yYadcJbGXH6Q=s64",
      "userId": "12904657308681625524"
     },
     "user_tz": -330
    },
    "id": "nA2Qu9MQwFIJ",
    "outputId": "dbfedf34-e4fa-47c9-9fb2-6132e82024e6"
   },
   "outputs": [
    {
     "data": {
      "text/plain": [
       "Loan_ID              0\n",
       "Gender               0\n",
       "Married              0\n",
       "Dependents           0\n",
       "Education            0\n",
       "Self_Employed        0\n",
       "ApplicantIncome      0\n",
       "CoapplicantIncome    0\n",
       "LoanAmount           0\n",
       "Loan_Amount_Term     0\n",
       "Credit_History       0\n",
       "Property_Area        0\n",
       "Loan_Status          0\n",
       "dtype: int64"
      ]
     },
     "execution_count": 22,
     "metadata": {},
     "output_type": "execute_result"
    }
   ],
   "source": [
    "data.isna().sum()"
   ]
  },
  {
   "cell_type": "code",
   "execution_count": 23,
   "metadata": {
    "executionInfo": {
     "elapsed": 42,
     "status": "ok",
     "timestamp": 1639905816819,
     "user": {
      "displayName": "Indeed Inspiring",
      "photoUrl": "https://lh3.googleusercontent.com/a-/AOh14GjJtTSXVwEn_JtFhBOkt3rDxmno-6yYadcJbGXH6Q=s64",
      "userId": "12904657308681625524"
     },
     "user_tz": -330
    },
    "id": "T3sCE56swIk4"
   },
   "outputs": [],
   "source": [
    "#Split the data into input and output\n",
    "X = data.iloc[:,1:12].values\n",
    "y = data.iloc[:,12]"
   ]
  },
  {
   "cell_type": "code",
   "execution_count": 24,
   "metadata": {
    "colab": {
     "base_uri": "https://localhost:8080/"
    },
    "executionInfo": {
     "elapsed": 42,
     "status": "ok",
     "timestamp": 1639905816820,
     "user": {
      "displayName": "Indeed Inspiring",
      "photoUrl": "https://lh3.googleusercontent.com/a-/AOh14GjJtTSXVwEn_JtFhBOkt3rDxmno-6yYadcJbGXH6Q=s64",
      "userId": "12904657308681625524"
     },
     "user_tz": -330
    },
    "id": "DlQitD1uwl38",
    "outputId": "d083fd43-80d2-4f3e-ca82-35156393a896"
   },
   "outputs": [
    {
     "data": {
      "text/plain": [
       "0      N\n",
       "1      Y\n",
       "2      Y\n",
       "3      Y\n",
       "4      Y\n",
       "      ..\n",
       "376    Y\n",
       "377    Y\n",
       "378    Y\n",
       "379    Y\n",
       "380    N\n",
       "Name: Loan_Status, Length: 381, dtype: object"
      ]
     },
     "execution_count": 24,
     "metadata": {},
     "output_type": "execute_result"
    }
   ],
   "source": [
    "y"
   ]
  },
  {
   "cell_type": "code",
   "execution_count": 25,
   "metadata": {
    "executionInfo": {
     "elapsed": 40,
     "status": "ok",
     "timestamp": 1639905816821,
     "user": {
      "displayName": "Indeed Inspiring",
      "photoUrl": "https://lh3.googleusercontent.com/a-/AOh14GjJtTSXVwEn_JtFhBOkt3rDxmno-6yYadcJbGXH6Q=s64",
      "userId": "12904657308681625524"
     },
     "user_tz": -330
    },
    "id": "fyuvuZoYwnZA"
   },
   "outputs": [],
   "source": [
    "#train and test split"
   ]
  },
  {
   "cell_type": "code",
   "execution_count": 26,
   "metadata": {
    "executionInfo": {
     "elapsed": 972,
     "status": "ok",
     "timestamp": 1639905817754,
     "user": {
      "displayName": "Indeed Inspiring",
      "photoUrl": "https://lh3.googleusercontent.com/a-/AOh14GjJtTSXVwEn_JtFhBOkt3rDxmno-6yYadcJbGXH6Q=s64",
      "userId": "12904657308681625524"
     },
     "user_tz": -330
    },
    "id": "ZrKttwLswwB2"
   },
   "outputs": [],
   "source": [
    "from sklearn.model_selection import train_test_split"
   ]
  },
  {
   "cell_type": "code",
   "execution_count": 27,
   "metadata": {
    "executionInfo": {
     "elapsed": 164,
     "status": "ok",
     "timestamp": 1639905817755,
     "user": {
      "displayName": "Indeed Inspiring",
      "photoUrl": "https://lh3.googleusercontent.com/a-/AOh14GjJtTSXVwEn_JtFhBOkt3rDxmno-6yYadcJbGXH6Q=s64",
      "userId": "12904657308681625524"
     },
     "user_tz": -330
    },
    "id": "r_-fJphBw5tj"
   },
   "outputs": [],
   "source": [
    "X_train,X_test,y_train, y_test = train_test_split(X,y, test_size=0.15,random_state=0)"
   ]
  },
  {
   "cell_type": "code",
   "execution_count": 28,
   "metadata": {
    "colab": {
     "base_uri": "https://localhost:8080/"
    },
    "executionInfo": {
     "elapsed": 160,
     "status": "ok",
     "timestamp": 1639905817757,
     "user": {
      "displayName": "Indeed Inspiring",
      "photoUrl": "https://lh3.googleusercontent.com/a-/AOh14GjJtTSXVwEn_JtFhBOkt3rDxmno-6yYadcJbGXH6Q=s64",
      "userId": "12904657308681625524"
     },
     "user_tz": -330
    },
    "id": "KVkwx2_hxTyi",
    "outputId": "78477df4-11b9-4b20-fdbc-d46137cf0454"
   },
   "outputs": [
    {
     "data": {
      "text/plain": [
       "array([['Female', 'Yes', '0', ..., 360.0, 1.0, 'Rural'],\n",
       "       ['Female', 'No', '2', ..., 360.0, 1.0, 'Semiurban'],\n",
       "       ['Male', 'Yes', '0', ..., 360.0, 0.0, 'Semiurban'],\n",
       "       ...,\n",
       "       ['Male', 'No', '0', ..., 360.0, 1.0, 'Rural'],\n",
       "       ['Female', 'No', '0', ..., 360.0, 0.0, 'Semiurban'],\n",
       "       ['Male', 'Yes', '1', ..., 360.0, 1.0, 'Semiurban']],\n",
       "      shape=(323, 11), dtype=object)"
      ]
     },
     "execution_count": 28,
     "metadata": {},
     "output_type": "execute_result"
    }
   ],
   "source": [
    "X_train"
   ]
  },
  {
   "cell_type": "code",
   "execution_count": 29,
   "metadata": {
    "executionInfo": {
     "elapsed": 155,
     "status": "ok",
     "timestamp": 1639905817770,
     "user": {
      "displayName": "Indeed Inspiring",
      "photoUrl": "https://lh3.googleusercontent.com/a-/AOh14GjJtTSXVwEn_JtFhBOkt3rDxmno-6yYadcJbGXH6Q=s64",
      "userId": "12904657308681625524"
     },
     "user_tz": -330
    },
    "id": "COUECR4qxVlN"
   },
   "outputs": [],
   "source": [
    "from sklearn.preprocessing import LabelEncoder"
   ]
  },
  {
   "cell_type": "code",
   "execution_count": 30,
   "metadata": {
    "executionInfo": {
     "elapsed": 162,
     "status": "ok",
     "timestamp": 1639905817778,
     "user": {
      "displayName": "Indeed Inspiring",
      "photoUrl": "https://lh3.googleusercontent.com/a-/AOh14GjJtTSXVwEn_JtFhBOkt3rDxmno-6yYadcJbGXH6Q=s64",
      "userId": "12904657308681625524"
     },
     "user_tz": -330
    },
    "id": "Nn1ZZnZYxj53"
   },
   "outputs": [],
   "source": [
    "labelencoder = LabelEncoder()"
   ]
  },
  {
   "cell_type": "code",
   "execution_count": 31,
   "metadata": {
    "executionInfo": {
     "elapsed": 163,
     "status": "ok",
     "timestamp": 1639905817780,
     "user": {
      "displayName": "Indeed Inspiring",
      "photoUrl": "https://lh3.googleusercontent.com/a-/AOh14GjJtTSXVwEn_JtFhBOkt3rDxmno-6yYadcJbGXH6Q=s64",
      "userId": "12904657308681625524"
     },
     "user_tz": -330
    },
    "id": "veJjakH4xtwy"
   },
   "outputs": [],
   "source": [
    "for i in range(0,5):\n",
    "  X_train[:,i] = labelencoder.fit_transform(X_train[:,i])\n",
    "X_train[:,10] = labelencoder.fit_transform(X_train[:,10])"
   ]
  },
  {
   "cell_type": "code",
   "execution_count": 32,
   "metadata": {
    "executionInfo": {
     "elapsed": 163,
     "status": "ok",
     "timestamp": 1639905817781,
     "user": {
      "displayName": "Indeed Inspiring",
      "photoUrl": "https://lh3.googleusercontent.com/a-/AOh14GjJtTSXVwEn_JtFhBOkt3rDxmno-6yYadcJbGXH6Q=s64",
      "userId": "12904657308681625524"
     },
     "user_tz": -330
    },
    "id": "bXKjk8VlyX5R"
   },
   "outputs": [],
   "source": [
    "labelencoder_y = LabelEncoder()"
   ]
  },
  {
   "cell_type": "code",
   "execution_count": 33,
   "metadata": {
    "executionInfo": {
     "elapsed": 163,
     "status": "ok",
     "timestamp": 1639905817782,
     "user": {
      "displayName": "Indeed Inspiring",
      "photoUrl": "https://lh3.googleusercontent.com/a-/AOh14GjJtTSXVwEn_JtFhBOkt3rDxmno-6yYadcJbGXH6Q=s64",
      "userId": "12904657308681625524"
     },
     "user_tz": -330
    },
    "id": "kMqUuBCpyjwc"
   },
   "outputs": [],
   "source": [
    "y_train = labelencoder_y.fit_transform(y_train)"
   ]
  },
  {
   "cell_type": "code",
   "execution_count": 34,
   "metadata": {
    "executionInfo": {
     "elapsed": 163,
     "status": "ok",
     "timestamp": 1639905817783,
     "user": {
      "displayName": "Indeed Inspiring",
      "photoUrl": "https://lh3.googleusercontent.com/a-/AOh14GjJtTSXVwEn_JtFhBOkt3rDxmno-6yYadcJbGXH6Q=s64",
      "userId": "12904657308681625524"
     },
     "user_tz": -330
    },
    "id": "n4c3ULHpyq_l"
   },
   "outputs": [],
   "source": [
    "labelencoder_xt = LabelEncoder()"
   ]
  },
  {
   "cell_type": "code",
   "execution_count": 35,
   "metadata": {
    "executionInfo": {
     "elapsed": 164,
     "status": "ok",
     "timestamp": 1639905817784,
     "user": {
      "displayName": "Indeed Inspiring",
      "photoUrl": "https://lh3.googleusercontent.com/a-/AOh14GjJtTSXVwEn_JtFhBOkt3rDxmno-6yYadcJbGXH6Q=s64",
      "userId": "12904657308681625524"
     },
     "user_tz": -330
    },
    "id": "nTDysg2_yw4G"
   },
   "outputs": [],
   "source": [
    "for i in range(0,5):\n",
    "  X_test[:,i] = labelencoder.fit_transform(X_test[:,i])\n",
    "X_test[:,10] = labelencoder.fit_transform(X_test[:,10])"
   ]
  },
  {
   "cell_type": "code",
   "execution_count": 36,
   "metadata": {
    "executionInfo": {
     "elapsed": 163,
     "status": "ok",
     "timestamp": 1639905817784,
     "user": {
      "displayName": "Indeed Inspiring",
      "photoUrl": "https://lh3.googleusercontent.com/a-/AOh14GjJtTSXVwEn_JtFhBOkt3rDxmno-6yYadcJbGXH6Q=s64",
      "userId": "12904657308681625524"
     },
     "user_tz": -330
    },
    "id": "ItGiB6yuy34F"
   },
   "outputs": [],
   "source": [
    "y_test = labelencoder_y.fit_transform(y_test)"
   ]
  },
  {
   "cell_type": "code",
   "execution_count": 37,
   "metadata": {
    "colab": {
     "base_uri": "https://localhost:8080/"
    },
    "executionInfo": {
     "elapsed": 163,
     "status": "ok",
     "timestamp": 1639905817785,
     "user": {
      "displayName": "Indeed Inspiring",
      "photoUrl": "https://lh3.googleusercontent.com/a-/AOh14GjJtTSXVwEn_JtFhBOkt3rDxmno-6yYadcJbGXH6Q=s64",
      "userId": "12904657308681625524"
     },
     "user_tz": -330
    },
    "id": "EQLNdhNXy9Sr",
    "outputId": "c50b4a9e-340a-487f-87b6-2d81150b51ee"
   },
   "outputs": [
    {
     "data": {
      "text/plain": [
       "array([1, 0, 1, 1, 0, 1, 1, 1, 1, 1, 1, 1, 1, 0, 1, 1, 1, 1, 0, 1, 0, 1,\n",
       "       1, 1, 0, 1, 1, 0, 0, 1, 1, 1, 1, 1, 1, 0, 1, 0, 1, 1, 1, 1, 1, 0,\n",
       "       1, 1, 1, 0, 1, 0, 1, 0, 1, 0, 1, 1, 0, 1])"
      ]
     },
     "execution_count": 37,
     "metadata": {},
     "output_type": "execute_result"
    }
   ],
   "source": [
    "y_test"
   ]
  },
  {
   "cell_type": "code",
   "execution_count": 38,
   "metadata": {
    "colab": {
     "base_uri": "https://localhost:8080/"
    },
    "executionInfo": {
     "elapsed": 140,
     "status": "ok",
     "timestamp": 1639905817785,
     "user": {
      "displayName": "Indeed Inspiring",
      "photoUrl": "https://lh3.googleusercontent.com/a-/AOh14GjJtTSXVwEn_JtFhBOkt3rDxmno-6yYadcJbGXH6Q=s64",
      "userId": "12904657308681625524"
     },
     "user_tz": -330
    },
    "id": "-kXzKR9vy_fK",
    "outputId": "4904783d-7866-4a77-8163-8f0708ea2218"
   },
   "outputs": [
    {
     "data": {
      "text/plain": [
       "array([[0, 1, 0, ..., 360.0, 1.0, 0],\n",
       "       [0, 0, 2, ..., 360.0, 1.0, 1],\n",
       "       [1, 1, 0, ..., 360.0, 0.0, 1],\n",
       "       ...,\n",
       "       [1, 0, 0, ..., 360.0, 1.0, 0],\n",
       "       [0, 0, 0, ..., 360.0, 0.0, 1],\n",
       "       [1, 1, 1, ..., 360.0, 1.0, 1]], shape=(323, 11), dtype=object)"
      ]
     },
     "execution_count": 38,
     "metadata": {},
     "output_type": "execute_result"
    }
   ],
   "source": [
    "X_train"
   ]
  },
  {
   "cell_type": "code",
   "execution_count": 39,
   "metadata": {
    "executionInfo": {
     "elapsed": 132,
     "status": "ok",
     "timestamp": 1639905817786,
     "user": {
      "displayName": "Indeed Inspiring",
      "photoUrl": "https://lh3.googleusercontent.com/a-/AOh14GjJtTSXVwEn_JtFhBOkt3rDxmno-6yYadcJbGXH6Q=s64",
      "userId": "12904657308681625524"
     },
     "user_tz": -330
    },
    "id": "B6si8UrZzBzI"
   },
   "outputs": [],
   "source": [
    "#Scaling\n",
    "from sklearn.preprocessing import StandardScaler"
   ]
  },
  {
   "cell_type": "code",
   "execution_count": 40,
   "metadata": {
    "executionInfo": {
     "elapsed": 131,
     "status": "ok",
     "timestamp": 1639905817786,
     "user": {
      "displayName": "Indeed Inspiring",
      "photoUrl": "https://lh3.googleusercontent.com/a-/AOh14GjJtTSXVwEn_JtFhBOkt3rDxmno-6yYadcJbGXH6Q=s64",
      "userId": "12904657308681625524"
     },
     "user_tz": -330
    },
    "id": "qMb9tJGkzRKy"
   },
   "outputs": [],
   "source": [
    "sc = StandardScaler()"
   ]
  },
  {
   "cell_type": "code",
   "execution_count": 41,
   "metadata": {
    "executionInfo": {
     "elapsed": 132,
     "status": "ok",
     "timestamp": 1639905817787,
     "user": {
      "displayName": "Indeed Inspiring",
      "photoUrl": "https://lh3.googleusercontent.com/a-/AOh14GjJtTSXVwEn_JtFhBOkt3rDxmno-6yYadcJbGXH6Q=s64",
      "userId": "12904657308681625524"
     },
     "user_tz": -330
    },
    "id": "1QaobjmNzVQB"
   },
   "outputs": [],
   "source": [
    "X_train = sc.fit_transform(X_train)"
   ]
  },
  {
   "cell_type": "code",
   "execution_count": 42,
   "metadata": {
    "colab": {
     "base_uri": "https://localhost:8080/"
    },
    "executionInfo": {
     "elapsed": 130,
     "status": "ok",
     "timestamp": 1639905817787,
     "user": {
      "displayName": "Indeed Inspiring",
      "photoUrl": "https://lh3.googleusercontent.com/a-/AOh14GjJtTSXVwEn_JtFhBOkt3rDxmno-6yYadcJbGXH6Q=s64",
      "userId": "12904657308681625524"
     },
     "user_tz": -330
    },
    "id": "oZuENtg3zd2Q",
    "outputId": "c6e01761-b959-431c-f449-3f6ea78fc6ed"
   },
   "outputs": [
    {
     "data": {
      "text/plain": [
       "array([[-1.80277564,  0.79974615, -0.66372088, ...,  0.28806716,\n",
       "         0.42796049, -1.38739158],\n",
       "       [-1.80277564, -1.25039676,  1.397643  , ...,  0.28806716,\n",
       "         0.42796049, -0.10335869],\n",
       "       [ 0.5547002 ,  0.79974615, -0.66372088, ...,  0.28806716,\n",
       "        -2.33666429, -0.10335869],\n",
       "       ...,\n",
       "       [ 0.5547002 , -1.25039676, -0.66372088, ...,  0.28806716,\n",
       "         0.42796049, -1.38739158],\n",
       "       [-1.80277564, -1.25039676, -0.66372088, ...,  0.28806716,\n",
       "        -2.33666429, -0.10335869],\n",
       "       [ 0.5547002 ,  0.79974615,  0.36696106, ...,  0.28806716,\n",
       "         0.42796049, -0.10335869]], shape=(323, 11))"
      ]
     },
     "execution_count": 42,
     "metadata": {},
     "output_type": "execute_result"
    }
   ],
   "source": [
    "X_train"
   ]
  },
  {
   "cell_type": "code",
   "execution_count": 43,
   "metadata": {
    "executionInfo": {
     "elapsed": 110,
     "status": "ok",
     "timestamp": 1639905817788,
     "user": {
      "displayName": "Indeed Inspiring",
      "photoUrl": "https://lh3.googleusercontent.com/a-/AOh14GjJtTSXVwEn_JtFhBOkt3rDxmno-6yYadcJbGXH6Q=s64",
      "userId": "12904657308681625524"
     },
     "user_tz": -330
    },
    "id": "odoKSJtczf52"
   },
   "outputs": [],
   "source": [
    "X_test = sc.fit_transform(X_test)"
   ]
  },
  {
   "cell_type": "code",
   "execution_count": 44,
   "metadata": {
    "executionInfo": {
     "elapsed": 109,
     "status": "ok",
     "timestamp": 1639905817788,
     "user": {
      "displayName": "Indeed Inspiring",
      "photoUrl": "https://lh3.googleusercontent.com/a-/AOh14GjJtTSXVwEn_JtFhBOkt3rDxmno-6yYadcJbGXH6Q=s64",
      "userId": "12904657308681625524"
     },
     "user_tz": -330
    },
    "id": "WxXAn_QmztRw"
   },
   "outputs": [],
   "source": [
    "# PCA"
   ]
  },
  {
   "cell_type": "code",
   "execution_count": 45,
   "metadata": {
    "executionInfo": {
     "elapsed": 109,
     "status": "ok",
     "timestamp": 1639905817789,
     "user": {
      "displayName": "Indeed Inspiring",
      "photoUrl": "https://lh3.googleusercontent.com/a-/AOh14GjJtTSXVwEn_JtFhBOkt3rDxmno-6yYadcJbGXH6Q=s64",
      "userId": "12904657308681625524"
     },
     "user_tz": -330
    },
    "id": "zqyfjM_azzjn"
   },
   "outputs": [],
   "source": [
    "from sklearn.decomposition import PCA"
   ]
  },
  {
   "cell_type": "code",
   "execution_count": 46,
   "metadata": {
    "executionInfo": {
     "elapsed": 111,
     "status": "ok",
     "timestamp": 1639905817792,
     "user": {
      "displayName": "Indeed Inspiring",
      "photoUrl": "https://lh3.googleusercontent.com/a-/AOh14GjJtTSXVwEn_JtFhBOkt3rDxmno-6yYadcJbGXH6Q=s64",
      "userId": "12904657308681625524"
     },
     "user_tz": -330
    },
    "id": "QqqjnyJg0AtK"
   },
   "outputs": [],
   "source": [
    "pca = PCA(n_components=3)"
   ]
  },
  {
   "cell_type": "code",
   "execution_count": 47,
   "metadata": {
    "executionInfo": {
     "elapsed": 112,
     "status": "ok",
     "timestamp": 1639905817795,
     "user": {
      "displayName": "Indeed Inspiring",
      "photoUrl": "https://lh3.googleusercontent.com/a-/AOh14GjJtTSXVwEn_JtFhBOkt3rDxmno-6yYadcJbGXH6Q=s64",
      "userId": "12904657308681625524"
     },
     "user_tz": -330
    },
    "id": "-8P3j-bW0Jpa"
   },
   "outputs": [],
   "source": [
    "X_train = pca.fit_transform(X_train)"
   ]
  },
  {
   "cell_type": "code",
   "execution_count": 48,
   "metadata": {
    "executionInfo": {
     "elapsed": 112,
     "status": "ok",
     "timestamp": 1639905817796,
     "user": {
      "displayName": "Indeed Inspiring",
      "photoUrl": "https://lh3.googleusercontent.com/a-/AOh14GjJtTSXVwEn_JtFhBOkt3rDxmno-6yYadcJbGXH6Q=s64",
      "userId": "12904657308681625524"
     },
     "user_tz": -330
    },
    "id": "hHX0fdv-0RTx"
   },
   "outputs": [],
   "source": [
    "X_test = pca.fit_transform(X_test)"
   ]
  },
  {
   "cell_type": "code",
   "execution_count": 49,
   "metadata": {
    "colab": {
     "base_uri": "https://localhost:8080/"
    },
    "executionInfo": {
     "elapsed": 112,
     "status": "ok",
     "timestamp": 1639905817797,
     "user": {
      "displayName": "Indeed Inspiring",
      "photoUrl": "https://lh3.googleusercontent.com/a-/AOh14GjJtTSXVwEn_JtFhBOkt3rDxmno-6yYadcJbGXH6Q=s64",
      "userId": "12904657308681625524"
     },
     "user_tz": -330
    },
    "id": "d0Sp2mso0ZFO",
    "outputId": "1ec7cca1-c9b0-4f37-f768-3a6b66985213"
   },
   "outputs": [
    {
     "data": {
      "text/plain": [
       "array([[ 6.07681059e-01,  3.97475396e+00,  4.16650326e-01],\n",
       "       [-9.44797918e-01,  7.35971231e-01,  2.39206559e-01],\n",
       "       [ 2.22760701e-01, -2.67124070e-01,  1.83721637e+00],\n",
       "       [ 1.92594121e-02, -1.10236120e+00,  6.70228910e-01],\n",
       "       [-1.67685407e+00, -4.18740804e-01,  5.06551707e-01],\n",
       "       [ 1.03893907e+00, -1.76757786e+00, -1.15117459e+00],\n",
       "       [-5.44979319e-01,  1.09704027e+00, -8.31606932e-02],\n",
       "       [ 1.05775111e+00, -9.32073739e-01,  1.42353296e+00],\n",
       "       [-1.58430713e+00,  1.13060253e+00, -8.22954733e-01],\n",
       "       [-7.95845055e-01,  6.16257475e-01,  2.50016148e-01],\n",
       "       [ 7.15624459e-01, -7.58087402e-01, -5.53012383e-01],\n",
       "       [ 5.54239307e-01, -1.33704211e-01, -2.82015955e+00],\n",
       "       [ 1.82838589e+00, -7.40138575e-01, -1.46555479e+00],\n",
       "       [ 1.89607949e-01,  1.93850966e-02,  2.04500686e+00],\n",
       "       [ 4.06903100e-01,  3.23512796e-01,  6.51047933e-01],\n",
       "       [ 1.61150894e+00,  6.67595388e-01, -9.97423806e-02],\n",
       "       [ 5.50486182e-01, -8.38843118e-01,  3.72107193e-01],\n",
       "       [ 2.71118170e+00,  9.71513938e-01, -9.86662098e-03],\n",
       "       [ 1.22043874e+00, -2.57099261e+00, -3.73745160e+00],\n",
       "       [ 4.76541114e-01, -8.90690797e-01,  2.24806912e-01],\n",
       "       [ 2.17932657e+00, -1.02505334e-01,  5.71111708e-01],\n",
       "       [-1.77486684e+00, -6.23262940e-01, -6.34349266e-01],\n",
       "       [ 2.39919280e+00,  2.08173336e+00, -6.03537594e-02],\n",
       "       [ 2.98561341e-01,  5.45860965e-01,  6.45592742e-01],\n",
       "       [ 1.52549191e+00, -8.73534359e-01,  6.32612584e-01],\n",
       "       [ 1.42304682e+00, -1.12284200e+00, -1.00423530e+00],\n",
       "       [ 3.54608726e-01, -2.47095283e+00, -8.36973523e-01],\n",
       "       [ 1.15798715e+00,  1.31524376e+00,  4.27436174e-01],\n",
       "       [-2.16986686e+00,  9.59742363e-01,  1.18969915e-01],\n",
       "       [-1.47629862e+00, -8.30394361e-01, -1.11883544e+00],\n",
       "       [-1.23777985e+00, -1.06574976e+00,  5.27183785e-01],\n",
       "       [ 1.09365996e-01, -8.68397160e-01,  7.92198302e-01],\n",
       "       [-1.44969074e-01,  1.97585143e+00,  1.20463885e+00],\n",
       "       [-1.26412281e+00, -5.38789167e-01, -1.32914376e+00],\n",
       "       [ 1.97957115e-01, -7.19761114e-01,  1.47653409e+00],\n",
       "       [-2.77383310e-01,  9.45281410e-01,  3.43000981e-03],\n",
       "       [ 4.40711685e+00,  2.86413871e+00, -2.99373572e+00],\n",
       "       [ 2.51694458e+00, -1.01274100e+00, -1.70358243e+00],\n",
       "       [-1.65641133e+00,  1.38491108e+00, -1.08697811e+00],\n",
       "       [ 4.43207980e-01,  3.81998125e-01,  6.32590557e-01],\n",
       "       [ 1.86041491e+00, -1.84954867e-01, -3.95520673e-01],\n",
       "       [ 3.28301077e+00,  2.80732352e+00, -9.85080322e-01],\n",
       "       [ 9.73633180e-01, -2.09549385e-01,  1.45621810e+00],\n",
       "       [ 2.17298175e+00,  8.19531880e-01, -2.14227128e-01],\n",
       "       [ 1.82815986e+00,  1.52324863e-01,  2.47900113e-01],\n",
       "       [ 1.27337585e-01,  2.33867020e+00, -1.95247500e-01],\n",
       "       [-9.88301675e-01, -1.24681879e-02,  6.54736248e-01],\n",
       "       [ 1.91006934e-01, -3.31643012e-01,  1.22188586e+00],\n",
       "       [-2.00661885e+00,  5.87021480e-01,  1.34319070e+00],\n",
       "       [-1.64020798e+00,  7.75032336e-01, -4.91062445e-01],\n",
       "       [-1.40676467e+00,  3.26361967e+00,  4.67704216e-01],\n",
       "       [-9.48073145e-01, -2.29633258e-01,  1.02975743e+00],\n",
       "       [-1.61338796e+00,  2.10784104e+00, -1.05940083e+00],\n",
       "       [ 9.71872939e-01,  8.55801557e-01,  1.12308134e+00],\n",
       "       [ 1.18392323e-01, -9.33082533e-01,  1.70617054e+00],\n",
       "       [-9.86886224e-01,  6.93719278e-01,  4.77779069e-01],\n",
       "       [ 2.85441608e-01, -6.51431881e-01,  1.41297909e+00],\n",
       "       [-1.36005924e+00, -8.69538326e-01, -1.28414905e+00],\n",
       "       [-1.33118322e+00, -7.25090521e-01, -1.38196322e+00],\n",
       "       [ 1.21645098e-01, -8.60011235e-01,  8.16759005e-01],\n",
       "       [ 1.10847740e+00,  9.28939445e-02, -1.18508638e+00],\n",
       "       [ 4.55269808e-01, -6.28352861e-01, -1.73826149e+00],\n",
       "       [ 8.33660560e-01,  6.12807463e-01, -3.64958916e-01],\n",
       "       [-1.98530580e-01,  2.54401072e+00, -2.73713564e-01],\n",
       "       [-2.44265779e+00,  3.76549482e-01, -7.76859097e-01],\n",
       "       [-3.57513012e-01, -1.47510491e+00,  4.92987236e-02],\n",
       "       [ 4.90071708e-01, -1.12556654e+00,  3.57556554e-01],\n",
       "       [-2.33907093e+00,  1.90701773e-01, -1.32610470e+00],\n",
       "       [ 2.70414825e-01, -1.27424935e+00,  6.41130882e-01],\n",
       "       [ 3.17388011e+00,  1.78058903e+00, -1.41329854e+00],\n",
       "       [-2.26183437e+00,  7.38885715e-01, -9.54984468e-01],\n",
       "       [ 1.37745625e+00,  1.79405491e+00, -5.67122070e-01],\n",
       "       [-1.14433515e+00,  1.72021272e-02, -7.17272564e-01],\n",
       "       [ 5.94200254e-01,  1.25916894e-01, -1.65232411e+00],\n",
       "       [ 8.61628709e-01, -1.27769852e+00, -5.11573117e-02],\n",
       "       [-1.02480592e+00, -6.16533065e-01,  8.52828561e-01],\n",
       "       [ 1.29367057e+00, -2.38567606e-02, -7.09614547e-01],\n",
       "       [ 1.23066228e+00,  1.34255937e+00,  7.44726554e-01],\n",
       "       [-9.65950986e-01,  1.94161536e+00, -1.98065339e+00],\n",
       "       [-1.46168492e+00, -1.01285129e+00, -1.62513266e+00],\n",
       "       [ 8.28121768e-01, -3.99135147e-01,  1.06503048e+00],\n",
       "       [-6.40556578e-01, -3.11617926e-02, -1.03451432e-01],\n",
       "       [ 1.67174132e+00, -4.18770352e-01, -2.18137666e+00],\n",
       "       [ 3.16566786e-01, -2.51191130e-01,  9.16853969e-01],\n",
       "       [ 5.37101749e-01, -1.19770307e-01, -1.87131968e+00],\n",
       "       [ 1.12061712e+00, -1.20521134e-01,  7.98829881e-01],\n",
       "       [ 7.03775661e-01,  9.57087694e-01,  3.07218914e-01],\n",
       "       [ 2.39530207e-01, -8.42461759e-01, -1.66685767e-01],\n",
       "       [ 2.93543006e-01, -1.30860816e+00,  1.89846298e-02],\n",
       "       [-8.23709997e-01,  7.66457780e-01, -1.99174007e-01],\n",
       "       [-6.67951907e-01,  1.61980127e+00,  1.59031113e+00],\n",
       "       [-7.20624255e-01,  1.88991739e+00,  7.94146746e-02],\n",
       "       [ 2.25014260e-01, -1.80419778e-01,  3.83188835e-01],\n",
       "       [ 4.10329207e-01, -1.63525045e+00, -1.57550058e+00],\n",
       "       [ 1.57395043e+00, -2.86621650e-01,  1.81092272e+00],\n",
       "       [-1.97044127e+00,  1.17259188e+00, -2.00400060e-02],\n",
       "       [ 7.65217086e-01, -5.36112020e-02,  3.10216393e-01],\n",
       "       [ 1.60253126e+00, -7.23001064e-01, -7.42828724e-01],\n",
       "       [ 1.23107782e+00, -2.93944823e-01,  1.59249300e+00],\n",
       "       [-2.67691941e+00, -3.24463615e-01, -2.38698569e+00],\n",
       "       [-1.60261508e-01,  5.03935477e+00, -1.02829565e-01],\n",
       "       [ 1.41501103e+00, -1.12888687e+00,  4.60410265e-01],\n",
       "       [ 1.31793113e+00, -2.09011390e-01,  4.58174127e-01],\n",
       "       [-1.03649078e+00, -6.24887018e-01, -2.18958672e-01],\n",
       "       [-2.21685362e+00,  1.66704576e-02, -4.88372987e-01],\n",
       "       [ 1.00058795e-01, -5.34520984e-01,  1.05893493e+00],\n",
       "       [-2.40945869e-01, -1.34294361e+00, -1.04600965e+00],\n",
       "       [-2.51950415e-01, -8.60419514e-01, -2.90931955e+00],\n",
       "       [ 1.75566712e+00, -2.12225154e-02, -6.37933960e-01],\n",
       "       [-4.74864947e-01,  5.20294523e-01,  4.36810255e-01],\n",
       "       [-1.26778820e+00, -5.02413824e-01, -1.41942347e+00],\n",
       "       [-1.16296419e+00, -2.75656411e-01, -1.21587293e+00],\n",
       "       [ 2.18535262e+00, -1.13126991e+00, -8.49395860e-01],\n",
       "       [ 5.43295161e-01,  8.57407791e-01, -7.07741099e-01],\n",
       "       [-2.38883242e-01, -1.79445936e+00, -4.71010675e-01],\n",
       "       [-2.58536186e+00,  2.89249251e-02, -6.27766002e-01],\n",
       "       [-2.93889079e+00, -9.39611144e-01, -2.80475417e+00],\n",
       "       [-8.34667897e-01, -1.92529283e-01,  1.10945232e+00],\n",
       "       [-5.90385276e-02, -7.82754414e-01,  1.00553497e+00],\n",
       "       [-1.72364465e+00,  1.96833302e+00,  9.04155597e-01],\n",
       "       [-2.10479133e+00,  1.35158919e-02, -5.70758589e-01],\n",
       "       [-1.89649806e-01, -1.66694917e+00,  1.32012391e+00],\n",
       "       [-1.09319798e+00, -4.35411147e-01,  9.54721116e-01],\n",
       "       [ 6.96726478e-02, -1.17037058e+00,  1.71918123e-01],\n",
       "       [-4.66366237e-01,  3.14226256e-01,  6.20529060e-01],\n",
       "       [ 1.35375405e+00, -1.38263523e-01,  7.28452822e-01],\n",
       "       [ 1.16356076e+00, -8.20827574e-01, -2.08138666e-01],\n",
       "       [ 1.85032552e+00, -6.22140454e-01,  4.62118050e-01],\n",
       "       [-2.87984938e-01,  1.78896069e-01, -2.90083379e-01],\n",
       "       [ 3.07166862e+00,  2.67154850e+00,  2.29675887e-01],\n",
       "       [-5.46650690e-01,  2.09547422e+00,  1.42553312e+00],\n",
       "       [ 7.78731049e-01, -1.12805550e-01, -1.70095113e+00],\n",
       "       [-1.92533143e+00,  1.26210491e+00,  1.01919937e+00],\n",
       "       [-2.50874350e+00, -1.30051624e-01, -1.74246147e+00],\n",
       "       [ 4.29614382e-01, -1.44649688e+00, -4.92136985e-02],\n",
       "       [ 7.27490331e-02,  3.26250882e+00, -9.30566227e-01],\n",
       "       [ 1.75882482e+00, -2.44298411e-01, -5.18901240e-01],\n",
       "       [-1.13689300e+00,  1.30889129e+00, -3.92049379e-01],\n",
       "       [-2.21230148e+00, -8.05323709e-01,  2.39114409e+00],\n",
       "       [ 1.69657696e+00, -8.12072369e-01,  1.17282283e-03],\n",
       "       [-3.33374523e-01,  3.16064445e+00,  6.72573542e-01],\n",
       "       [ 5.41247005e-01, -9.38035615e-01, -4.67597077e-01],\n",
       "       [-2.09396478e+00, -1.81518435e-01, -1.07617895e+00],\n",
       "       [ 9.76953408e-01, -2.07562071e-01,  1.85950916e-01],\n",
       "       [ 1.41758855e-01, -1.27418067e+00, -2.04404471e-01],\n",
       "       [ 1.46342069e+00,  1.08699861e+00,  1.89994234e-01],\n",
       "       [ 1.88037252e+00,  2.60415967e-01, -9.21069088e-01],\n",
       "       [ 2.73880410e+00, -2.19052738e-01, -1.25478243e+00],\n",
       "       [ 2.52852249e+00,  6.92702267e-01,  2.37950106e-01],\n",
       "       [-1.34466092e+00, -5.75272139e-01, -8.07582750e-01],\n",
       "       [ 1.91339268e-01, -1.62916455e+00,  3.01869788e-01],\n",
       "       [-2.42917783e+00,  3.65567323e-01, -3.22196634e-01],\n",
       "       [-1.82306124e+00, -4.20948355e-01, -2.97904516e-01],\n",
       "       [ 4.43230801e-01, -7.10675868e-01, -1.32559716e+00],\n",
       "       [-2.46883259e+00, -1.82575344e-01,  7.77506492e-01],\n",
       "       [-8.81306030e-01,  1.15325411e-01, -1.76215437e-01],\n",
       "       [ 1.77952334e+00, -1.07635838e-02,  1.99417430e+00],\n",
       "       [-1.51161483e+00, -1.65979079e+00,  3.90308076e-01],\n",
       "       [ 1.89611678e+00, -9.17910574e-01, -7.77636131e-01],\n",
       "       [-8.60267433e-01,  9.23905594e-01, -2.24977895e-01],\n",
       "       [ 5.40006253e-01,  1.90747503e+00, -1.64614427e+00],\n",
       "       [ 1.62877864e+00, -4.46721066e-02,  1.58489776e+00],\n",
       "       [ 1.82353361e+00, -1.02901813e+00, -2.38188430e+00],\n",
       "       [-8.72447882e-01, -7.33573856e-03,  1.06169081e+00],\n",
       "       [-1.26128991e+00, -5.77928621e-01,  8.05305880e-01],\n",
       "       [-7.41725121e-01, -7.90440122e-01, -6.59031591e-02],\n",
       "       [ 1.96289316e+00,  3.24845755e-01,  3.60979119e-01],\n",
       "       [ 6.11744825e-01,  7.33876471e-01, -1.01350849e-01],\n",
       "       [ 6.65541976e-01,  1.20674599e+00,  5.45599866e-01],\n",
       "       [-4.54947358e-01,  5.86442323e-01,  4.32198641e-01],\n",
       "       [ 3.25771163e-01, -1.41786721e+00, -5.91428260e-01],\n",
       "       [-9.79608933e-01, -9.54318767e-02,  1.10169006e+00],\n",
       "       [ 1.11269027e+00,  1.73119219e+00, -2.79869968e-02],\n",
       "       [-4.04024282e-02, -1.15974666e+00,  4.27308246e-01],\n",
       "       [-4.67914560e-01, -1.75832805e+00, -8.44212983e-01],\n",
       "       [-1.94384552e+00,  1.36234250e+00, -1.64356913e+00],\n",
       "       [-1.89144018e+00,  1.12823006e+00,  1.21982101e+00],\n",
       "       [ 2.46780171e+00,  1.31042902e+00, -1.22648257e+00],\n",
       "       [ 2.34841474e-01, -5.93435750e-01,  9.58150086e-01],\n",
       "       [ 4.01235940e-01,  1.13031366e+00,  1.00800142e+00],\n",
       "       [-1.31440038e+00, -1.72246681e+00, -2.26554913e+00],\n",
       "       [ 8.25376436e-01,  5.27057944e-01,  8.60833157e-01],\n",
       "       [ 1.52975312e+00,  3.47529833e-01,  1.03153023e-02],\n",
       "       [-9.63572045e-01,  4.11375034e-01,  8.46131612e-02],\n",
       "       [ 2.64327057e-02, -1.45815364e+00,  2.41325973e-01],\n",
       "       [ 9.51626015e-01, -1.04654399e+00,  7.83034239e-01],\n",
       "       [ 4.39120590e-01, -9.70232924e-02,  3.41477634e-01],\n",
       "       [-2.97103789e+00, -9.13193659e-01,  1.86585483e+00],\n",
       "       [-4.15351593e-01,  1.46685816e+00,  7.36451064e-04],\n",
       "       [ 5.22013177e-01, -1.19410652e+00,  3.80477240e-02],\n",
       "       [-8.27398600e-01, -3.57334607e-01, -4.17873903e-01],\n",
       "       [-1.98181606e-01, -1.28044406e+00,  4.10366289e-01],\n",
       "       [ 3.61959985e-01, -2.19829807e-01,  1.04488877e+00],\n",
       "       [ 3.19473271e-01, -1.54693990e+00, -7.11931853e-01],\n",
       "       [ 1.65694187e-01, -2.12642548e-01, -7.44571151e-01],\n",
       "       [ 4.66903918e-01, -1.62302003e+00,  8.29068344e-02],\n",
       "       [ 1.31109968e+00, -6.09385522e-01,  2.56145899e-01],\n",
       "       [ 1.68433260e+00, -1.66938704e-01, -5.30306076e-02],\n",
       "       [ 1.33864522e+00, -1.88209215e+00, -1.83110802e+00],\n",
       "       [ 2.24285129e+00, -6.60111590e-01, -2.17267792e+00],\n",
       "       [ 5.91320891e-01, -3.14728573e-01,  1.34486613e+00],\n",
       "       [ 2.82877936e-01, -3.72544308e-01,  1.78116199e+00],\n",
       "       [ 1.01153171e-02, -7.45794098e-01,  5.45113019e-01],\n",
       "       [ 9.49365408e-01, -7.54273415e-01, -4.68713697e-01],\n",
       "       [-1.91110929e+00,  1.36963779e+00, -3.37774181e-02],\n",
       "       [-2.36268377e+00,  5.81463700e-01, -6.81465395e-01],\n",
       "       [-2.09011070e-01, -8.32794623e-01, -1.48780916e-01],\n",
       "       [-9.81504360e-01,  8.25552444e-01,  1.36036898e-01],\n",
       "       [ 6.83253933e-01,  1.32663953e+00,  1.36336187e+00],\n",
       "       [-1.81206043e+00,  1.01009892e+00,  8.88643592e-01],\n",
       "       [ 4.18691858e-01, -1.24292317e+00,  1.05874512e+00],\n",
       "       [ 8.21332154e-01, -8.23976484e-01, -2.44532213e+00],\n",
       "       [ 1.01217805e+00, -9.12480899e-01,  2.72846359e-02],\n",
       "       [ 8.79988546e-02, -1.07996079e+00,  1.65195284e+00],\n",
       "       [-1.83824461e+00,  1.77738144e+00,  1.15807631e+00],\n",
       "       [-2.53101320e+00, -2.88970623e-01, -1.57783061e+00],\n",
       "       [ 1.72323602e+00, -3.07397896e-01,  5.05221381e-01],\n",
       "       [ 2.44866471e-01, -5.16868102e-01, -5.44221626e-02],\n",
       "       [-1.63467026e+00, -6.96867578e+00,  3.35523007e+00],\n",
       "       [-1.44248440e+00,  1.37524188e+00, -8.79146404e-02],\n",
       "       [-1.30153719e+00,  8.36492399e-01, -1.71350313e+00],\n",
       "       [ 1.99006471e-01, -8.08024664e-01,  1.08484591e+00],\n",
       "       [-2.39077823e+00,  3.91448503e-01,  4.43069596e-01],\n",
       "       [ 2.59154365e-01, -8.81431302e-01,  6.28711007e-01],\n",
       "       [-1.13853694e-01,  9.86179070e-01, -2.99717587e-02],\n",
       "       [ 1.71122930e-01, -5.11915385e-01,  5.49719520e-01],\n",
       "       [ 2.98607413e-01, -2.39807034e-01,  1.65936335e+00],\n",
       "       [ 9.59297700e-01,  4.04682347e-01,  1.32140503e+00],\n",
       "       [ 1.31872256e+00, -9.57364342e-04,  3.34268917e-01],\n",
       "       [-1.05755137e+00, -1.19766048e-01, -8.75766178e-01],\n",
       "       [ 6.61182104e-01, -2.28505183e-01,  1.33868304e+00],\n",
       "       [-1.17185988e+00, -5.01141516e-01,  5.61335259e-01],\n",
       "       [-1.32529335e+00, -3.86982089e+00,  2.44236683e+00],\n",
       "       [ 1.53396621e+00, -5.08764457e-01,  6.59455150e-01],\n",
       "       [ 3.90936770e-01, -3.56936350e-01, -1.52437763e+00],\n",
       "       [-1.41361576e+00, -7.43976193e-01, -1.84130118e+00],\n",
       "       [ 1.97114827e-01, -1.30467860e-01,  2.43979346e-01],\n",
       "       [-9.57855880e-01, -6.25816140e-02,  1.20506637e+00],\n",
       "       [ 2.53040875e-02, -1.47971823e+00,  1.20527317e+00],\n",
       "       [ 2.07059491e-01, -4.98335071e-02, -4.99631862e-01],\n",
       "       [-6.56562707e-01,  1.58480310e+00,  1.72436669e+00],\n",
       "       [-1.60645161e+00, -1.47575162e+00, -9.70993047e-01],\n",
       "       [ 1.92033656e-01, -1.38402830e+00, -6.33537439e-01],\n",
       "       [ 1.57985239e+00,  3.09129546e-01,  1.49350650e+00],\n",
       "       [-5.00297538e-01, -6.98290636e-02,  9.95610671e-01],\n",
       "       [ 2.46680763e-01, -2.00619462e-01,  1.30462853e+00],\n",
       "       [ 2.17977822e+00, -2.71067589e-01, -1.96198077e-01],\n",
       "       [ 5.02662577e-02, -7.33922443e-01,  1.12428648e+00],\n",
       "       [ 2.09005302e+00, -3.85933968e-01, -1.97909508e+00],\n",
       "       [ 4.29933930e-01, -9.65581058e-01,  9.78962710e-01],\n",
       "       [-1.54124271e+00,  8.97372810e-01, -1.26680764e-01],\n",
       "       [ 9.45687127e-01,  2.53431345e-01, -3.67771384e+00],\n",
       "       [ 1.29387044e+00, -3.61203578e-01,  1.02604918e-01],\n",
       "       [-5.81950421e-01, -5.22045119e-01,  1.08142472e+00],\n",
       "       [-1.96239129e+00,  1.76560512e+00,  4.35011516e-01],\n",
       "       [-1.46131690e-01, -2.42970239e+00, -1.85376470e+00],\n",
       "       [-1.44247472e+00, -1.41644163e+00, -1.04647094e+00],\n",
       "       [-1.99210853e+00,  2.73574648e-01, -7.35682809e-01],\n",
       "       [-9.83472755e-01, -1.31937263e-01,  5.55500900e-01],\n",
       "       [ 1.17694417e+00, -1.80523763e-01, -1.79674690e-01],\n",
       "       [-2.03638419e+00,  1.00213889e+00, -9.59003014e-02],\n",
       "       [-2.23683290e+00, -4.49663567e-01, -1.43039560e+00],\n",
       "       [ 8.46486006e-02,  8.15101451e-01,  1.21926845e+00],\n",
       "       [-1.41376114e-01, -1.32003865e+00,  2.02486255e-01],\n",
       "       [ 9.82055026e-01,  1.17346429e+00, -9.51321088e-01],\n",
       "       [-6.85190209e-02, -5.53447249e-01,  3.77553798e-01],\n",
       "       [ 8.41901197e-02,  1.95177453e+00,  1.68969438e-01],\n",
       "       [-2.08234937e+00,  7.40251239e-01,  1.19781071e-01],\n",
       "       [ 2.24753000e+00,  5.80662865e-01,  2.81501044e-01],\n",
       "       [-1.74291447e+00,  8.63360256e-01,  6.13504422e-03],\n",
       "       [ 1.81880204e+00,  6.14533205e-02,  1.34853432e+00],\n",
       "       [-2.25805234e-01,  2.98746164e+00, -1.26981062e+00],\n",
       "       [-1.64822790e+00, -1.66615302e+00, -1.70354241e+00],\n",
       "       [ 1.42771077e+00,  6.96674504e-01,  1.19880950e+00],\n",
       "       [-1.49591027e+00,  2.87030099e+00,  5.78042067e-01],\n",
       "       [ 6.49305897e-01, -9.29889148e-01,  9.28608551e-01],\n",
       "       [ 1.39800753e-01, -1.17633442e+00,  5.57984151e-01],\n",
       "       [-2.19724737e-01, -1.74590435e+00, -4.87725810e-01],\n",
       "       [ 1.08887769e+00,  1.34542188e+00, -1.45715401e+00],\n",
       "       [-2.26188833e+00,  3.49934216e-01, -1.16171841e+00],\n",
       "       [-8.62447661e-01,  3.34379786e-01,  3.79347428e-01],\n",
       "       [-2.12058377e+00,  2.14764464e+00,  1.43376606e+00],\n",
       "       [ 3.71781605e-01,  2.89946298e+00, -3.74177018e-01],\n",
       "       [ 4.44615440e-01,  5.64888151e-01,  2.61637091e+00],\n",
       "       [ 1.05741485e+00, -1.27467941e+00,  1.78192064e-01],\n",
       "       [ 5.69455283e-01, -4.61008900e-01, -1.00099809e-01],\n",
       "       [ 1.42863983e+00,  3.50110038e-01,  2.53059895e+00],\n",
       "       [-2.40706076e+00, -3.24011489e-01, -1.01589606e+00],\n",
       "       [-2.72960072e+00, -1.03714261e+00, -1.61954926e+00],\n",
       "       [ 1.44528587e+00,  1.89415685e+00, -2.40375954e+00],\n",
       "       [ 9.30881260e-02,  2.76465734e-01, -1.75374363e-01],\n",
       "       [ 1.78488001e+00, -1.29544343e-01, -7.62266699e-01],\n",
       "       [-6.05409430e-01, -4.63573361e-01,  1.96716547e-01],\n",
       "       [-5.38480677e-01, -3.77103510e-01,  5.58913519e-01],\n",
       "       [-7.25103504e-01,  4.41733357e-01, -9.17740586e-01],\n",
       "       [ 2.99346510e-01, -3.40386212e-01,  1.03551873e+00],\n",
       "       [ 1.03352460e-01,  2.31922676e+00,  5.30753775e-01],\n",
       "       [-2.14037725e-01, -5.31346157e-01, -3.58135038e-01],\n",
       "       [-7.27712563e-01,  5.41935307e-01,  1.03272532e+00],\n",
       "       [ 1.64788985e+00,  5.22957705e-01,  1.11507507e+00],\n",
       "       [-5.44710343e-01, -2.07907846e-01,  1.07301337e+00],\n",
       "       [-1.51304150e+00, -5.39583337e-01, -1.42847627e+00],\n",
       "       [-3.25323883e-01,  1.02924437e+00,  8.35847296e-01],\n",
       "       [ 7.91155035e-01, -1.20642802e-02,  2.55189272e+00],\n",
       "       [-1.97578520e+00,  1.19125554e+00, -8.71489772e-02],\n",
       "       [-7.05386537e-01,  5.10857798e-01,  1.54601964e+00],\n",
       "       [ 4.61264026e-01, -7.75863735e-01,  8.61693724e-01],\n",
       "       [ 1.89860586e+00,  2.96515838e-01,  1.11847957e+00],\n",
       "       [ 2.61849824e+00, -3.60233097e-01, -8.83119298e-01],\n",
       "       [ 1.41932105e+00,  3.82222960e-02, -1.09625600e+00],\n",
       "       [ 3.15402651e-01, -1.71636437e-02, -1.95193662e-01],\n",
       "       [ 3.15129544e-01,  1.32647340e-01, -1.71254270e+00],\n",
       "       [ 2.09920198e-01, -8.34590791e-01,  1.28563062e+00],\n",
       "       [-1.12557816e+00, -1.87520556e-01, -2.20409416e-01],\n",
       "       [-6.70426863e-01,  8.13927639e-01, -3.04718252e-01],\n",
       "       [ 2.42919923e+00,  1.58587496e+00,  8.21697682e-01],\n",
       "       [-2.34579011e+00,  2.21602989e-02,  1.85641234e-01],\n",
       "       [-2.99872638e-02, -1.10088752e+00, -4.56645561e-01],\n",
       "       [ 1.41956257e+00, -4.89352199e-01,  6.09419613e-01],\n",
       "       [ 3.07477184e-01, -1.78019433e+00, -4.07873169e-01],\n",
       "       [-7.91794292e-01,  8.36426281e-01,  7.97556082e-01],\n",
       "       [-1.99178674e+00,  1.51019844e+00,  7.37984789e-01],\n",
       "       [ 6.02338226e-01, -8.54870609e-01,  5.55638155e-01]])"
      ]
     },
     "execution_count": 49,
     "metadata": {},
     "output_type": "execute_result"
    }
   ],
   "source": [
    "X_train"
   ]
  },
  {
   "cell_type": "code",
   "execution_count": 50,
   "metadata": {
    "executionInfo": {
     "elapsed": 108,
     "status": "ok",
     "timestamp": 1639905817798,
     "user": {
      "displayName": "Indeed Inspiring",
      "photoUrl": "https://lh3.googleusercontent.com/a-/AOh14GjJtTSXVwEn_JtFhBOkt3rDxmno-6yYadcJbGXH6Q=s64",
      "userId": "12904657308681625524"
     },
     "user_tz": -330
    },
    "id": "UWJ_Glv-0bDX"
   },
   "outputs": [],
   "source": [
    "#Classification\n",
    "# logistic regression\n",
    "# nearest neighbor\n",
    "# SVM"
   ]
  },
  {
   "cell_type": "code",
   "execution_count": 51,
   "metadata": {
    "executionInfo": {
     "elapsed": 108,
     "status": "ok",
     "timestamp": 1639905817801,
     "user": {
      "displayName": "Indeed Inspiring",
      "photoUrl": "https://lh3.googleusercontent.com/a-/AOh14GjJtTSXVwEn_JtFhBOkt3rDxmno-6yYadcJbGXH6Q=s64",
      "userId": "12904657308681625524"
     },
     "user_tz": -330
    },
    "id": "X6JF0GAS7HJz"
   },
   "outputs": [],
   "source": [
    "#Logistic Regression\n",
    "from sklearn.linear_model import LogisticRegression"
   ]
  },
  {
   "cell_type": "code",
   "execution_count": 52,
   "metadata": {
    "executionInfo": {
     "elapsed": 108,
     "status": "ok",
     "timestamp": 1639905817809,
     "user": {
      "displayName": "Indeed Inspiring",
      "photoUrl": "https://lh3.googleusercontent.com/a-/AOh14GjJtTSXVwEn_JtFhBOkt3rDxmno-6yYadcJbGXH6Q=s64",
      "userId": "12904657308681625524"
     },
     "user_tz": -330
    },
    "id": "XLg55IGN7O07"
   },
   "outputs": [],
   "source": [
    "lrclf = LogisticRegression(max_iter=100,random_state=0)"
   ]
  },
  {
   "cell_type": "code",
   "execution_count": 53,
   "metadata": {
    "colab": {
     "base_uri": "https://localhost:8080/"
    },
    "executionInfo": {
     "elapsed": 101,
     "status": "ok",
     "timestamp": 1639905817810,
     "user": {
      "displayName": "Indeed Inspiring",
      "photoUrl": "https://lh3.googleusercontent.com/a-/AOh14GjJtTSXVwEn_JtFhBOkt3rDxmno-6yYadcJbGXH6Q=s64",
      "userId": "12904657308681625524"
     },
     "user_tz": -330
    },
    "id": "Ckd86oo87Ymd",
    "outputId": "dc6c1929-6dae-4dfd-cb01-b54c25c55378"
   },
   "outputs": [
    {
     "data": {
      "text/html": [
       "<style>#sk-container-id-1 {\n",
       "  /* Definition of color scheme common for light and dark mode */\n",
       "  --sklearn-color-text: #000;\n",
       "  --sklearn-color-text-muted: #666;\n",
       "  --sklearn-color-line: gray;\n",
       "  /* Definition of color scheme for unfitted estimators */\n",
       "  --sklearn-color-unfitted-level-0: #fff5e6;\n",
       "  --sklearn-color-unfitted-level-1: #f6e4d2;\n",
       "  --sklearn-color-unfitted-level-2: #ffe0b3;\n",
       "  --sklearn-color-unfitted-level-3: chocolate;\n",
       "  /* Definition of color scheme for fitted estimators */\n",
       "  --sklearn-color-fitted-level-0: #f0f8ff;\n",
       "  --sklearn-color-fitted-level-1: #d4ebff;\n",
       "  --sklearn-color-fitted-level-2: #b3dbfd;\n",
       "  --sklearn-color-fitted-level-3: cornflowerblue;\n",
       "\n",
       "  /* Specific color for light theme */\n",
       "  --sklearn-color-text-on-default-background: var(--sg-text-color, var(--theme-code-foreground, var(--jp-content-font-color1, black)));\n",
       "  --sklearn-color-background: var(--sg-background-color, var(--theme-background, var(--jp-layout-color0, white)));\n",
       "  --sklearn-color-border-box: var(--sg-text-color, var(--theme-code-foreground, var(--jp-content-font-color1, black)));\n",
       "  --sklearn-color-icon: #696969;\n",
       "\n",
       "  @media (prefers-color-scheme: dark) {\n",
       "    /* Redefinition of color scheme for dark theme */\n",
       "    --sklearn-color-text-on-default-background: var(--sg-text-color, var(--theme-code-foreground, var(--jp-content-font-color1, white)));\n",
       "    --sklearn-color-background: var(--sg-background-color, var(--theme-background, var(--jp-layout-color0, #111)));\n",
       "    --sklearn-color-border-box: var(--sg-text-color, var(--theme-code-foreground, var(--jp-content-font-color1, white)));\n",
       "    --sklearn-color-icon: #878787;\n",
       "  }\n",
       "}\n",
       "\n",
       "#sk-container-id-1 {\n",
       "  color: var(--sklearn-color-text);\n",
       "}\n",
       "\n",
       "#sk-container-id-1 pre {\n",
       "  padding: 0;\n",
       "}\n",
       "\n",
       "#sk-container-id-1 input.sk-hidden--visually {\n",
       "  border: 0;\n",
       "  clip: rect(1px 1px 1px 1px);\n",
       "  clip: rect(1px, 1px, 1px, 1px);\n",
       "  height: 1px;\n",
       "  margin: -1px;\n",
       "  overflow: hidden;\n",
       "  padding: 0;\n",
       "  position: absolute;\n",
       "  width: 1px;\n",
       "}\n",
       "\n",
       "#sk-container-id-1 div.sk-dashed-wrapped {\n",
       "  border: 1px dashed var(--sklearn-color-line);\n",
       "  margin: 0 0.4em 0.5em 0.4em;\n",
       "  box-sizing: border-box;\n",
       "  padding-bottom: 0.4em;\n",
       "  background-color: var(--sklearn-color-background);\n",
       "}\n",
       "\n",
       "#sk-container-id-1 div.sk-container {\n",
       "  /* jupyter's `normalize.less` sets `[hidden] { display: none; }`\n",
       "     but bootstrap.min.css set `[hidden] { display: none !important; }`\n",
       "     so we also need the `!important` here to be able to override the\n",
       "     default hidden behavior on the sphinx rendered scikit-learn.org.\n",
       "     See: https://github.com/scikit-learn/scikit-learn/issues/21755 */\n",
       "  display: inline-block !important;\n",
       "  position: relative;\n",
       "}\n",
       "\n",
       "#sk-container-id-1 div.sk-text-repr-fallback {\n",
       "  display: none;\n",
       "}\n",
       "\n",
       "div.sk-parallel-item,\n",
       "div.sk-serial,\n",
       "div.sk-item {\n",
       "  /* draw centered vertical line to link estimators */\n",
       "  background-image: linear-gradient(var(--sklearn-color-text-on-default-background), var(--sklearn-color-text-on-default-background));\n",
       "  background-size: 2px 100%;\n",
       "  background-repeat: no-repeat;\n",
       "  background-position: center center;\n",
       "}\n",
       "\n",
       "/* Parallel-specific style estimator block */\n",
       "\n",
       "#sk-container-id-1 div.sk-parallel-item::after {\n",
       "  content: \"\";\n",
       "  width: 100%;\n",
       "  border-bottom: 2px solid var(--sklearn-color-text-on-default-background);\n",
       "  flex-grow: 1;\n",
       "}\n",
       "\n",
       "#sk-container-id-1 div.sk-parallel {\n",
       "  display: flex;\n",
       "  align-items: stretch;\n",
       "  justify-content: center;\n",
       "  background-color: var(--sklearn-color-background);\n",
       "  position: relative;\n",
       "}\n",
       "\n",
       "#sk-container-id-1 div.sk-parallel-item {\n",
       "  display: flex;\n",
       "  flex-direction: column;\n",
       "}\n",
       "\n",
       "#sk-container-id-1 div.sk-parallel-item:first-child::after {\n",
       "  align-self: flex-end;\n",
       "  width: 50%;\n",
       "}\n",
       "\n",
       "#sk-container-id-1 div.sk-parallel-item:last-child::after {\n",
       "  align-self: flex-start;\n",
       "  width: 50%;\n",
       "}\n",
       "\n",
       "#sk-container-id-1 div.sk-parallel-item:only-child::after {\n",
       "  width: 0;\n",
       "}\n",
       "\n",
       "/* Serial-specific style estimator block */\n",
       "\n",
       "#sk-container-id-1 div.sk-serial {\n",
       "  display: flex;\n",
       "  flex-direction: column;\n",
       "  align-items: center;\n",
       "  background-color: var(--sklearn-color-background);\n",
       "  padding-right: 1em;\n",
       "  padding-left: 1em;\n",
       "}\n",
       "\n",
       "\n",
       "/* Toggleable style: style used for estimator/Pipeline/ColumnTransformer box that is\n",
       "clickable and can be expanded/collapsed.\n",
       "- Pipeline and ColumnTransformer use this feature and define the default style\n",
       "- Estimators will overwrite some part of the style using the `sk-estimator` class\n",
       "*/\n",
       "\n",
       "/* Pipeline and ColumnTransformer style (default) */\n",
       "\n",
       "#sk-container-id-1 div.sk-toggleable {\n",
       "  /* Default theme specific background. It is overwritten whether we have a\n",
       "  specific estimator or a Pipeline/ColumnTransformer */\n",
       "  background-color: var(--sklearn-color-background);\n",
       "}\n",
       "\n",
       "/* Toggleable label */\n",
       "#sk-container-id-1 label.sk-toggleable__label {\n",
       "  cursor: pointer;\n",
       "  display: flex;\n",
       "  width: 100%;\n",
       "  margin-bottom: 0;\n",
       "  padding: 0.5em;\n",
       "  box-sizing: border-box;\n",
       "  text-align: center;\n",
       "  align-items: start;\n",
       "  justify-content: space-between;\n",
       "  gap: 0.5em;\n",
       "}\n",
       "\n",
       "#sk-container-id-1 label.sk-toggleable__label .caption {\n",
       "  font-size: 0.6rem;\n",
       "  font-weight: lighter;\n",
       "  color: var(--sklearn-color-text-muted);\n",
       "}\n",
       "\n",
       "#sk-container-id-1 label.sk-toggleable__label-arrow:before {\n",
       "  /* Arrow on the left of the label */\n",
       "  content: \"▸\";\n",
       "  float: left;\n",
       "  margin-right: 0.25em;\n",
       "  color: var(--sklearn-color-icon);\n",
       "}\n",
       "\n",
       "#sk-container-id-1 label.sk-toggleable__label-arrow:hover:before {\n",
       "  color: var(--sklearn-color-text);\n",
       "}\n",
       "\n",
       "/* Toggleable content - dropdown */\n",
       "\n",
       "#sk-container-id-1 div.sk-toggleable__content {\n",
       "  max-height: 0;\n",
       "  max-width: 0;\n",
       "  overflow: hidden;\n",
       "  text-align: left;\n",
       "  /* unfitted */\n",
       "  background-color: var(--sklearn-color-unfitted-level-0);\n",
       "}\n",
       "\n",
       "#sk-container-id-1 div.sk-toggleable__content.fitted {\n",
       "  /* fitted */\n",
       "  background-color: var(--sklearn-color-fitted-level-0);\n",
       "}\n",
       "\n",
       "#sk-container-id-1 div.sk-toggleable__content pre {\n",
       "  margin: 0.2em;\n",
       "  border-radius: 0.25em;\n",
       "  color: var(--sklearn-color-text);\n",
       "  /* unfitted */\n",
       "  background-color: var(--sklearn-color-unfitted-level-0);\n",
       "}\n",
       "\n",
       "#sk-container-id-1 div.sk-toggleable__content.fitted pre {\n",
       "  /* unfitted */\n",
       "  background-color: var(--sklearn-color-fitted-level-0);\n",
       "}\n",
       "\n",
       "#sk-container-id-1 input.sk-toggleable__control:checked~div.sk-toggleable__content {\n",
       "  /* Expand drop-down */\n",
       "  max-height: 200px;\n",
       "  max-width: 100%;\n",
       "  overflow: auto;\n",
       "}\n",
       "\n",
       "#sk-container-id-1 input.sk-toggleable__control:checked~label.sk-toggleable__label-arrow:before {\n",
       "  content: \"▾\";\n",
       "}\n",
       "\n",
       "/* Pipeline/ColumnTransformer-specific style */\n",
       "\n",
       "#sk-container-id-1 div.sk-label input.sk-toggleable__control:checked~label.sk-toggleable__label {\n",
       "  color: var(--sklearn-color-text);\n",
       "  background-color: var(--sklearn-color-unfitted-level-2);\n",
       "}\n",
       "\n",
       "#sk-container-id-1 div.sk-label.fitted input.sk-toggleable__control:checked~label.sk-toggleable__label {\n",
       "  background-color: var(--sklearn-color-fitted-level-2);\n",
       "}\n",
       "\n",
       "/* Estimator-specific style */\n",
       "\n",
       "/* Colorize estimator box */\n",
       "#sk-container-id-1 div.sk-estimator input.sk-toggleable__control:checked~label.sk-toggleable__label {\n",
       "  /* unfitted */\n",
       "  background-color: var(--sklearn-color-unfitted-level-2);\n",
       "}\n",
       "\n",
       "#sk-container-id-1 div.sk-estimator.fitted input.sk-toggleable__control:checked~label.sk-toggleable__label {\n",
       "  /* fitted */\n",
       "  background-color: var(--sklearn-color-fitted-level-2);\n",
       "}\n",
       "\n",
       "#sk-container-id-1 div.sk-label label.sk-toggleable__label,\n",
       "#sk-container-id-1 div.sk-label label {\n",
       "  /* The background is the default theme color */\n",
       "  color: var(--sklearn-color-text-on-default-background);\n",
       "}\n",
       "\n",
       "/* On hover, darken the color of the background */\n",
       "#sk-container-id-1 div.sk-label:hover label.sk-toggleable__label {\n",
       "  color: var(--sklearn-color-text);\n",
       "  background-color: var(--sklearn-color-unfitted-level-2);\n",
       "}\n",
       "\n",
       "/* Label box, darken color on hover, fitted */\n",
       "#sk-container-id-1 div.sk-label.fitted:hover label.sk-toggleable__label.fitted {\n",
       "  color: var(--sklearn-color-text);\n",
       "  background-color: var(--sklearn-color-fitted-level-2);\n",
       "}\n",
       "\n",
       "/* Estimator label */\n",
       "\n",
       "#sk-container-id-1 div.sk-label label {\n",
       "  font-family: monospace;\n",
       "  font-weight: bold;\n",
       "  display: inline-block;\n",
       "  line-height: 1.2em;\n",
       "}\n",
       "\n",
       "#sk-container-id-1 div.sk-label-container {\n",
       "  text-align: center;\n",
       "}\n",
       "\n",
       "/* Estimator-specific */\n",
       "#sk-container-id-1 div.sk-estimator {\n",
       "  font-family: monospace;\n",
       "  border: 1px dotted var(--sklearn-color-border-box);\n",
       "  border-radius: 0.25em;\n",
       "  box-sizing: border-box;\n",
       "  margin-bottom: 0.5em;\n",
       "  /* unfitted */\n",
       "  background-color: var(--sklearn-color-unfitted-level-0);\n",
       "}\n",
       "\n",
       "#sk-container-id-1 div.sk-estimator.fitted {\n",
       "  /* fitted */\n",
       "  background-color: var(--sklearn-color-fitted-level-0);\n",
       "}\n",
       "\n",
       "/* on hover */\n",
       "#sk-container-id-1 div.sk-estimator:hover {\n",
       "  /* unfitted */\n",
       "  background-color: var(--sklearn-color-unfitted-level-2);\n",
       "}\n",
       "\n",
       "#sk-container-id-1 div.sk-estimator.fitted:hover {\n",
       "  /* fitted */\n",
       "  background-color: var(--sklearn-color-fitted-level-2);\n",
       "}\n",
       "\n",
       "/* Specification for estimator info (e.g. \"i\" and \"?\") */\n",
       "\n",
       "/* Common style for \"i\" and \"?\" */\n",
       "\n",
       ".sk-estimator-doc-link,\n",
       "a:link.sk-estimator-doc-link,\n",
       "a:visited.sk-estimator-doc-link {\n",
       "  float: right;\n",
       "  font-size: smaller;\n",
       "  line-height: 1em;\n",
       "  font-family: monospace;\n",
       "  background-color: var(--sklearn-color-background);\n",
       "  border-radius: 1em;\n",
       "  height: 1em;\n",
       "  width: 1em;\n",
       "  text-decoration: none !important;\n",
       "  margin-left: 0.5em;\n",
       "  text-align: center;\n",
       "  /* unfitted */\n",
       "  border: var(--sklearn-color-unfitted-level-1) 1pt solid;\n",
       "  color: var(--sklearn-color-unfitted-level-1);\n",
       "}\n",
       "\n",
       ".sk-estimator-doc-link.fitted,\n",
       "a:link.sk-estimator-doc-link.fitted,\n",
       "a:visited.sk-estimator-doc-link.fitted {\n",
       "  /* fitted */\n",
       "  border: var(--sklearn-color-fitted-level-1) 1pt solid;\n",
       "  color: var(--sklearn-color-fitted-level-1);\n",
       "}\n",
       "\n",
       "/* On hover */\n",
       "div.sk-estimator:hover .sk-estimator-doc-link:hover,\n",
       ".sk-estimator-doc-link:hover,\n",
       "div.sk-label-container:hover .sk-estimator-doc-link:hover,\n",
       ".sk-estimator-doc-link:hover {\n",
       "  /* unfitted */\n",
       "  background-color: var(--sklearn-color-unfitted-level-3);\n",
       "  color: var(--sklearn-color-background);\n",
       "  text-decoration: none;\n",
       "}\n",
       "\n",
       "div.sk-estimator.fitted:hover .sk-estimator-doc-link.fitted:hover,\n",
       ".sk-estimator-doc-link.fitted:hover,\n",
       "div.sk-label-container:hover .sk-estimator-doc-link.fitted:hover,\n",
       ".sk-estimator-doc-link.fitted:hover {\n",
       "  /* fitted */\n",
       "  background-color: var(--sklearn-color-fitted-level-3);\n",
       "  color: var(--sklearn-color-background);\n",
       "  text-decoration: none;\n",
       "}\n",
       "\n",
       "/* Span, style for the box shown on hovering the info icon */\n",
       ".sk-estimator-doc-link span {\n",
       "  display: none;\n",
       "  z-index: 9999;\n",
       "  position: relative;\n",
       "  font-weight: normal;\n",
       "  right: .2ex;\n",
       "  padding: .5ex;\n",
       "  margin: .5ex;\n",
       "  width: min-content;\n",
       "  min-width: 20ex;\n",
       "  max-width: 50ex;\n",
       "  color: var(--sklearn-color-text);\n",
       "  box-shadow: 2pt 2pt 4pt #999;\n",
       "  /* unfitted */\n",
       "  background: var(--sklearn-color-unfitted-level-0);\n",
       "  border: .5pt solid var(--sklearn-color-unfitted-level-3);\n",
       "}\n",
       "\n",
       ".sk-estimator-doc-link.fitted span {\n",
       "  /* fitted */\n",
       "  background: var(--sklearn-color-fitted-level-0);\n",
       "  border: var(--sklearn-color-fitted-level-3);\n",
       "}\n",
       "\n",
       ".sk-estimator-doc-link:hover span {\n",
       "  display: block;\n",
       "}\n",
       "\n",
       "/* \"?\"-specific style due to the `<a>` HTML tag */\n",
       "\n",
       "#sk-container-id-1 a.estimator_doc_link {\n",
       "  float: right;\n",
       "  font-size: 1rem;\n",
       "  line-height: 1em;\n",
       "  font-family: monospace;\n",
       "  background-color: var(--sklearn-color-background);\n",
       "  border-radius: 1rem;\n",
       "  height: 1rem;\n",
       "  width: 1rem;\n",
       "  text-decoration: none;\n",
       "  /* unfitted */\n",
       "  color: var(--sklearn-color-unfitted-level-1);\n",
       "  border: var(--sklearn-color-unfitted-level-1) 1pt solid;\n",
       "}\n",
       "\n",
       "#sk-container-id-1 a.estimator_doc_link.fitted {\n",
       "  /* fitted */\n",
       "  border: var(--sklearn-color-fitted-level-1) 1pt solid;\n",
       "  color: var(--sklearn-color-fitted-level-1);\n",
       "}\n",
       "\n",
       "/* On hover */\n",
       "#sk-container-id-1 a.estimator_doc_link:hover {\n",
       "  /* unfitted */\n",
       "  background-color: var(--sklearn-color-unfitted-level-3);\n",
       "  color: var(--sklearn-color-background);\n",
       "  text-decoration: none;\n",
       "}\n",
       "\n",
       "#sk-container-id-1 a.estimator_doc_link.fitted:hover {\n",
       "  /* fitted */\n",
       "  background-color: var(--sklearn-color-fitted-level-3);\n",
       "}\n",
       "</style><div id=\"sk-container-id-1\" class=\"sk-top-container\"><div class=\"sk-text-repr-fallback\"><pre>LogisticRegression(random_state=0)</pre><b>In a Jupyter environment, please rerun this cell to show the HTML representation or trust the notebook. <br />On GitHub, the HTML representation is unable to render, please try loading this page with nbviewer.org.</b></div><div class=\"sk-container\" hidden><div class=\"sk-item\"><div class=\"sk-estimator fitted sk-toggleable\"><input class=\"sk-toggleable__control sk-hidden--visually\" id=\"sk-estimator-id-1\" type=\"checkbox\" checked><label for=\"sk-estimator-id-1\" class=\"sk-toggleable__label fitted sk-toggleable__label-arrow\"><div><div>LogisticRegression</div></div><div><a class=\"sk-estimator-doc-link fitted\" rel=\"noreferrer\" target=\"_blank\" href=\"https://scikit-learn.org/1.6/modules/generated/sklearn.linear_model.LogisticRegression.html\">?<span>Documentation for LogisticRegression</span></a><span class=\"sk-estimator-doc-link fitted\">i<span>Fitted</span></span></div></label><div class=\"sk-toggleable__content fitted\"><pre>LogisticRegression(random_state=0)</pre></div> </div></div></div></div>"
      ],
      "text/plain": [
       "LogisticRegression(random_state=0)"
      ]
     },
     "execution_count": 53,
     "metadata": {},
     "output_type": "execute_result"
    }
   ],
   "source": [
    "lrclf.fit(X_train,y_train)"
   ]
  },
  {
   "cell_type": "code",
   "execution_count": 54,
   "metadata": {
    "colab": {
     "base_uri": "https://localhost:8080/"
    },
    "executionInfo": {
     "elapsed": 94,
     "status": "ok",
     "timestamp": 1639905817811,
     "user": {
      "displayName": "Indeed Inspiring",
      "photoUrl": "https://lh3.googleusercontent.com/a-/AOh14GjJtTSXVwEn_JtFhBOkt3rDxmno-6yYadcJbGXH6Q=s64",
      "userId": "12904657308681625524"
     },
     "user_tz": -330
    },
    "id": "D2B_LVwl7flG",
    "outputId": "21104c13-37f5-43df-9434-f4da94678b45"
   },
   "outputs": [
    {
     "data": {
      "text/plain": [
       "array([1, 1, 1, 1, 1, 1, 1, 1, 1, 1, 1, 1, 1, 1, 1, 1, 1, 1, 1, 1, 1, 1,\n",
       "       1, 1, 1, 1, 1, 1, 1, 1, 1, 1, 1, 1, 1, 1, 1, 1, 1, 1, 1, 1, 1, 1,\n",
       "       1, 1, 1, 1, 1, 1, 1, 1, 1, 1, 1, 1, 1, 1])"
      ]
     },
     "execution_count": 54,
     "metadata": {},
     "output_type": "execute_result"
    }
   ],
   "source": [
    "lrclf.predict(X_test)"
   ]
  },
  {
   "cell_type": "code",
   "execution_count": 55,
   "metadata": {
    "executionInfo": {
     "elapsed": 89,
     "status": "ok",
     "timestamp": 1639905817811,
     "user": {
      "displayName": "Indeed Inspiring",
      "photoUrl": "https://lh3.googleusercontent.com/a-/AOh14GjJtTSXVwEn_JtFhBOkt3rDxmno-6yYadcJbGXH6Q=s64",
      "userId": "12904657308681625524"
     },
     "user_tz": -330
    },
    "id": "325doKl57oMK"
   },
   "outputs": [],
   "source": [
    "y_pred = lrclf.predict(X_test)"
   ]
  },
  {
   "cell_type": "code",
   "execution_count": 56,
   "metadata": {
    "colab": {
     "base_uri": "https://localhost:8080/"
    },
    "executionInfo": {
     "elapsed": 900,
     "status": "ok",
     "timestamp": 1639905818623,
     "user": {
      "displayName": "Indeed Inspiring",
      "photoUrl": "https://lh3.googleusercontent.com/a-/AOh14GjJtTSXVwEn_JtFhBOkt3rDxmno-6yYadcJbGXH6Q=s64",
      "userId": "12904657308681625524"
     },
     "user_tz": -330
    },
    "id": "3eK738CF7uch",
    "outputId": "a2abc4c2-3ebf-4985-b1ee-8fa3d8490bc7"
   },
   "outputs": [
    {
     "data": {
      "text/plain": [
       "array([1, 0, 1, 1, 0, 1, 1, 1, 1, 1, 1, 1, 1, 0, 1, 1, 1, 1, 0, 1, 0, 1,\n",
       "       1, 1, 0, 1, 1, 0, 0, 1, 1, 1, 1, 1, 1, 0, 1, 0, 1, 1, 1, 1, 1, 0,\n",
       "       1, 1, 1, 0, 1, 0, 1, 0, 1, 0, 1, 1, 0, 1])"
      ]
     },
     "execution_count": 56,
     "metadata": {},
     "output_type": "execute_result"
    }
   ],
   "source": [
    "y_test"
   ]
  },
  {
   "cell_type": "code",
   "execution_count": 57,
   "metadata": {
    "executionInfo": {
     "elapsed": 171,
     "status": "ok",
     "timestamp": 1639905818626,
     "user": {
      "displayName": "Indeed Inspiring",
      "photoUrl": "https://lh3.googleusercontent.com/a-/AOh14GjJtTSXVwEn_JtFhBOkt3rDxmno-6yYadcJbGXH6Q=s64",
      "userId": "12904657308681625524"
     },
     "user_tz": -330
    },
    "id": "9pcD7uSO7wU5"
   },
   "outputs": [],
   "source": [
    "from sklearn import metrics"
   ]
  },
  {
   "cell_type": "code",
   "execution_count": 58,
   "metadata": {
    "colab": {
     "base_uri": "https://localhost:8080/"
    },
    "executionInfo": {
     "elapsed": 178,
     "status": "ok",
     "timestamp": 1639905818635,
     "user": {
      "displayName": "Indeed Inspiring",
      "photoUrl": "https://lh3.googleusercontent.com/a-/AOh14GjJtTSXVwEn_JtFhBOkt3rDxmno-6yYadcJbGXH6Q=s64",
      "userId": "12904657308681625524"
     },
     "user_tz": -330
    },
    "id": "FMOuVaJF8HUR",
    "outputId": "e18a3b3e-f429-47da-dcd5-93c155fb1ffd"
   },
   "outputs": [
    {
     "data": {
      "text/plain": [
       "0.7241379310344828"
      ]
     },
     "execution_count": 58,
     "metadata": {},
     "output_type": "execute_result"
    }
   ],
   "source": [
    "metrics.accuracy_score(y_test,y_pred)"
   ]
  },
  {
   "cell_type": "code",
   "execution_count": 59,
   "metadata": {
    "executionInfo": {
     "elapsed": 160,
     "status": "ok",
     "timestamp": 1639905818637,
     "user": {
      "displayName": "Indeed Inspiring",
      "photoUrl": "https://lh3.googleusercontent.com/a-/AOh14GjJtTSXVwEn_JtFhBOkt3rDxmno-6yYadcJbGXH6Q=s64",
      "userId": "12904657308681625524"
     },
     "user_tz": -330
    },
    "id": "CWcSOtAN8P7D"
   },
   "outputs": [],
   "source": [
    "cm = metrics.confusion_matrix(y_test,y_pred)"
   ]
  },
  {
   "cell_type": "code",
   "execution_count": 60,
   "metadata": {
    "colab": {
     "base_uri": "https://localhost:8080/"
    },
    "executionInfo": {
     "elapsed": 160,
     "status": "ok",
     "timestamp": 1639905818638,
     "user": {
      "displayName": "Indeed Inspiring",
      "photoUrl": "https://lh3.googleusercontent.com/a-/AOh14GjJtTSXVwEn_JtFhBOkt3rDxmno-6yYadcJbGXH6Q=s64",
      "userId": "12904657308681625524"
     },
     "user_tz": -330
    },
    "id": "KEfBNUwy8d_w",
    "outputId": "0b2fab1d-27c8-4582-b0f0-99e7661e4371"
   },
   "outputs": [
    {
     "data": {
      "text/plain": [
       "array([[ 0, 16],\n",
       "       [ 0, 42]])"
      ]
     },
     "execution_count": 60,
     "metadata": {},
     "output_type": "execute_result"
    }
   ],
   "source": [
    "cm"
   ]
  },
  {
   "cell_type": "code",
   "execution_count": 61,
   "metadata": {
    "colab": {
     "base_uri": "https://localhost:8080/"
    },
    "executionInfo": {
     "elapsed": 158,
     "status": "ok",
     "timestamp": 1639905818639,
     "user": {
      "displayName": "Indeed Inspiring",
      "photoUrl": "https://lh3.googleusercontent.com/a-/AOh14GjJtTSXVwEn_JtFhBOkt3rDxmno-6yYadcJbGXH6Q=s64",
      "userId": "12904657308681625524"
     },
     "user_tz": -330
    },
    "id": "vZJ76U8X82Xq",
    "outputId": "f62a916c-7c99-4873-db41-cc59204b9cab"
   },
   "outputs": [
    {
     "data": {
      "text/plain": [
       "array([-0.81195778, -1.02511484, -0.94644993,  1.44971399, -2.62119627,\n",
       "       -2.68826924,  0.2257392 , -2.60296568, -0.23463357,  1.08332174,\n",
       "       -1.20037122,  0.55657006,  0.7229145 , -2.07938878,  2.09245258,\n",
       "        0.43435185,  0.32390982, -1.29673975, -0.75773081, -0.0298538 ,\n",
       "       -1.95476199,  0.3871868 ,  1.94168599,  3.28562154, -0.50102187,\n",
       "        1.26277819, -2.08141467,  0.39879369, -0.95953061,  4.08937131,\n",
       "       -0.09561358,  0.96648644, -0.94124856,  1.28542922, -0.40347817,\n",
       "       -2.32379297,  1.95830774,  0.88580362,  0.01636985,  0.56043344,\n",
       "       -0.85025487, -0.00743011,  1.36091351, -0.10055129, -1.74861872,\n",
       "        0.61246378,  1.20762046,  0.11601746, -1.44282045, -1.40903311,\n",
       "       -0.08166482, -0.35625041, -0.45490623,  0.3078214 ,  1.05641163,\n",
       "       -0.46374063,  3.19030729,  0.69200763])"
      ]
     },
     "execution_count": 61,
     "metadata": {},
     "output_type": "execute_result"
    }
   ],
   "source": [
    "X_test[:,0]"
   ]
  },
  {
   "cell_type": "code",
   "execution_count": 62,
   "metadata": {
    "colab": {
     "base_uri": "https://localhost:8080/",
     "height": 282
    },
    "executionInfo": {
     "elapsed": 154,
     "status": "ok",
     "timestamp": 1639905818640,
     "user": {
      "displayName": "Indeed Inspiring",
      "photoUrl": "https://lh3.googleusercontent.com/a-/AOh14GjJtTSXVwEn_JtFhBOkt3rDxmno-6yYadcJbGXH6Q=s64",
      "userId": "12904657308681625524"
     },
     "user_tz": -330
    },
    "id": "_jCMawtg8eks",
    "outputId": "7f186295-17a6-4cc2-8ac7-766f203f3e37"
   },
   "outputs": [
    {
     "data": {
      "text/plain": [
       "<matplotlib.collections.PathCollection at 0x211c2ecf620>"
      ]
     },
     "execution_count": 62,
     "metadata": {},
     "output_type": "execute_result"
    },
    {
     "data": {
      "image/png": "[encoded data removed]",
      "text/plain": [
       "<Figure size 640x480 with 1 Axes>"
      ]
     },
     "metadata": {},
     "output_type": "display_data"
    }
   ],
   "source": [
    "# observed data plot\n",
    "plt.scatter(X_test[:,0],y_test,c=y_test)"
   ]
  },
  {
   "cell_type": "code",
   "execution_count": 63,
   "metadata": {
    "colab": {
     "base_uri": "https://localhost:8080/",
     "height": 282
    },
    "executionInfo": {
     "elapsed": 146,
     "status": "ok",
     "timestamp": 1639905818641,
     "user": {
      "displayName": "Indeed Inspiring",
      "photoUrl": "https://lh3.googleusercontent.com/a-/AOh14GjJtTSXVwEn_JtFhBOkt3rDxmno-6yYadcJbGXH6Q=s64",
      "userId": "12904657308681625524"
     },
     "user_tz": -330
    },
    "id": "XFy4v2TT9BZi",
    "outputId": "aa82dc8a-7b6f-41ea-def3-020f2aea574b"
   },
   "outputs": [
    {
     "data": {
      "text/plain": [
       "<matplotlib.collections.PathCollection at 0x211c712ae90>"
      ]
     },
     "execution_count": 63,
     "metadata": {},
     "output_type": "execute_result"
    },
    {
     "data": {
      "image/png": "[encoded data removed]",
      "text/plain": [
       "<Figure size 640x480 with 1 Axes>"
      ]
     },
     "metadata": {},
     "output_type": "display_data"
    }
   ],
   "source": [
    "# predicted data plot\n",
    "plt.scatter(X_test[:,0],y_pred,c=y_pred)"
   ]
  },
  {
   "cell_type": "code",
   "execution_count": 64,
   "metadata": {
    "executionInfo": {
     "elapsed": 132,
     "status": "ok",
     "timestamp": 1639905818645,
     "user": {
      "displayName": "Indeed Inspiring",
      "photoUrl": "https://lh3.googleusercontent.com/a-/AOh14GjJtTSXVwEn_JtFhBOkt3rDxmno-6yYadcJbGXH6Q=s64",
      "userId": "12904657308681625524"
     },
     "user_tz": -330
    },
    "id": "FHYggU8t9TC-"
   },
   "outputs": [],
   "source": [
    "# KNN\n",
    "from sklearn.neighbors import KNeighborsClassifier"
   ]
  },
  {
   "cell_type": "code",
   "execution_count": 65,
   "metadata": {
    "executionInfo": {
     "elapsed": 134,
     "status": "ok",
     "timestamp": 1639905818647,
     "user": {
      "displayName": "Indeed Inspiring",
      "photoUrl": "https://lh3.googleusercontent.com/a-/AOh14GjJtTSXVwEn_JtFhBOkt3rDxmno-6yYadcJbGXH6Q=s64",
      "userId": "12904657308681625524"
     },
     "user_tz": -330
    },
    "id": "nhKCjvD69en7"
   },
   "outputs": [],
   "source": [
    "knnclf = KNeighborsClassifier(n_neighbors=5)"
   ]
  },
  {
   "cell_type": "code",
   "execution_count": 66,
   "metadata": {
    "colab": {
     "base_uri": "https://localhost:8080/"
    },
    "executionInfo": {
     "elapsed": 147,
     "status": "ok",
     "timestamp": 1639905818661,
     "user": {
      "displayName": "Indeed Inspiring",
      "photoUrl": "https://lh3.googleusercontent.com/a-/AOh14GjJtTSXVwEn_JtFhBOkt3rDxmno-6yYadcJbGXH6Q=s64",
      "userId": "12904657308681625524"
     },
     "user_tz": -330
    },
    "id": "wpOLFFxc9nNv",
    "outputId": "b57f54e8-c977-4f6c-c8af-2599398ea0a2"
   },
   "outputs": [
    {
     "data": {
      "text/html": [
       "<style>#sk-container-id-2 {\n",
       "  /* Definition of color scheme common for light and dark mode */\n",
       "  --sklearn-color-text: #000;\n",
       "  --sklearn-color-text-muted: #666;\n",
       "  --sklearn-color-line: gray;\n",
       "  /* Definition of color scheme for unfitted estimators */\n",
       "  --sklearn-color-unfitted-level-0: #fff5e6;\n",
       "  --sklearn-color-unfitted-level-1: #f6e4d2;\n",
       "  --sklearn-color-unfitted-level-2: #ffe0b3;\n",
       "  --sklearn-color-unfitted-level-3: chocolate;\n",
       "  /* Definition of color scheme for fitted estimators */\n",
       "  --sklearn-color-fitted-level-0: #f0f8ff;\n",
       "  --sklearn-color-fitted-level-1: #d4ebff;\n",
       "  --sklearn-color-fitted-level-2: #b3dbfd;\n",
       "  --sklearn-color-fitted-level-3: cornflowerblue;\n",
       "\n",
       "  /* Specific color for light theme */\n",
       "  --sklearn-color-text-on-default-background: var(--sg-text-color, var(--theme-code-foreground, var(--jp-content-font-color1, black)));\n",
       "  --sklearn-color-background: var(--sg-background-color, var(--theme-background, var(--jp-layout-color0, white)));\n",
       "  --sklearn-color-border-box: var(--sg-text-color, var(--theme-code-foreground, var(--jp-content-font-color1, black)));\n",
       "  --sklearn-color-icon: #696969;\n",
       "\n",
       "  @media (prefers-color-scheme: dark) {\n",
       "    /* Redefinition of color scheme for dark theme */\n",
       "    --sklearn-color-text-on-default-background: var(--sg-text-color, var(--theme-code-foreground, var(--jp-content-font-color1, white)));\n",
       "    --sklearn-color-background: var(--sg-background-color, var(--theme-background, var(--jp-layout-color0, #111)));\n",
       "    --sklearn-color-border-box: var(--sg-text-color, var(--theme-code-foreground, var(--jp-content-font-color1, white)));\n",
       "    --sklearn-color-icon: #878787;\n",
       "  }\n",
       "}\n",
       "\n",
       "#sk-container-id-2 {\n",
       "  color: var(--sklearn-color-text);\n",
       "}\n",
       "\n",
       "#sk-container-id-2 pre {\n",
       "  padding: 0;\n",
       "}\n",
       "\n",
       "#sk-container-id-2 input.sk-hidden--visually {\n",
       "  border: 0;\n",
       "  clip: rect(1px 1px 1px 1px);\n",
       "  clip: rect(1px, 1px, 1px, 1px);\n",
       "  height: 1px;\n",
       "  margin: -1px;\n",
       "  overflow: hidden;\n",
       "  padding: 0;\n",
       "  position: absolute;\n",
       "  width: 1px;\n",
       "}\n",
       "\n",
       "#sk-container-id-2 div.sk-dashed-wrapped {\n",
       "  border: 1px dashed var(--sklearn-color-line);\n",
       "  margin: 0 0.4em 0.5em 0.4em;\n",
       "  box-sizing: border-box;\n",
       "  padding-bottom: 0.4em;\n",
       "  background-color: var(--sklearn-color-background);\n",
       "}\n",
       "\n",
       "#sk-container-id-2 div.sk-container {\n",
       "  /* jupyter's `normalize.less` sets `[hidden] { display: none; }`\n",
       "     but bootstrap.min.css set `[hidden] { display: none !important; }`\n",
       "     so we also need the `!important` here to be able to override the\n",
       "     default hidden behavior on the sphinx rendered scikit-learn.org.\n",
       "     See: https://github.com/scikit-learn/scikit-learn/issues/21755 */\n",
       "  display: inline-block !important;\n",
       "  position: relative;\n",
       "}\n",
       "\n",
       "#sk-container-id-2 div.sk-text-repr-fallback {\n",
       "  display: none;\n",
       "}\n",
       "\n",
       "div.sk-parallel-item,\n",
       "div.sk-serial,\n",
       "div.sk-item {\n",
       "  /* draw centered vertical line to link estimators */\n",
       "  background-image: linear-gradient(var(--sklearn-color-text-on-default-background), var(--sklearn-color-text-on-default-background));\n",
       "  background-size: 2px 100%;\n",
       "  background-repeat: no-repeat;\n",
       "  background-position: center center;\n",
       "}\n",
       "\n",
       "/* Parallel-specific style estimator block */\n",
       "\n",
       "#sk-container-id-2 div.sk-parallel-item::after {\n",
       "  content: \"\";\n",
       "  width: 100%;\n",
       "  border-bottom: 2px solid var(--sklearn-color-text-on-default-background);\n",
       "  flex-grow: 1;\n",
       "}\n",
       "\n",
       "#sk-container-id-2 div.sk-parallel {\n",
       "  display: flex;\n",
       "  align-items: stretch;\n",
       "  justify-content: center;\n",
       "  background-color: var(--sklearn-color-background);\n",
       "  position: relative;\n",
       "}\n",
       "\n",
       "#sk-container-id-2 div.sk-parallel-item {\n",
       "  display: flex;\n",
       "  flex-direction: column;\n",
       "}\n",
       "\n",
       "#sk-container-id-2 div.sk-parallel-item:first-child::after {\n",
       "  align-self: flex-end;\n",
       "  width: 50%;\n",
       "}\n",
       "\n",
       "#sk-container-id-2 div.sk-parallel-item:last-child::after {\n",
       "  align-self: flex-start;\n",
       "  width: 50%;\n",
       "}\n",
       "\n",
       "#sk-container-id-2 div.sk-parallel-item:only-child::after {\n",
       "  width: 0;\n",
       "}\n",
       "\n",
       "/* Serial-specific style estimator block */\n",
       "\n",
       "#sk-container-id-2 div.sk-serial {\n",
       "  display: flex;\n",
       "  flex-direction: column;\n",
       "  align-items: center;\n",
       "  background-color: var(--sklearn-color-background);\n",
       "  padding-right: 1em;\n",
       "  padding-left: 1em;\n",
       "}\n",
       "\n",
       "\n",
       "/* Toggleable style: style used for estimator/Pipeline/ColumnTransformer box that is\n",
       "clickable and can be expanded/collapsed.\n",
       "- Pipeline and ColumnTransformer use this feature and define the default style\n",
       "- Estimators will overwrite some part of the style using the `sk-estimator` class\n",
       "*/\n",
       "\n",
       "/* Pipeline and ColumnTransformer style (default) */\n",
       "\n",
       "#sk-container-id-2 div.sk-toggleable {\n",
       "  /* Default theme specific background. It is overwritten whether we have a\n",
       "  specific estimator or a Pipeline/ColumnTransformer */\n",
       "  background-color: var(--sklearn-color-background);\n",
       "}\n",
       "\n",
       "/* Toggleable label */\n",
       "#sk-container-id-2 label.sk-toggleable__label {\n",
       "  cursor: pointer;\n",
       "  display: flex;\n",
       "  width: 100%;\n",
       "  margin-bottom: 0;\n",
       "  padding: 0.5em;\n",
       "  box-sizing: border-box;\n",
       "  text-align: center;\n",
       "  align-items: start;\n",
       "  justify-content: space-between;\n",
       "  gap: 0.5em;\n",
       "}\n",
       "\n",
       "#sk-container-id-2 label.sk-toggleable__label .caption {\n",
       "  font-size: 0.6rem;\n",
       "  font-weight: lighter;\n",
       "  color: var(--sklearn-color-text-muted);\n",
       "}\n",
       "\n",
       "#sk-container-id-2 label.sk-toggleable__label-arrow:before {\n",
       "  /* Arrow on the left of the label */\n",
       "  content: \"▸\";\n",
       "  float: left;\n",
       "  margin-right: 0.25em;\n",
       "  color: var(--sklearn-color-icon);\n",
       "}\n",
       "\n",
       "#sk-container-id-2 label.sk-toggleable__label-arrow:hover:before {\n",
       "  color: var(--sklearn-color-text);\n",
       "}\n",
       "\n",
       "/* Toggleable content - dropdown */\n",
       "\n",
       "#sk-container-id-2 div.sk-toggleable__content {\n",
       "  max-height: 0;\n",
       "  max-width: 0;\n",
       "  overflow: hidden;\n",
       "  text-align: left;\n",
       "  /* unfitted */\n",
       "  background-color: var(--sklearn-color-unfitted-level-0);\n",
       "}\n",
       "\n",
       "#sk-container-id-2 div.sk-toggleable__content.fitted {\n",
       "  /* fitted */\n",
       "  background-color: var(--sklearn-color-fitted-level-0);\n",
       "}\n",
       "\n",
       "#sk-container-id-2 div.sk-toggleable__content pre {\n",
       "  margin: 0.2em;\n",
       "  border-radius: 0.25em;\n",
       "  color: var(--sklearn-color-text);\n",
       "  /* unfitted */\n",
       "  background-color: var(--sklearn-color-unfitted-level-0);\n",
       "}\n",
       "\n",
       "#sk-container-id-2 div.sk-toggleable__content.fitted pre {\n",
       "  /* unfitted */\n",
       "  background-color: var(--sklearn-color-fitted-level-0);\n",
       "}\n",
       "\n",
       "#sk-container-id-2 input.sk-toggleable__control:checked~div.sk-toggleable__content {\n",
       "  /* Expand drop-down */\n",
       "  max-height: 200px;\n",
       "  max-width: 100%;\n",
       "  overflow: auto;\n",
       "}\n",
       "\n",
       "#sk-container-id-2 input.sk-toggleable__control:checked~label.sk-toggleable__label-arrow:before {\n",
       "  content: \"▾\";\n",
       "}\n",
       "\n",
       "/* Pipeline/ColumnTransformer-specific style */\n",
       "\n",
       "#sk-container-id-2 div.sk-label input.sk-toggleable__control:checked~label.sk-toggleable__label {\n",
       "  color: var(--sklearn-color-text);\n",
       "  background-color: var(--sklearn-color-unfitted-level-2);\n",
       "}\n",
       "\n",
       "#sk-container-id-2 div.sk-label.fitted input.sk-toggleable__control:checked~label.sk-toggleable__label {\n",
       "  background-color: var(--sklearn-color-fitted-level-2);\n",
       "}\n",
       "\n",
       "/* Estimator-specific style */\n",
       "\n",
       "/* Colorize estimator box */\n",
       "#sk-container-id-2 div.sk-estimator input.sk-toggleable__control:checked~label.sk-toggleable__label {\n",
       "  /* unfitted */\n",
       "  background-color: var(--sklearn-color-unfitted-level-2);\n",
       "}\n",
       "\n",
       "#sk-container-id-2 div.sk-estimator.fitted input.sk-toggleable__control:checked~label.sk-toggleable__label {\n",
       "  /* fitted */\n",
       "  background-color: var(--sklearn-color-fitted-level-2);\n",
       "}\n",
       "\n",
       "#sk-container-id-2 div.sk-label label.sk-toggleable__label,\n",
       "#sk-container-id-2 div.sk-label label {\n",
       "  /* The background is the default theme color */\n",
       "  color: var(--sklearn-color-text-on-default-background);\n",
       "}\n",
       "\n",
       "/* On hover, darken the color of the background */\n",
       "#sk-container-id-2 div.sk-label:hover label.sk-toggleable__label {\n",
       "  color: var(--sklearn-color-text);\n",
       "  background-color: var(--sklearn-color-unfitted-level-2);\n",
       "}\n",
       "\n",
       "/* Label box, darken color on hover, fitted */\n",
       "#sk-container-id-2 div.sk-label.fitted:hover label.sk-toggleable__label.fitted {\n",
       "  color: var(--sklearn-color-text);\n",
       "  background-color: var(--sklearn-color-fitted-level-2);\n",
       "}\n",
       "\n",
       "/* Estimator label */\n",
       "\n",
       "#sk-container-id-2 div.sk-label label {\n",
       "  font-family: monospace;\n",
       "  font-weight: bold;\n",
       "  display: inline-block;\n",
       "  line-height: 1.2em;\n",
       "}\n",
       "\n",
       "#sk-container-id-2 div.sk-label-container {\n",
       "  text-align: center;\n",
       "}\n",
       "\n",
       "/* Estimator-specific */\n",
       "#sk-container-id-2 div.sk-estimator {\n",
       "  font-family: monospace;\n",
       "  border: 1px dotted var(--sklearn-color-border-box);\n",
       "  border-radius: 0.25em;\n",
       "  box-sizing: border-box;\n",
       "  margin-bottom: 0.5em;\n",
       "  /* unfitted */\n",
       "  background-color: var(--sklearn-color-unfitted-level-0);\n",
       "}\n",
       "\n",
       "#sk-container-id-2 div.sk-estimator.fitted {\n",
       "  /* fitted */\n",
       "  background-color: var(--sklearn-color-fitted-level-0);\n",
       "}\n",
       "\n",
       "/* on hover */\n",
       "#sk-container-id-2 div.sk-estimator:hover {\n",
       "  /* unfitted */\n",
       "  background-color: var(--sklearn-color-unfitted-level-2);\n",
       "}\n",
       "\n",
       "#sk-container-id-2 div.sk-estimator.fitted:hover {\n",
       "  /* fitted */\n",
       "  background-color: var(--sklearn-color-fitted-level-2);\n",
       "}\n",
       "\n",
       "/* Specification for estimator info (e.g. \"i\" and \"?\") */\n",
       "\n",
       "/* Common style for \"i\" and \"?\" */\n",
       "\n",
       ".sk-estimator-doc-link,\n",
       "a:link.sk-estimator-doc-link,\n",
       "a:visited.sk-estimator-doc-link {\n",
       "  float: right;\n",
       "  font-size: smaller;\n",
       "  line-height: 1em;\n",
       "  font-family: monospace;\n",
       "  background-color: var(--sklearn-color-background);\n",
       "  border-radius: 1em;\n",
       "  height: 1em;\n",
       "  width: 1em;\n",
       "  text-decoration: none !important;\n",
       "  margin-left: 0.5em;\n",
       "  text-align: center;\n",
       "  /* unfitted */\n",
       "  border: var(--sklearn-color-unfitted-level-1) 1pt solid;\n",
       "  color: var(--sklearn-color-unfitted-level-1);\n",
       "}\n",
       "\n",
       ".sk-estimator-doc-link.fitted,\n",
       "a:link.sk-estimator-doc-link.fitted,\n",
       "a:visited.sk-estimator-doc-link.fitted {\n",
       "  /* fitted */\n",
       "  border: var(--sklearn-color-fitted-level-1) 1pt solid;\n",
       "  color: var(--sklearn-color-fitted-level-1);\n",
       "}\n",
       "\n",
       "/* On hover */\n",
       "div.sk-estimator:hover .sk-estimator-doc-link:hover,\n",
       ".sk-estimator-doc-link:hover,\n",
       "div.sk-label-container:hover .sk-estimator-doc-link:hover,\n",
       ".sk-estimator-doc-link:hover {\n",
       "  /* unfitted */\n",
       "  background-color: var(--sklearn-color-unfitted-level-3);\n",
       "  color: var(--sklearn-color-background);\n",
       "  text-decoration: none;\n",
       "}\n",
       "\n",
       "div.sk-estimator.fitted:hover .sk-estimator-doc-link.fitted:hover,\n",
       ".sk-estimator-doc-link.fitted:hover,\n",
       "div.sk-label-container:hover .sk-estimator-doc-link.fitted:hover,\n",
       ".sk-estimator-doc-link.fitted:hover {\n",
       "  /* fitted */\n",
       "  background-color: var(--sklearn-color-fitted-level-3);\n",
       "  color: var(--sklearn-color-background);\n",
       "  text-decoration: none;\n",
       "}\n",
       "\n",
       "/* Span, style for the box shown on hovering the info icon */\n",
       ".sk-estimator-doc-link span {\n",
       "  display: none;\n",
       "  z-index: 9999;\n",
       "  position: relative;\n",
       "  font-weight: normal;\n",
       "  right: .2ex;\n",
       "  padding: .5ex;\n",
       "  margin: .5ex;\n",
       "  width: min-content;\n",
       "  min-width: 20ex;\n",
       "  max-width: 50ex;\n",
       "  color: var(--sklearn-color-text);\n",
       "  box-shadow: 2pt 2pt 4pt #999;\n",
       "  /* unfitted */\n",
       "  background: var(--sklearn-color-unfitted-level-0);\n",
       "  border: .5pt solid var(--sklearn-color-unfitted-level-3);\n",
       "}\n",
       "\n",
       ".sk-estimator-doc-link.fitted span {\n",
       "  /* fitted */\n",
       "  background: var(--sklearn-color-fitted-level-0);\n",
       "  border: var(--sklearn-color-fitted-level-3);\n",
       "}\n",
       "\n",
       ".sk-estimator-doc-link:hover span {\n",
       "  display: block;\n",
       "}\n",
       "\n",
       "/* \"?\"-specific style due to the `<a>` HTML tag */\n",
       "\n",
       "#sk-container-id-2 a.estimator_doc_link {\n",
       "  float: right;\n",
       "  font-size: 1rem;\n",
       "  line-height: 1em;\n",
       "  font-family: monospace;\n",
       "  background-color: var(--sklearn-color-background);\n",
       "  border-radius: 1rem;\n",
       "  height: 1rem;\n",
       "  width: 1rem;\n",
       "  text-decoration: none;\n",
       "  /* unfitted */\n",
       "  color: var(--sklearn-color-unfitted-level-1);\n",
       "  border: var(--sklearn-color-unfitted-level-1) 1pt solid;\n",
       "}\n",
       "\n",
       "#sk-container-id-2 a.estimator_doc_link.fitted {\n",
       "  /* fitted */\n",
       "  border: var(--sklearn-color-fitted-level-1) 1pt solid;\n",
       "  color: var(--sklearn-color-fitted-level-1);\n",
       "}\n",
       "\n",
       "/* On hover */\n",
       "#sk-container-id-2 a.estimator_doc_link:hover {\n",
       "  /* unfitted */\n",
       "  background-color: var(--sklearn-color-unfitted-level-3);\n",
       "  color: var(--sklearn-color-background);\n",
       "  text-decoration: none;\n",
       "}\n",
       "\n",
       "#sk-container-id-2 a.estimator_doc_link.fitted:hover {\n",
       "  /* fitted */\n",
       "  background-color: var(--sklearn-color-fitted-level-3);\n",
       "}\n",
       "</style><div id=\"sk-container-id-2\" class=\"sk-top-container\"><div class=\"sk-text-repr-fallback\"><pre>KNeighborsClassifier()</pre><b>In a Jupyter environment, please rerun this cell to show the HTML representation or trust the notebook. <br />On GitHub, the HTML representation is unable to render, please try loading this page with nbviewer.org.</b></div><div class=\"sk-container\" hidden><div class=\"sk-item\"><div class=\"sk-estimator fitted sk-toggleable\"><input class=\"sk-toggleable__control sk-hidden--visually\" id=\"sk-estimator-id-2\" type=\"checkbox\" checked><label for=\"sk-estimator-id-2\" class=\"sk-toggleable__label fitted sk-toggleable__label-arrow\"><div><div>KNeighborsClassifier</div></div><div><a class=\"sk-estimator-doc-link fitted\" rel=\"noreferrer\" target=\"_blank\" href=\"https://scikit-learn.org/1.6/modules/generated/sklearn.neighbors.KNeighborsClassifier.html\">?<span>Documentation for KNeighborsClassifier</span></a><span class=\"sk-estimator-doc-link fitted\">i<span>Fitted</span></span></div></label><div class=\"sk-toggleable__content fitted\"><pre>KNeighborsClassifier()</pre></div> </div></div></div></div>"
      ],
      "text/plain": [
       "KNeighborsClassifier()"
      ]
     },
     "execution_count": 66,
     "metadata": {},
     "output_type": "execute_result"
    }
   ],
   "source": [
    "knnclf.fit(X_train,y_train)"
   ]
  },
  {
   "cell_type": "code",
   "execution_count": 67,
   "metadata": {
    "colab": {
     "base_uri": "https://localhost:8080/"
    },
    "executionInfo": {
     "elapsed": 155,
     "status": "ok",
     "timestamp": 1639905818673,
     "user": {
      "displayName": "Indeed Inspiring",
      "photoUrl": "https://lh3.googleusercontent.com/a-/AOh14GjJtTSXVwEn_JtFhBOkt3rDxmno-6yYadcJbGXH6Q=s64",
      "userId": "12904657308681625524"
     },
     "user_tz": -330
    },
    "id": "zEWx25f59sf6",
    "outputId": "fa0a1ff8-ac29-43b2-e2fc-4950625a80de"
   },
   "outputs": [
    {
     "data": {
      "text/plain": [
       "array([0, 1, 1, 0, 1, 1, 0, 1, 1, 1, 1, 1, 1, 1, 1, 1, 1, 1, 1, 1, 1, 1,\n",
       "       1, 1, 0, 0, 1, 1, 1, 1, 1, 1, 0, 1, 1, 0, 1, 1, 1, 1, 1, 1, 1, 1,\n",
       "       1, 1, 1, 0, 1, 1, 1, 1, 1, 1, 0, 1, 1, 0])"
      ]
     },
     "execution_count": 67,
     "metadata": {},
     "output_type": "execute_result"
    }
   ],
   "source": [
    "knnclf.predict(X_test)"
   ]
  },
  {
   "cell_type": "code",
   "execution_count": 68,
   "metadata": {
    "executionInfo": {
     "elapsed": 154,
     "status": "ok",
     "timestamp": 1639905818680,
     "user": {
      "displayName": "Indeed Inspiring",
      "photoUrl": "https://lh3.googleusercontent.com/a-/AOh14GjJtTSXVwEn_JtFhBOkt3rDxmno-6yYadcJbGXH6Q=s64",
      "userId": "12904657308681625524"
     },
     "user_tz": -330
    },
    "id": "FiZYKNj69wK-"
   },
   "outputs": [],
   "source": [
    "y_pred = knnclf.predict(X_test)"
   ]
  },
  {
   "cell_type": "code",
   "execution_count": 69,
   "metadata": {
    "colab": {
     "base_uri": "https://localhost:8080/",
     "height": 282
    },
    "executionInfo": {
     "elapsed": 157,
     "status": "ok",
     "timestamp": 1639905818684,
     "user": {
      "displayName": "Indeed Inspiring",
      "photoUrl": "https://lh3.googleusercontent.com/a-/AOh14GjJtTSXVwEn_JtFhBOkt3rDxmno-6yYadcJbGXH6Q=s64",
      "userId": "12904657308681625524"
     },
     "user_tz": -330
    },
    "id": "KAKUVoz_92_c",
    "outputId": "0d9ac069-098c-4973-a1f5-4079fab9db52"
   },
   "outputs": [
    {
     "data": {
      "text/plain": [
       "<matplotlib.collections.PathCollection at 0x211c721ead0>"
      ]
     },
     "execution_count": 69,
     "metadata": {},
     "output_type": "execute_result"
    },
    {
     "data": {
      "image/png": "[encoded data removed]",
      "text/plain": [
       "<Figure size 640x480 with 1 Axes>"
      ]
     },
     "metadata": {},
     "output_type": "display_data"
    }
   ],
   "source": [
    "plt.scatter(X_test[:,0],y_test, c=y_test)"
   ]
  },
  {
   "cell_type": "code",
   "execution_count": 70,
   "metadata": {
    "colab": {
     "base_uri": "https://localhost:8080/",
     "height": 282
    },
    "executionInfo": {
     "elapsed": 143,
     "status": "ok",
     "timestamp": 1639905818688,
     "user": {
      "displayName": "Indeed Inspiring",
      "photoUrl": "https://lh3.googleusercontent.com/a-/AOh14GjJtTSXVwEn_JtFhBOkt3rDxmno-6yYadcJbGXH6Q=s64",
      "userId": "12904657308681625524"
     },
     "user_tz": -330
    },
    "id": "WnV8wXNF972s",
    "outputId": "28ee8787-87c6-4f57-c04e-df587b7367d6"
   },
   "outputs": [
    {
     "data": {
      "text/plain": [
       "<matplotlib.collections.PathCollection at 0x211c7085950>"
      ]
     },
     "execution_count": 70,
     "metadata": {},
     "output_type": "execute_result"
    },
    {
     "data": {
      "image/png": "[encoded data removed]",
      "text/plain": [
       "<Figure size 640x480 with 1 Axes>"
      ]
     },
     "metadata": {},
     "output_type": "display_data"
    }
   ],
   "source": [
    "plt.scatter(X_test[:,0],y_pred,c=y_pred)"
   ]
  },
  {
   "cell_type": "code",
   "execution_count": 71,
   "metadata": {
    "colab": {
     "base_uri": "https://localhost:8080/"
    },
    "executionInfo": {
     "elapsed": 150,
     "status": "ok",
     "timestamp": 1639905818700,
     "user": {
      "displayName": "Indeed Inspiring",
      "photoUrl": "https://lh3.googleusercontent.com/a-/AOh14GjJtTSXVwEn_JtFhBOkt3rDxmno-6yYadcJbGXH6Q=s64",
      "userId": "12904657308681625524"
     },
     "user_tz": -330
    },
    "id": "H3y_4bpI-Cfm",
    "outputId": "87158a14-7a88-42f1-e669-3e332319fe75"
   },
   "outputs": [
    {
     "data": {
      "text/plain": [
       "0.6551724137931034"
      ]
     },
     "execution_count": 71,
     "metadata": {},
     "output_type": "execute_result"
    }
   ],
   "source": [
    "metrics.accuracy_score(y_test,y_pred)"
   ]
  },
  {
   "cell_type": "code",
   "execution_count": 72,
   "metadata": {
    "executionInfo": {
     "elapsed": 149,
     "status": "ok",
     "timestamp": 1639905818704,
     "user": {
      "displayName": "Indeed Inspiring",
      "photoUrl": "https://lh3.googleusercontent.com/a-/AOh14GjJtTSXVwEn_JtFhBOkt3rDxmno-6yYadcJbGXH6Q=s64",
      "userId": "12904657308681625524"
     },
     "user_tz": -330
    },
    "id": "3sLauJuQ-MFb"
   },
   "outputs": [],
   "source": [
    "cm = metrics.confusion_matrix(y_test,y_pred)"
   ]
  },
  {
   "cell_type": "code",
   "execution_count": 73,
   "metadata": {
    "colab": {
     "base_uri": "https://localhost:8080/"
    },
    "executionInfo": {
     "elapsed": 157,
     "status": "ok",
     "timestamp": 1639905818712,
     "user": {
      "displayName": "Indeed Inspiring",
      "photoUrl": "https://lh3.googleusercontent.com/a-/AOh14GjJtTSXVwEn_JtFhBOkt3rDxmno-6yYadcJbGXH6Q=s64",
      "userId": "12904657308681625524"
     },
     "user_tz": -330
    },
    "id": "wQibFDnv-Ulz",
    "outputId": "150e3b04-cc45-4dbe-c316-142f1c74e85d"
   },
   "outputs": [
    {
     "data": {
      "text/plain": [
       "array([[ 3, 13],\n",
       "       [ 7, 35]])"
      ]
     },
     "execution_count": 73,
     "metadata": {},
     "output_type": "execute_result"
    }
   ],
   "source": [
    "cm"
   ]
  },
  {
   "cell_type": "code",
   "execution_count": 74,
   "metadata": {
    "executionInfo": {
     "elapsed": 147,
     "status": "ok",
     "timestamp": 1639905818713,
     "user": {
      "displayName": "Indeed Inspiring",
      "photoUrl": "https://lh3.googleusercontent.com/a-/AOh14GjJtTSXVwEn_JtFhBOkt3rDxmno-6yYadcJbGXH6Q=s64",
      "userId": "12904657308681625524"
     },
     "user_tz": -330
    },
    "id": "jrhP-9rs-Yu9"
   },
   "outputs": [],
   "source": [
    "# Support Vector Machine\n",
    "from sklearn.svm import SVC"
   ]
  },
  {
   "cell_type": "code",
   "execution_count": 75,
   "metadata": {
    "executionInfo": {
     "elapsed": 878,
     "status": "ok",
     "timestamp": 1639905819446,
     "user": {
      "displayName": "Indeed Inspiring",
      "photoUrl": "https://lh3.googleusercontent.com/a-/AOh14GjJtTSXVwEn_JtFhBOkt3rDxmno-6yYadcJbGXH6Q=s64",
      "userId": "12904657308681625524"
     },
     "user_tz": -330
    },
    "id": "3f1MBpid-xsU"
   },
   "outputs": [],
   "source": [
    "svcrbf = SVC(random_state=0)\n",
    "svclin = SVC(random_state=0)"
   ]
  },
  {
   "cell_type": "code",
   "execution_count": 76,
   "metadata": {
    "colab": {
     "base_uri": "https://localhost:8080/"
    },
    "executionInfo": {
     "elapsed": 65,
     "status": "ok",
     "timestamp": 1639905819447,
     "user": {
      "displayName": "Indeed Inspiring",
      "photoUrl": "https://lh3.googleusercontent.com/a-/AOh14GjJtTSXVwEn_JtFhBOkt3rDxmno-6yYadcJbGXH6Q=s64",
      "userId": "12904657308681625524"
     },
     "user_tz": -330
    },
    "id": "JRbuRUHE-4MD",
    "outputId": "00909c0f-9a87-45d3-d5c4-e3552e9dea16"
   },
   "outputs": [
    {
     "data": {
      "text/html": [
       "<style>#sk-container-id-3 {\n",
       "  /* Definition of color scheme common for light and dark mode */\n",
       "  --sklearn-color-text: #000;\n",
       "  --sklearn-color-text-muted: #666;\n",
       "  --sklearn-color-line: gray;\n",
       "  /* Definition of color scheme for unfitted estimators */\n",
       "  --sklearn-color-unfitted-level-0: #fff5e6;\n",
       "  --sklearn-color-unfitted-level-1: #f6e4d2;\n",
       "  --sklearn-color-unfitted-level-2: #ffe0b3;\n",
       "  --sklearn-color-unfitted-level-3: chocolate;\n",
       "  /* Definition of color scheme for fitted estimators */\n",
       "  --sklearn-color-fitted-level-0: #f0f8ff;\n",
       "  --sklearn-color-fitted-level-1: #d4ebff;\n",
       "  --sklearn-color-fitted-level-2: #b3dbfd;\n",
       "  --sklearn-color-fitted-level-3: cornflowerblue;\n",
       "\n",
       "  /* Specific color for light theme */\n",
       "  --sklearn-color-text-on-default-background: var(--sg-text-color, var(--theme-code-foreground, var(--jp-content-font-color1, black)));\n",
       "  --sklearn-color-background: var(--sg-background-color, var(--theme-background, var(--jp-layout-color0, white)));\n",
       "  --sklearn-color-border-box: var(--sg-text-color, var(--theme-code-foreground, var(--jp-content-font-color1, black)));\n",
       "  --sklearn-color-icon: #696969;\n",
       "\n",
       "  @media (prefers-color-scheme: dark) {\n",
       "    /* Redefinition of color scheme for dark theme */\n",
       "    --sklearn-color-text-on-default-background: var(--sg-text-color, var(--theme-code-foreground, var(--jp-content-font-color1, white)));\n",
       "    --sklearn-color-background: var(--sg-background-color, var(--theme-background, var(--jp-layout-color0, #111)));\n",
       "    --sklearn-color-border-box: var(--sg-text-color, var(--theme-code-foreground, var(--jp-content-font-color1, white)));\n",
       "    --sklearn-color-icon: #878787;\n",
       "  }\n",
       "}\n",
       "\n",
       "#sk-container-id-3 {\n",
       "  color: var(--sklearn-color-text);\n",
       "}\n",
       "\n",
       "#sk-container-id-3 pre {\n",
       "  padding: 0;\n",
       "}\n",
       "\n",
       "#sk-container-id-3 input.sk-hidden--visually {\n",
       "  border: 0;\n",
       "  clip: rect(1px 1px 1px 1px);\n",
       "  clip: rect(1px, 1px, 1px, 1px);\n",
       "  height: 1px;\n",
       "  margin: -1px;\n",
       "  overflow: hidden;\n",
       "  padding: 0;\n",
       "  position: absolute;\n",
       "  width: 1px;\n",
       "}\n",
       "\n",
       "#sk-container-id-3 div.sk-dashed-wrapped {\n",
       "  border: 1px dashed var(--sklearn-color-line);\n",
       "  margin: 0 0.4em 0.5em 0.4em;\n",
       "  box-sizing: border-box;\n",
       "  padding-bottom: 0.4em;\n",
       "  background-color: var(--sklearn-color-background);\n",
       "}\n",
       "\n",
       "#sk-container-id-3 div.sk-container {\n",
       "  /* jupyter's `normalize.less` sets `[hidden] { display: none; }`\n",
       "     but bootstrap.min.css set `[hidden] { display: none !important; }`\n",
       "     so we also need the `!important` here to be able to override the\n",
       "     default hidden behavior on the sphinx rendered scikit-learn.org.\n",
       "     See: https://github.com/scikit-learn/scikit-learn/issues/21755 */\n",
       "  display: inline-block !important;\n",
       "  position: relative;\n",
       "}\n",
       "\n",
       "#sk-container-id-3 div.sk-text-repr-fallback {\n",
       "  display: none;\n",
       "}\n",
       "\n",
       "div.sk-parallel-item,\n",
       "div.sk-serial,\n",
       "div.sk-item {\n",
       "  /* draw centered vertical line to link estimators */\n",
       "  background-image: linear-gradient(var(--sklearn-color-text-on-default-background), var(--sklearn-color-text-on-default-background));\n",
       "  background-size: 2px 100%;\n",
       "  background-repeat: no-repeat;\n",
       "  background-position: center center;\n",
       "}\n",
       "\n",
       "/* Parallel-specific style estimator block */\n",
       "\n",
       "#sk-container-id-3 div.sk-parallel-item::after {\n",
       "  content: \"\";\n",
       "  width: 100%;\n",
       "  border-bottom: 2px solid var(--sklearn-color-text-on-default-background);\n",
       "  flex-grow: 1;\n",
       "}\n",
       "\n",
       "#sk-container-id-3 div.sk-parallel {\n",
       "  display: flex;\n",
       "  align-items: stretch;\n",
       "  justify-content: center;\n",
       "  background-color: var(--sklearn-color-background);\n",
       "  position: relative;\n",
       "}\n",
       "\n",
       "#sk-container-id-3 div.sk-parallel-item {\n",
       "  display: flex;\n",
       "  flex-direction: column;\n",
       "}\n",
       "\n",
       "#sk-container-id-3 div.sk-parallel-item:first-child::after {\n",
       "  align-self: flex-end;\n",
       "  width: 50%;\n",
       "}\n",
       "\n",
       "#sk-container-id-3 div.sk-parallel-item:last-child::after {\n",
       "  align-self: flex-start;\n",
       "  width: 50%;\n",
       "}\n",
       "\n",
       "#sk-container-id-3 div.sk-parallel-item:only-child::after {\n",
       "  width: 0;\n",
       "}\n",
       "\n",
       "/* Serial-specific style estimator block */\n",
       "\n",
       "#sk-container-id-3 div.sk-serial {\n",
       "  display: flex;\n",
       "  flex-direction: column;\n",
       "  align-items: center;\n",
       "  background-color: var(--sklearn-color-background);\n",
       "  padding-right: 1em;\n",
       "  padding-left: 1em;\n",
       "}\n",
       "\n",
       "\n",
       "/* Toggleable style: style used for estimator/Pipeline/ColumnTransformer box that is\n",
       "clickable and can be expanded/collapsed.\n",
       "- Pipeline and ColumnTransformer use this feature and define the default style\n",
       "- Estimators will overwrite some part of the style using the `sk-estimator` class\n",
       "*/\n",
       "\n",
       "/* Pipeline and ColumnTransformer style (default) */\n",
       "\n",
       "#sk-container-id-3 div.sk-toggleable {\n",
       "  /* Default theme specific background. It is overwritten whether we have a\n",
       "  specific estimator or a Pipeline/ColumnTransformer */\n",
       "  background-color: var(--sklearn-color-background);\n",
       "}\n",
       "\n",
       "/* Toggleable label */\n",
       "#sk-container-id-3 label.sk-toggleable__label {\n",
       "  cursor: pointer;\n",
       "  display: flex;\n",
       "  width: 100%;\n",
       "  margin-bottom: 0;\n",
       "  padding: 0.5em;\n",
       "  box-sizing: border-box;\n",
       "  text-align: center;\n",
       "  align-items: start;\n",
       "  justify-content: space-between;\n",
       "  gap: 0.5em;\n",
       "}\n",
       "\n",
       "#sk-container-id-3 label.sk-toggleable__label .caption {\n",
       "  font-size: 0.6rem;\n",
       "  font-weight: lighter;\n",
       "  color: var(--sklearn-color-text-muted);\n",
       "}\n",
       "\n",
       "#sk-container-id-3 label.sk-toggleable__label-arrow:before {\n",
       "  /* Arrow on the left of the label */\n",
       "  content: \"▸\";\n",
       "  float: left;\n",
       "  margin-right: 0.25em;\n",
       "  color: var(--sklearn-color-icon);\n",
       "}\n",
       "\n",
       "#sk-container-id-3 label.sk-toggleable__label-arrow:hover:before {\n",
       "  color: var(--sklearn-color-text);\n",
       "}\n",
       "\n",
       "/* Toggleable content - dropdown */\n",
       "\n",
       "#sk-container-id-3 div.sk-toggleable__content {\n",
       "  max-height: 0;\n",
       "  max-width: 0;\n",
       "  overflow: hidden;\n",
       "  text-align: left;\n",
       "  /* unfitted */\n",
       "  background-color: var(--sklearn-color-unfitted-level-0);\n",
       "}\n",
       "\n",
       "#sk-container-id-3 div.sk-toggleable__content.fitted {\n",
       "  /* fitted */\n",
       "  background-color: var(--sklearn-color-fitted-level-0);\n",
       "}\n",
       "\n",
       "#sk-container-id-3 div.sk-toggleable__content pre {\n",
       "  margin: 0.2em;\n",
       "  border-radius: 0.25em;\n",
       "  color: var(--sklearn-color-text);\n",
       "  /* unfitted */\n",
       "  background-color: var(--sklearn-color-unfitted-level-0);\n",
       "}\n",
       "\n",
       "#sk-container-id-3 div.sk-toggleable__content.fitted pre {\n",
       "  /* unfitted */\n",
       "  background-color: var(--sklearn-color-fitted-level-0);\n",
       "}\n",
       "\n",
       "#sk-container-id-3 input.sk-toggleable__control:checked~div.sk-toggleable__content {\n",
       "  /* Expand drop-down */\n",
       "  max-height: 200px;\n",
       "  max-width: 100%;\n",
       "  overflow: auto;\n",
       "}\n",
       "\n",
       "#sk-container-id-3 input.sk-toggleable__control:checked~label.sk-toggleable__label-arrow:before {\n",
       "  content: \"▾\";\n",
       "}\n",
       "\n",
       "/* Pipeline/ColumnTransformer-specific style */\n",
       "\n",
       "#sk-container-id-3 div.sk-label input.sk-toggleable__control:checked~label.sk-toggleable__label {\n",
       "  color: var(--sklearn-color-text);\n",
       "  background-color: var(--sklearn-color-unfitted-level-2);\n",
       "}\n",
       "\n",
       "#sk-container-id-3 div.sk-label.fitted input.sk-toggleable__control:checked~label.sk-toggleable__label {\n",
       "  background-color: var(--sklearn-color-fitted-level-2);\n",
       "}\n",
       "\n",
       "/* Estimator-specific style */\n",
       "\n",
       "/* Colorize estimator box */\n",
       "#sk-container-id-3 div.sk-estimator input.sk-toggleable__control:checked~label.sk-toggleable__label {\n",
       "  /* unfitted */\n",
       "  background-color: var(--sklearn-color-unfitted-level-2);\n",
       "}\n",
       "\n",
       "#sk-container-id-3 div.sk-estimator.fitted input.sk-toggleable__control:checked~label.sk-toggleable__label {\n",
       "  /* fitted */\n",
       "  background-color: var(--sklearn-color-fitted-level-2);\n",
       "}\n",
       "\n",
       "#sk-container-id-3 div.sk-label label.sk-toggleable__label,\n",
       "#sk-container-id-3 div.sk-label label {\n",
       "  /* The background is the default theme color */\n",
       "  color: var(--sklearn-color-text-on-default-background);\n",
       "}\n",
       "\n",
       "/* On hover, darken the color of the background */\n",
       "#sk-container-id-3 div.sk-label:hover label.sk-toggleable__label {\n",
       "  color: var(--sklearn-color-text);\n",
       "  background-color: var(--sklearn-color-unfitted-level-2);\n",
       "}\n",
       "\n",
       "/* Label box, darken color on hover, fitted */\n",
       "#sk-container-id-3 div.sk-label.fitted:hover label.sk-toggleable__label.fitted {\n",
       "  color: var(--sklearn-color-text);\n",
       "  background-color: var(--sklearn-color-fitted-level-2);\n",
       "}\n",
       "\n",
       "/* Estimator label */\n",
       "\n",
       "#sk-container-id-3 div.sk-label label {\n",
       "  font-family: monospace;\n",
       "  font-weight: bold;\n",
       "  display: inline-block;\n",
       "  line-height: 1.2em;\n",
       "}\n",
       "\n",
       "#sk-container-id-3 div.sk-label-container {\n",
       "  text-align: center;\n",
       "}\n",
       "\n",
       "/* Estimator-specific */\n",
       "#sk-container-id-3 div.sk-estimator {\n",
       "  font-family: monospace;\n",
       "  border: 1px dotted var(--sklearn-color-border-box);\n",
       "  border-radius: 0.25em;\n",
       "  box-sizing: border-box;\n",
       "  margin-bottom: 0.5em;\n",
       "  /* unfitted */\n",
       "  background-color: var(--sklearn-color-unfitted-level-0);\n",
       "}\n",
       "\n",
       "#sk-container-id-3 div.sk-estimator.fitted {\n",
       "  /* fitted */\n",
       "  background-color: var(--sklearn-color-fitted-level-0);\n",
       "}\n",
       "\n",
       "/* on hover */\n",
       "#sk-container-id-3 div.sk-estimator:hover {\n",
       "  /* unfitted */\n",
       "  background-color: var(--sklearn-color-unfitted-level-2);\n",
       "}\n",
       "\n",
       "#sk-container-id-3 div.sk-estimator.fitted:hover {\n",
       "  /* fitted */\n",
       "  background-color: var(--sklearn-color-fitted-level-2);\n",
       "}\n",
       "\n",
       "/* Specification for estimator info (e.g. \"i\" and \"?\") */\n",
       "\n",
       "/* Common style for \"i\" and \"?\" */\n",
       "\n",
       ".sk-estimator-doc-link,\n",
       "a:link.sk-estimator-doc-link,\n",
       "a:visited.sk-estimator-doc-link {\n",
       "  float: right;\n",
       "  font-size: smaller;\n",
       "  line-height: 1em;\n",
       "  font-family: monospace;\n",
       "  background-color: var(--sklearn-color-background);\n",
       "  border-radius: 1em;\n",
       "  height: 1em;\n",
       "  width: 1em;\n",
       "  text-decoration: none !important;\n",
       "  margin-left: 0.5em;\n",
       "  text-align: center;\n",
       "  /* unfitted */\n",
       "  border: var(--sklearn-color-unfitted-level-1) 1pt solid;\n",
       "  color: var(--sklearn-color-unfitted-level-1);\n",
       "}\n",
       "\n",
       ".sk-estimator-doc-link.fitted,\n",
       "a:link.sk-estimator-doc-link.fitted,\n",
       "a:visited.sk-estimator-doc-link.fitted {\n",
       "  /* fitted */\n",
       "  border: var(--sklearn-color-fitted-level-1) 1pt solid;\n",
       "  color: var(--sklearn-color-fitted-level-1);\n",
       "}\n",
       "\n",
       "/* On hover */\n",
       "div.sk-estimator:hover .sk-estimator-doc-link:hover,\n",
       ".sk-estimator-doc-link:hover,\n",
       "div.sk-label-container:hover .sk-estimator-doc-link:hover,\n",
       ".sk-estimator-doc-link:hover {\n",
       "  /* unfitted */\n",
       "  background-color: var(--sklearn-color-unfitted-level-3);\n",
       "  color: var(--sklearn-color-background);\n",
       "  text-decoration: none;\n",
       "}\n",
       "\n",
       "div.sk-estimator.fitted:hover .sk-estimator-doc-link.fitted:hover,\n",
       ".sk-estimator-doc-link.fitted:hover,\n",
       "div.sk-label-container:hover .sk-estimator-doc-link.fitted:hover,\n",
       ".sk-estimator-doc-link.fitted:hover {\n",
       "  /* fitted */\n",
       "  background-color: var(--sklearn-color-fitted-level-3);\n",
       "  color: var(--sklearn-color-background);\n",
       "  text-decoration: none;\n",
       "}\n",
       "\n",
       "/* Span, style for the box shown on hovering the info icon */\n",
       ".sk-estimator-doc-link span {\n",
       "  display: none;\n",
       "  z-index: 9999;\n",
       "  position: relative;\n",
       "  font-weight: normal;\n",
       "  right: .2ex;\n",
       "  padding: .5ex;\n",
       "  margin: .5ex;\n",
       "  width: min-content;\n",
       "  min-width: 20ex;\n",
       "  max-width: 50ex;\n",
       "  color: var(--sklearn-color-text);\n",
       "  box-shadow: 2pt 2pt 4pt #999;\n",
       "  /* unfitted */\n",
       "  background: var(--sklearn-color-unfitted-level-0);\n",
       "  border: .5pt solid var(--sklearn-color-unfitted-level-3);\n",
       "}\n",
       "\n",
       ".sk-estimator-doc-link.fitted span {\n",
       "  /* fitted */\n",
       "  background: var(--sklearn-color-fitted-level-0);\n",
       "  border: var(--sklearn-color-fitted-level-3);\n",
       "}\n",
       "\n",
       ".sk-estimator-doc-link:hover span {\n",
       "  display: block;\n",
       "}\n",
       "\n",
       "/* \"?\"-specific style due to the `<a>` HTML tag */\n",
       "\n",
       "#sk-container-id-3 a.estimator_doc_link {\n",
       "  float: right;\n",
       "  font-size: 1rem;\n",
       "  line-height: 1em;\n",
       "  font-family: monospace;\n",
       "  background-color: var(--sklearn-color-background);\n",
       "  border-radius: 1rem;\n",
       "  height: 1rem;\n",
       "  width: 1rem;\n",
       "  text-decoration: none;\n",
       "  /* unfitted */\n",
       "  color: var(--sklearn-color-unfitted-level-1);\n",
       "  border: var(--sklearn-color-unfitted-level-1) 1pt solid;\n",
       "}\n",
       "\n",
       "#sk-container-id-3 a.estimator_doc_link.fitted {\n",
       "  /* fitted */\n",
       "  border: var(--sklearn-color-fitted-level-1) 1pt solid;\n",
       "  color: var(--sklearn-color-fitted-level-1);\n",
       "}\n",
       "\n",
       "/* On hover */\n",
       "#sk-container-id-3 a.estimator_doc_link:hover {\n",
       "  /* unfitted */\n",
       "  background-color: var(--sklearn-color-unfitted-level-3);\n",
       "  color: var(--sklearn-color-background);\n",
       "  text-decoration: none;\n",
       "}\n",
       "\n",
       "#sk-container-id-3 a.estimator_doc_link.fitted:hover {\n",
       "  /* fitted */\n",
       "  background-color: var(--sklearn-color-fitted-level-3);\n",
       "}\n",
       "</style><div id=\"sk-container-id-3\" class=\"sk-top-container\"><div class=\"sk-text-repr-fallback\"><pre>SVC(random_state=0)</pre><b>In a Jupyter environment, please rerun this cell to show the HTML representation or trust the notebook. <br />On GitHub, the HTML representation is unable to render, please try loading this page with nbviewer.org.</b></div><div class=\"sk-container\" hidden><div class=\"sk-item\"><div class=\"sk-estimator fitted sk-toggleable\"><input class=\"sk-toggleable__control sk-hidden--visually\" id=\"sk-estimator-id-3\" type=\"checkbox\" checked><label for=\"sk-estimator-id-3\" class=\"sk-toggleable__label fitted sk-toggleable__label-arrow\"><div><div>SVC</div></div><div><a class=\"sk-estimator-doc-link fitted\" rel=\"noreferrer\" target=\"_blank\" href=\"https://scikit-learn.org/1.6/modules/generated/sklearn.svm.SVC.html\">?<span>Documentation for SVC</span></a><span class=\"sk-estimator-doc-link fitted\">i<span>Fitted</span></span></div></label><div class=\"sk-toggleable__content fitted\"><pre>SVC(random_state=0)</pre></div> </div></div></div></div>"
      ],
      "text/plain": [
       "SVC(random_state=0)"
      ]
     },
     "execution_count": 76,
     "metadata": {},
     "output_type": "execute_result"
    }
   ],
   "source": [
    "svcrbf.fit(X_train,y_train)\n",
    "svclin.fit(X_train,y_train)"
   ]
  },
  {
   "cell_type": "code",
   "execution_count": 77,
   "metadata": {
    "executionInfo": {
     "elapsed": 61,
     "status": "ok",
     "timestamp": 1639905819448,
     "user": {
      "displayName": "Indeed Inspiring",
      "photoUrl": "https://lh3.googleusercontent.com/a-/AOh14GjJtTSXVwEn_JtFhBOkt3rDxmno-6yYadcJbGXH6Q=s64",
      "userId": "12904657308681625524"
     },
     "user_tz": -330
    },
    "id": "jN4xgFCq_MMO"
   },
   "outputs": [],
   "source": [
    "y_predr = svcrbf.predict(X_test)\n",
    "y_predl = svclin.predict(X_test)"
   ]
  },
  {
   "cell_type": "code",
   "execution_count": 78,
   "metadata": {
    "colab": {
     "base_uri": "https://localhost:8080/"
    },
    "executionInfo": {
     "elapsed": 61,
     "status": "ok",
     "timestamp": 1639905819449,
     "user": {
      "displayName": "Indeed Inspiring",
      "photoUrl": "https://lh3.googleusercontent.com/a-/AOh14GjJtTSXVwEn_JtFhBOkt3rDxmno-6yYadcJbGXH6Q=s64",
      "userId": "12904657308681625524"
     },
     "user_tz": -330
    },
    "id": "Ku3Gni7B_XeX",
    "outputId": "96237a3d-ea71-4cc7-8896-218b223181c4"
   },
   "outputs": [
    {
     "data": {
      "text/plain": [
       "0.6724137931034483"
      ]
     },
     "execution_count": 78,
     "metadata": {},
     "output_type": "execute_result"
    }
   ],
   "source": [
    "#rbf svm\n",
    "metrics.accuracy_score(y_test,y_predr)"
   ]
  },
  {
   "cell_type": "code",
   "execution_count": 79,
   "metadata": {
    "colab": {
     "base_uri": "https://localhost:8080/"
    },
    "executionInfo": {
     "elapsed": 44,
     "status": "ok",
     "timestamp": 1639905819450,
     "user": {
      "displayName": "Indeed Inspiring",
      "photoUrl": "https://lh3.googleusercontent.com/a-/AOh14GjJtTSXVwEn_JtFhBOkt3rDxmno-6yYadcJbGXH6Q=s64",
      "userId": "12904657308681625524"
     },
     "user_tz": -330
    },
    "id": "7OVp1MDp_hcB",
    "outputId": "fbf520f0-8894-4cec-97e2-1665d4bac722"
   },
   "outputs": [
    {
     "data": {
      "text/plain": [
       "0.6724137931034483"
      ]
     },
     "execution_count": 79,
     "metadata": {},
     "output_type": "execute_result"
    }
   ],
   "source": [
    "#lin svm\n",
    "metrics.accuracy_score(y_test,y_predl)"
   ]
  },
  {
   "cell_type": "code",
   "execution_count": null,
   "metadata": {
    "executionInfo": {
     "elapsed": 30,
     "status": "ok",
     "timestamp": 1639905819451,
     "user": {
      "displayName": "Indeed Inspiring",
      "photoUrl": "https://lh3.googleusercontent.com/a-/AOh14GjJtTSXVwEn_JtFhBOkt3rDxmno-6yYadcJbGXH6Q=s64",
      "userId": "12904657308681625524"
     },
     "user_tz": -330
    },
    "id": "l_YgpHUt_o42"
   },
   "outputs": [],
   "source": []
  }
 ],
 "metadata": {
  "colab": {
   "authorship_tag": "ABX9TyOVld5duR79GnWp344a7CLF",
   "name": "Project 2 - Loan Prediction.ipynb",
   "provenance": []
  },
  "kernelspec": {
   "display_name": "Python 3 (ipykernel)",
   "language": "python",
   "name": "python3"
  },
  "language_info": {
   "codemirror_mode": {
    "name": "ipython",
    "version": 3
   },
   "file_extension": ".py",
   "mimetype": "text/x-python",
   "name": "python",
   "nbconvert_exporter": "python",
   "pygments_lexer": "ipython3",
   "version": "3.13.2"
  }
 },
 "nbformat": 4,
 "nbformat_minor": 4
}
