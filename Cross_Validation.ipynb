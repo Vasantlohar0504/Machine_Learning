{
 "cells": [
  {
   "cell_type": "code",
   "execution_count": 2,
   "metadata": {
    "colab": {
     "base_uri": "https://localhost:8080/",
     "height": 304
    },
    "executionInfo": {
     "elapsed": 426,
     "status": "error",
     "timestamp": 1637637090010,
     "user": {
      "displayName": "Prushal Technology",
      "photoUrl": "https://lh3.googleusercontent.com/a-/AOh14GggMcnEROBgQ1jjOx3pnkFczCjTo5CLAqFufHWFAQ=s64",
      "userId": "03982334573993321183"
     },
     "user_tz": -330
    },
    "id": "zV7pShYdvFG-",
    "outputId": "ad3c910c-1ef5-446b-cdb6-648d5dd3f61b"
   },
   "outputs": [
    {
     "ename": "ImportError",
     "errorDetails": {
      "actions": [
       {
        "action": "open_url",
        "actionText": "Open Examples",
        "url": "/notebooks/snippets/importing_libraries.ipynb"
       }
      ]
     },
     "evalue": "ignored",
     "output_type": "error",
     "traceback": [
      "\u001b[0;31m---------------------------------------------------------------------------\u001b[0m",
      "\u001b[0;31mImportError\u001b[0m                               Traceback (most recent call last)",
      "\u001b[0;32m<ipython-input-2-7b5f60c5197c>\u001b[0m in \u001b[0;36m<module>\u001b[0;34m()\u001b[0m\n\u001b[0;32m----> 1\u001b[0;31m \u001b[0;32mfrom\u001b[0m \u001b[0msklearn\u001b[0m \u001b[0;32mimport\u001b[0m \u001b[0mcross_validation\u001b[0m\u001b[0;34m\u001b[0m\u001b[0;34m\u001b[0m\u001b[0m\n\u001b[0m",
      "\u001b[0;31mImportError\u001b[0m: cannot import name 'cross_validation' from 'sklearn' (/usr/local/lib/python3.7/dist-packages/sklearn/__init__.py)",
      "",
      "\u001b[0;31m---------------------------------------------------------------------------\u001b[0;32m\nNOTE: If your import is failing due to a missing package, you can\nmanually install dependencies using either !pip or !apt.\n\nTo view examples of installing some common dependencies, click the\n\"Open Examples\" button below.\n\u001b[0;31m---------------------------------------------------------------------------\u001b[0m\n"
     ]
    }
   ],
   "source": [
    "from sklearn import cross_validation"
   ]
  },
  {
   "cell_type": "code",
   "execution_count": null,
   "metadata": {
    "executionInfo": {
     "elapsed": 398,
     "status": "aborted",
     "timestamp": 1637637081010,
     "user": {
      "displayName": "Prushal Technology",
      "photoUrl": "https://lh3.googleusercontent.com/a-/AOh14GggMcnEROBgQ1jjOx3pnkFczCjTo5CLAqFufHWFAQ=s64",
      "userId": "03982334573993321183"
     },
     "user_tz": -330
    },
    "id": "yhc6wYrRxptF"
   },
   "outputs": [],
   "source": [
    "# k = 10"
   ]
  },
  {
   "cell_type": "code",
   "execution_count": 4,
   "metadata": {
    "executionInfo": {
     "elapsed": 456,
     "status": "ok",
     "timestamp": 1637637187924,
     "user": {
      "displayName": "Prushal Technology",
      "photoUrl": "https://lh3.googleusercontent.com/a-/AOh14GggMcnEROBgQ1jjOx3pnkFczCjTo5CLAqFufHWFAQ=s64",
      "userId": "03982334573993321183"
     },
     "user_tz": -330
    },
    "id": "DsEkXWIOxsIS"
   },
   "outputs": [],
   "source": [
    "from sklearn.model_selection import cross_validate"
   ]
  },
  {
   "cell_type": "code",
   "execution_count": 5,
   "metadata": {
    "executionInfo": {
     "elapsed": 414,
     "status": "ok",
     "timestamp": 1637637499307,
     "user": {
      "displayName": "Prushal Technology",
      "photoUrl": "https://lh3.googleusercontent.com/a-/AOh14GggMcnEROBgQ1jjOx3pnkFczCjTo5CLAqFufHWFAQ=s64",
      "userId": "03982334573993321183"
     },
     "user_tz": -330
    },
    "id": "lpmtobLsyCf9"
   },
   "outputs": [],
   "source": [
    "# data = cross_validate()"
   ]
  },
  {
   "cell_type": "code",
   "execution_count": 7,
   "metadata": {
    "executionInfo": {
     "elapsed": 810,
     "status": "ok",
     "timestamp": 1637637536985,
     "user": {
      "displayName": "Prushal Technology",
      "photoUrl": "https://lh3.googleusercontent.com/a-/AOh14GggMcnEROBgQ1jjOx3pnkFczCjTo5CLAqFufHWFAQ=s64",
      "userId": "03982334573993321183"
     },
     "user_tz": -330
    },
    "id": "qCBgbefQzSTV"
   },
   "outputs": [],
   "source": [
    "from sklearn.model_selection import train_test_split"
   ]
  },
  {
   "cell_type": "code",
   "execution_count": 9,
   "metadata": {
    "colab": {
     "base_uri": "https://localhost:8080/"
    },
    "executionInfo": {
     "elapsed": 415,
     "status": "ok",
     "timestamp": 1637637574806,
     "user": {
      "displayName": "Prushal Technology",
      "photoUrl": "https://lh3.googleusercontent.com/a-/AOh14GggMcnEROBgQ1jjOx3pnkFczCjTo5CLAqFufHWFAQ=s64",
      "userId": "03982334573993321183"
     },
     "user_tz": -330
    },
    "id": "hx-oRcN2zZ6W",
    "outputId": "626fed21-1d36-4735-f4d4-717880d14641"
   },
   "outputs": [
    {
     "data": {
      "text/plain": [
       "((150, 4), (150,))"
      ]
     },
     "execution_count": 9,
     "metadata": {},
     "output_type": "execute_result"
    }
   ],
   "source": [
    "from sklearn import datasets\n",
    "from sklearn import svm\n",
    "\n",
    "X, y = datasets.load_iris(return_X_y=True)\n",
    "X.shape, y.shape"
   ]
  },
  {
   "cell_type": "code",
   "execution_count": 10,
   "metadata": {
    "colab": {
     "base_uri": "https://localhost:8080/"
    },
    "executionInfo": {
     "elapsed": 449,
     "status": "ok",
     "timestamp": 1637637604725,
     "user": {
      "displayName": "Prushal Technology",
      "photoUrl": "https://lh3.googleusercontent.com/a-/AOh14GggMcnEROBgQ1jjOx3pnkFczCjTo5CLAqFufHWFAQ=s64",
      "userId": "03982334573993321183"
     },
     "user_tz": -330
    },
    "id": "7IKS2ZAtzd8K",
    "outputId": "e724f835-f71d-4739-8645-d0be5cc720b4"
   },
   "outputs": [
    {
     "data": {
      "text/plain": [
       "0.9666666666666667"
      ]
     },
     "execution_count": 10,
     "metadata": {},
     "output_type": "execute_result"
    }
   ],
   "source": [
    "X_train, X_test, y_train, y_test = train_test_split(X, y, test_size=0.4, random_state=0)\n",
    "\n",
    "X_train.shape, y_train.shape\n",
    "\n",
    "X_test.shape, y_test.shape\n",
    "\n",
    "\n",
    "clf = svm.SVC(kernel='linear', C=1).fit(X_train, y_train)\n",
    "clf.score(X_test, y_test)"
   ]
  },
  {
   "cell_type": "code",
   "execution_count": 11,
   "metadata": {
    "colab": {
     "base_uri": "https://localhost:8080/"
    },
    "executionInfo": {
     "elapsed": 406,
     "status": "ok",
     "timestamp": 1637637662823,
     "user": {
      "displayName": "Prushal Technology",
      "photoUrl": "https://lh3.googleusercontent.com/a-/AOh14GggMcnEROBgQ1jjOx3pnkFczCjTo5CLAqFufHWFAQ=s64",
      "userId": "03982334573993321183"
     },
     "user_tz": -330
    },
    "id": "PkKIz-O8zsCG",
    "outputId": "92f88411-2e5f-4ca0-c0de-511dc308d3bf"
   },
   "outputs": [
    {
     "data": {
      "text/plain": [
       "array([0.96666667, 1.        , 0.96666667, 0.96666667, 1.        ])"
      ]
     },
     "execution_count": 11,
     "metadata": {},
     "output_type": "execute_result"
    }
   ],
   "source": [
    "from sklearn.model_selection import cross_val_score\n",
    "clf = svm.SVC(kernel='linear', C=1, random_state=42)\n",
    "scores = cross_val_score(clf, X, y, cv=5)\n",
    "scores"
   ]
  },
  {
   "cell_type": "code",
   "execution_count": 13,
   "metadata": {
    "colab": {
     "base_uri": "https://localhost:8080/"
    },
    "executionInfo": {
     "elapsed": 11,
     "status": "ok",
     "timestamp": 1637637685699,
     "user": {
      "displayName": "Prushal Technology",
      "photoUrl": "https://lh3.googleusercontent.com/a-/AOh14GggMcnEROBgQ1jjOx3pnkFczCjTo5CLAqFufHWFAQ=s64",
      "userId": "03982334573993321183"
     },
     "user_tz": -330
    },
    "id": "I6LNdxeOz6MO",
    "outputId": "dd992b60-59c0-498d-c78f-c3c0d00ab167"
   },
   "outputs": [
    {
     "name": "stdout",
     "output_type": "stream",
     "text": [
      "0.9800000000000001\n"
     ]
    }
   ],
   "source": [
    "print(scores.mean())"
   ]
  },
  {
   "cell_type": "code",
   "execution_count": 14,
   "metadata": {
    "colab": {
     "base_uri": "https://localhost:8080/"
    },
    "executionInfo": {
     "elapsed": 390,
     "status": "ok",
     "timestamp": 1637637698410,
     "user": {
      "displayName": "Prushal Technology",
      "photoUrl": "https://lh3.googleusercontent.com/a-/AOh14GggMcnEROBgQ1jjOx3pnkFczCjTo5CLAqFufHWFAQ=s64",
      "userId": "03982334573993321183"
     },
     "user_tz": -330
    },
    "id": "psrzPdaFz_Dm",
    "outputId": "e2bb3286-0722-43c3-de08-d84454b163c8"
   },
   "outputs": [
    {
     "name": "stdout",
     "output_type": "stream",
     "text": [
      "0.016329931618554516\n"
     ]
    }
   ],
   "source": [
    "print(scores.std())"
   ]
  },
  {
   "cell_type": "code",
   "execution_count": null,
   "metadata": {
    "id": "1NWKwEa30CoE"
   },
   "outputs": [],
   "source": []
  }
 ],
 "metadata": {
  "colab": {
   "authorship_tag": "ABX9TyNyewyxT7kJdgbuCE0CCoCH",
   "name": "Module 10.2 - Cross Validation.ipynb",
   "provenance": []
  },
  "kernelspec": {
   "display_name": "Python 3 (ipykernel)",
   "language": "python",
   "name": "python3"
  },
  "language_info": {
   "codemirror_mode": {
    "name": "ipython",
    "version": 3
   },
   "file_extension": ".py",
   "mimetype": "text/x-python",
   "name": "python",
   "nbconvert_exporter": "python",
   "pygments_lexer": "ipython3",
   "version": "3.13.2"
  }
 },
 "nbformat": 4,
 "nbformat_minor": 4
}
